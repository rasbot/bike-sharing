{
 "cells": [
  {
   "cell_type": "markdown",
   "metadata": {},
   "source": [
    "# Predict Bike Sharing Demand with AutoGluon Template"
   ]
  },
  {
   "cell_type": "markdown",
   "metadata": {},
   "source": [
    "## Project: Predict Bike Sharing Demand with AutoGluon\n",
    "This notebook is a template with each step that you need to complete for the project.\n",
    "\n",
    "Please fill in your code where there are explicit `?` markers in the notebook. You are welcome to add more cells and code as you see fit.\n",
    "\n",
    "Once you have completed all the code implementations, please export your notebook as a HTML file so the reviews can view your code. Make sure you have all outputs correctly outputted.\n",
    "\n",
    "`File-> Export Notebook As... -> Export Notebook as HTML`\n",
    "\n",
    "There is a writeup to complete as well after all code implememtation is done. Please answer all questions and attach the necessary tables and charts. You can complete the writeup in either markdown or PDF.\n",
    "\n",
    "Completing the code template and writeup template will cover all of the rubric points for this project.\n",
    "\n",
    "The rubric contains \"Stand Out Suggestions\" for enhancing the project beyond the minimum requirements. The stand out suggestions are optional. If you decide to pursue the \"stand out suggestions\", you can include the code in this notebook and also discuss the results in the writeup file."
   ]
  },
  {
   "cell_type": "code",
   "execution_count": 4,
   "metadata": {},
   "outputs": [],
   "source": [
    "import pandas as pd\n",
    "from autogluon.tabular import TabularPredictor\n",
    "import pickle"
   ]
  },
  {
   "cell_type": "code",
   "execution_count": 5,
   "metadata": {},
   "outputs": [],
   "source": [
    "def save_data(file: object, filepath: str) -> None:\n",
    "    \"\"\"Pickle a file to the filepath specified.\"\"\"\n",
    "    with open(filepath, 'wb') as f:\n",
    "        pickle.dump(file, f)\n",
    "        \n",
    "def load_data(filepath: str) -> object:\n",
    "    \"\"\"Read a pickle file from the filepath specified.\"\"\"\n",
    "    with open(filepath, 'rb') as f:\n",
    "        return pickle.load(f)\n",
    "\n",
    "def get_leaderboard(predictor: object, df: pd.DataFrame) -> pd.DataFrame:\n",
    "    \"\"\"Get leaderboard from a predictor with extra_info = True.\"\"\"\n",
    "    return predictor.leaderboard(df, extra_info=True, silent=True)"
   ]
  },
  {
   "cell_type": "code",
   "execution_count": null,
   "metadata": {},
   "outputs": [],
   "source": [
    "# Download the dataset, it will be in a .zip file so you'll need to unzip it as well.\n",
    "!kaggle competitions download -c bike-sharing-demand\n",
    "# If you already downloaded it you can use the -o command to overwrite the file\n",
    "!unzip -o bike-sharing-demand.zip"
   ]
  },
  {
   "cell_type": "markdown",
   "metadata": {},
   "source": [
    "|field|description|\n",
    "|:--- |:--- |\n",
    "|datetime|hourly date + timestamp  \n",
    "|season| 1 = spring, 2 = summer, 3 = fall, 4 = winter \n",
    "|holiday|whether the day is considered a holiday\n",
    "|workingday|whether the day is neither a weekend nor holiday\n",
    "|weather||\n",
    "|1|Clear, Few clouds, Partly cloudy, Partly cloudy \n",
    "|2|Mist + Cloudy, Mist + Broken clouds, Mist + Few clouds, Mist\n",
    "|3|Light Snow, Light Rain + Thunderstorm + Scattered clouds, Light Rain + Scattered clouds\n",
    "|4|Heavy Rain + Ice Pallets + Thunderstorm + Mist, Snow + Fog \n",
    "|temp|temperature in Celsius\n",
    "|atemp|\"feels like\" temperature in Celsius\n",
    "|humidity|relative humidity\n",
    "|windspeed|wind speed\n",
    "|casual|number of non-registered user rentals initiated\n",
    "|registered|number of registered user rentals initiated\n",
    "|count|number of total rentals"
   ]
  },
  {
   "cell_type": "code",
   "execution_count": 6,
   "metadata": {},
   "outputs": [],
   "source": [
    "# Read in data and parse datetimes\n",
    "train = pd.read_csv(\"./data/train.csv\", parse_dates=['datetime'])\n",
    "test = pd.read_csv(\"./data/test.csv\", parse_dates=['datetime'])\n",
    "submission = pd.read_csv(\"./data/sampleSubmission.csv\", parse_dates=['datetime'])"
   ]
  },
  {
   "cell_type": "code",
   "execution_count": 7,
   "metadata": {},
   "outputs": [
    {
     "data": {
      "text/html": [
       "<div>\n",
       "<style scoped>\n",
       "    .dataframe tbody tr th:only-of-type {\n",
       "        vertical-align: middle;\n",
       "    }\n",
       "\n",
       "    .dataframe tbody tr th {\n",
       "        vertical-align: top;\n",
       "    }\n",
       "\n",
       "    .dataframe thead th {\n",
       "        text-align: right;\n",
       "    }\n",
       "</style>\n",
       "<table border=\"1\" class=\"dataframe\">\n",
       "  <thead>\n",
       "    <tr style=\"text-align: right;\">\n",
       "      <th></th>\n",
       "      <th>datetime</th>\n",
       "      <th>season</th>\n",
       "      <th>holiday</th>\n",
       "      <th>workingday</th>\n",
       "      <th>weather</th>\n",
       "      <th>temp</th>\n",
       "      <th>atemp</th>\n",
       "      <th>humidity</th>\n",
       "      <th>windspeed</th>\n",
       "      <th>casual</th>\n",
       "      <th>registered</th>\n",
       "      <th>count</th>\n",
       "    </tr>\n",
       "  </thead>\n",
       "  <tbody>\n",
       "    <tr>\n",
       "      <th>0</th>\n",
       "      <td>2011-01-01 00:00:00</td>\n",
       "      <td>1</td>\n",
       "      <td>0</td>\n",
       "      <td>0</td>\n",
       "      <td>1</td>\n",
       "      <td>9.84</td>\n",
       "      <td>14.395</td>\n",
       "      <td>81</td>\n",
       "      <td>0.0</td>\n",
       "      <td>3</td>\n",
       "      <td>13</td>\n",
       "      <td>16</td>\n",
       "    </tr>\n",
       "    <tr>\n",
       "      <th>1</th>\n",
       "      <td>2011-01-01 01:00:00</td>\n",
       "      <td>1</td>\n",
       "      <td>0</td>\n",
       "      <td>0</td>\n",
       "      <td>1</td>\n",
       "      <td>9.02</td>\n",
       "      <td>13.635</td>\n",
       "      <td>80</td>\n",
       "      <td>0.0</td>\n",
       "      <td>8</td>\n",
       "      <td>32</td>\n",
       "      <td>40</td>\n",
       "    </tr>\n",
       "    <tr>\n",
       "      <th>2</th>\n",
       "      <td>2011-01-01 02:00:00</td>\n",
       "      <td>1</td>\n",
       "      <td>0</td>\n",
       "      <td>0</td>\n",
       "      <td>1</td>\n",
       "      <td>9.02</td>\n",
       "      <td>13.635</td>\n",
       "      <td>80</td>\n",
       "      <td>0.0</td>\n",
       "      <td>5</td>\n",
       "      <td>27</td>\n",
       "      <td>32</td>\n",
       "    </tr>\n",
       "    <tr>\n",
       "      <th>3</th>\n",
       "      <td>2011-01-01 03:00:00</td>\n",
       "      <td>1</td>\n",
       "      <td>0</td>\n",
       "      <td>0</td>\n",
       "      <td>1</td>\n",
       "      <td>9.84</td>\n",
       "      <td>14.395</td>\n",
       "      <td>75</td>\n",
       "      <td>0.0</td>\n",
       "      <td>3</td>\n",
       "      <td>10</td>\n",
       "      <td>13</td>\n",
       "    </tr>\n",
       "    <tr>\n",
       "      <th>4</th>\n",
       "      <td>2011-01-01 04:00:00</td>\n",
       "      <td>1</td>\n",
       "      <td>0</td>\n",
       "      <td>0</td>\n",
       "      <td>1</td>\n",
       "      <td>9.84</td>\n",
       "      <td>14.395</td>\n",
       "      <td>75</td>\n",
       "      <td>0.0</td>\n",
       "      <td>0</td>\n",
       "      <td>1</td>\n",
       "      <td>1</td>\n",
       "    </tr>\n",
       "  </tbody>\n",
       "</table>\n",
       "</div>"
      ],
      "text/plain": [
       "             datetime  season  holiday  workingday  weather  temp   atemp  \\\n",
       "0 2011-01-01 00:00:00       1        0           0        1  9.84  14.395   \n",
       "1 2011-01-01 01:00:00       1        0           0        1  9.02  13.635   \n",
       "2 2011-01-01 02:00:00       1        0           0        1  9.02  13.635   \n",
       "3 2011-01-01 03:00:00       1        0           0        1  9.84  14.395   \n",
       "4 2011-01-01 04:00:00       1        0           0        1  9.84  14.395   \n",
       "\n",
       "   humidity  windspeed  casual  registered  count  \n",
       "0        81        0.0       3          13     16  \n",
       "1        80        0.0       8          32     40  \n",
       "2        80        0.0       5          27     32  \n",
       "3        75        0.0       3          10     13  \n",
       "4        75        0.0       0           1      1  "
      ]
     },
     "execution_count": 7,
     "metadata": {},
     "output_type": "execute_result"
    }
   ],
   "source": [
    "train.head()"
   ]
  },
  {
   "cell_type": "code",
   "execution_count": 8,
   "metadata": {},
   "outputs": [
    {
     "name": "stdout",
     "output_type": "stream",
     "text": [
      "<class 'pandas.core.frame.DataFrame'>\n",
      "RangeIndex: 10886 entries, 0 to 10885\n",
      "Data columns (total 12 columns):\n",
      " #   Column      Non-Null Count  Dtype         \n",
      "---  ------      --------------  -----         \n",
      " 0   datetime    10886 non-null  datetime64[ns]\n",
      " 1   season      10886 non-null  int64         \n",
      " 2   holiday     10886 non-null  int64         \n",
      " 3   workingday  10886 non-null  int64         \n",
      " 4   weather     10886 non-null  int64         \n",
      " 5   temp        10886 non-null  float64       \n",
      " 6   atemp       10886 non-null  float64       \n",
      " 7   humidity    10886 non-null  int64         \n",
      " 8   windspeed   10886 non-null  float64       \n",
      " 9   casual      10886 non-null  int64         \n",
      " 10  registered  10886 non-null  int64         \n",
      " 11  count       10886 non-null  int64         \n",
      "dtypes: datetime64[ns](1), float64(3), int64(8)\n",
      "memory usage: 1020.7 KB\n"
     ]
    }
   ],
   "source": [
    "train.info()"
   ]
  },
  {
   "cell_type": "code",
   "execution_count": 9,
   "metadata": {},
   "outputs": [
    {
     "data": {
      "text/html": [
       "<div>\n",
       "<style scoped>\n",
       "    .dataframe tbody tr th:only-of-type {\n",
       "        vertical-align: middle;\n",
       "    }\n",
       "\n",
       "    .dataframe tbody tr th {\n",
       "        vertical-align: top;\n",
       "    }\n",
       "\n",
       "    .dataframe thead th {\n",
       "        text-align: right;\n",
       "    }\n",
       "</style>\n",
       "<table border=\"1\" class=\"dataframe\">\n",
       "  <thead>\n",
       "    <tr style=\"text-align: right;\">\n",
       "      <th></th>\n",
       "      <th>season</th>\n",
       "      <th>holiday</th>\n",
       "      <th>workingday</th>\n",
       "      <th>weather</th>\n",
       "      <th>temp</th>\n",
       "      <th>atemp</th>\n",
       "      <th>humidity</th>\n",
       "      <th>windspeed</th>\n",
       "      <th>casual</th>\n",
       "      <th>registered</th>\n",
       "      <th>count</th>\n",
       "    </tr>\n",
       "  </thead>\n",
       "  <tbody>\n",
       "    <tr>\n",
       "      <th>count</th>\n",
       "      <td>10886.000000</td>\n",
       "      <td>10886.000000</td>\n",
       "      <td>10886.000000</td>\n",
       "      <td>10886.000000</td>\n",
       "      <td>10886.00000</td>\n",
       "      <td>10886.000000</td>\n",
       "      <td>10886.000000</td>\n",
       "      <td>10886.000000</td>\n",
       "      <td>10886.000000</td>\n",
       "      <td>10886.000000</td>\n",
       "      <td>10886.000000</td>\n",
       "    </tr>\n",
       "    <tr>\n",
       "      <th>mean</th>\n",
       "      <td>2.506614</td>\n",
       "      <td>0.028569</td>\n",
       "      <td>0.680875</td>\n",
       "      <td>1.418427</td>\n",
       "      <td>20.23086</td>\n",
       "      <td>23.655084</td>\n",
       "      <td>61.886460</td>\n",
       "      <td>12.799395</td>\n",
       "      <td>36.021955</td>\n",
       "      <td>155.552177</td>\n",
       "      <td>191.574132</td>\n",
       "    </tr>\n",
       "    <tr>\n",
       "      <th>std</th>\n",
       "      <td>1.116174</td>\n",
       "      <td>0.166599</td>\n",
       "      <td>0.466159</td>\n",
       "      <td>0.633839</td>\n",
       "      <td>7.79159</td>\n",
       "      <td>8.474601</td>\n",
       "      <td>19.245033</td>\n",
       "      <td>8.164537</td>\n",
       "      <td>49.960477</td>\n",
       "      <td>151.039033</td>\n",
       "      <td>181.144454</td>\n",
       "    </tr>\n",
       "    <tr>\n",
       "      <th>min</th>\n",
       "      <td>1.000000</td>\n",
       "      <td>0.000000</td>\n",
       "      <td>0.000000</td>\n",
       "      <td>1.000000</td>\n",
       "      <td>0.82000</td>\n",
       "      <td>0.760000</td>\n",
       "      <td>0.000000</td>\n",
       "      <td>0.000000</td>\n",
       "      <td>0.000000</td>\n",
       "      <td>0.000000</td>\n",
       "      <td>1.000000</td>\n",
       "    </tr>\n",
       "    <tr>\n",
       "      <th>25%</th>\n",
       "      <td>2.000000</td>\n",
       "      <td>0.000000</td>\n",
       "      <td>0.000000</td>\n",
       "      <td>1.000000</td>\n",
       "      <td>13.94000</td>\n",
       "      <td>16.665000</td>\n",
       "      <td>47.000000</td>\n",
       "      <td>7.001500</td>\n",
       "      <td>4.000000</td>\n",
       "      <td>36.000000</td>\n",
       "      <td>42.000000</td>\n",
       "    </tr>\n",
       "    <tr>\n",
       "      <th>50%</th>\n",
       "      <td>3.000000</td>\n",
       "      <td>0.000000</td>\n",
       "      <td>1.000000</td>\n",
       "      <td>1.000000</td>\n",
       "      <td>20.50000</td>\n",
       "      <td>24.240000</td>\n",
       "      <td>62.000000</td>\n",
       "      <td>12.998000</td>\n",
       "      <td>17.000000</td>\n",
       "      <td>118.000000</td>\n",
       "      <td>145.000000</td>\n",
       "    </tr>\n",
       "    <tr>\n",
       "      <th>75%</th>\n",
       "      <td>4.000000</td>\n",
       "      <td>0.000000</td>\n",
       "      <td>1.000000</td>\n",
       "      <td>2.000000</td>\n",
       "      <td>26.24000</td>\n",
       "      <td>31.060000</td>\n",
       "      <td>77.000000</td>\n",
       "      <td>16.997900</td>\n",
       "      <td>49.000000</td>\n",
       "      <td>222.000000</td>\n",
       "      <td>284.000000</td>\n",
       "    </tr>\n",
       "    <tr>\n",
       "      <th>max</th>\n",
       "      <td>4.000000</td>\n",
       "      <td>1.000000</td>\n",
       "      <td>1.000000</td>\n",
       "      <td>4.000000</td>\n",
       "      <td>41.00000</td>\n",
       "      <td>45.455000</td>\n",
       "      <td>100.000000</td>\n",
       "      <td>56.996900</td>\n",
       "      <td>367.000000</td>\n",
       "      <td>886.000000</td>\n",
       "      <td>977.000000</td>\n",
       "    </tr>\n",
       "  </tbody>\n",
       "</table>\n",
       "</div>"
      ],
      "text/plain": [
       "             season       holiday    workingday       weather         temp  \\\n",
       "count  10886.000000  10886.000000  10886.000000  10886.000000  10886.00000   \n",
       "mean       2.506614      0.028569      0.680875      1.418427     20.23086   \n",
       "std        1.116174      0.166599      0.466159      0.633839      7.79159   \n",
       "min        1.000000      0.000000      0.000000      1.000000      0.82000   \n",
       "25%        2.000000      0.000000      0.000000      1.000000     13.94000   \n",
       "50%        3.000000      0.000000      1.000000      1.000000     20.50000   \n",
       "75%        4.000000      0.000000      1.000000      2.000000     26.24000   \n",
       "max        4.000000      1.000000      1.000000      4.000000     41.00000   \n",
       "\n",
       "              atemp      humidity     windspeed        casual    registered  \\\n",
       "count  10886.000000  10886.000000  10886.000000  10886.000000  10886.000000   \n",
       "mean      23.655084     61.886460     12.799395     36.021955    155.552177   \n",
       "std        8.474601     19.245033      8.164537     49.960477    151.039033   \n",
       "min        0.760000      0.000000      0.000000      0.000000      0.000000   \n",
       "25%       16.665000     47.000000      7.001500      4.000000     36.000000   \n",
       "50%       24.240000     62.000000     12.998000     17.000000    118.000000   \n",
       "75%       31.060000     77.000000     16.997900     49.000000    222.000000   \n",
       "max       45.455000    100.000000     56.996900    367.000000    886.000000   \n",
       "\n",
       "              count  \n",
       "count  10886.000000  \n",
       "mean     191.574132  \n",
       "std      181.144454  \n",
       "min        1.000000  \n",
       "25%       42.000000  \n",
       "50%      145.000000  \n",
       "75%      284.000000  \n",
       "max      977.000000  "
      ]
     },
     "execution_count": 9,
     "metadata": {},
     "output_type": "execute_result"
    }
   ],
   "source": [
    "# Simple output of the train dataset to view some of the min/max/variation of the dataset features.\n",
    "train.describe()"
   ]
  },
  {
   "cell_type": "code",
   "execution_count": 10,
   "metadata": {},
   "outputs": [
    {
     "data": {
      "text/html": [
       "<div>\n",
       "<style scoped>\n",
       "    .dataframe tbody tr th:only-of-type {\n",
       "        vertical-align: middle;\n",
       "    }\n",
       "\n",
       "    .dataframe tbody tr th {\n",
       "        vertical-align: top;\n",
       "    }\n",
       "\n",
       "    .dataframe thead th {\n",
       "        text-align: right;\n",
       "    }\n",
       "</style>\n",
       "<table border=\"1\" class=\"dataframe\">\n",
       "  <thead>\n",
       "    <tr style=\"text-align: right;\">\n",
       "      <th></th>\n",
       "      <th>datetime</th>\n",
       "      <th>season</th>\n",
       "      <th>holiday</th>\n",
       "      <th>workingday</th>\n",
       "      <th>weather</th>\n",
       "      <th>temp</th>\n",
       "      <th>atemp</th>\n",
       "      <th>humidity</th>\n",
       "      <th>windspeed</th>\n",
       "    </tr>\n",
       "  </thead>\n",
       "  <tbody>\n",
       "    <tr>\n",
       "      <th>0</th>\n",
       "      <td>2011-01-20 00:00:00</td>\n",
       "      <td>1</td>\n",
       "      <td>0</td>\n",
       "      <td>1</td>\n",
       "      <td>1</td>\n",
       "      <td>10.66</td>\n",
       "      <td>11.365</td>\n",
       "      <td>56</td>\n",
       "      <td>26.0027</td>\n",
       "    </tr>\n",
       "    <tr>\n",
       "      <th>1</th>\n",
       "      <td>2011-01-20 01:00:00</td>\n",
       "      <td>1</td>\n",
       "      <td>0</td>\n",
       "      <td>1</td>\n",
       "      <td>1</td>\n",
       "      <td>10.66</td>\n",
       "      <td>13.635</td>\n",
       "      <td>56</td>\n",
       "      <td>0.0000</td>\n",
       "    </tr>\n",
       "    <tr>\n",
       "      <th>2</th>\n",
       "      <td>2011-01-20 02:00:00</td>\n",
       "      <td>1</td>\n",
       "      <td>0</td>\n",
       "      <td>1</td>\n",
       "      <td>1</td>\n",
       "      <td>10.66</td>\n",
       "      <td>13.635</td>\n",
       "      <td>56</td>\n",
       "      <td>0.0000</td>\n",
       "    </tr>\n",
       "    <tr>\n",
       "      <th>3</th>\n",
       "      <td>2011-01-20 03:00:00</td>\n",
       "      <td>1</td>\n",
       "      <td>0</td>\n",
       "      <td>1</td>\n",
       "      <td>1</td>\n",
       "      <td>10.66</td>\n",
       "      <td>12.880</td>\n",
       "      <td>56</td>\n",
       "      <td>11.0014</td>\n",
       "    </tr>\n",
       "    <tr>\n",
       "      <th>4</th>\n",
       "      <td>2011-01-20 04:00:00</td>\n",
       "      <td>1</td>\n",
       "      <td>0</td>\n",
       "      <td>1</td>\n",
       "      <td>1</td>\n",
       "      <td>10.66</td>\n",
       "      <td>12.880</td>\n",
       "      <td>56</td>\n",
       "      <td>11.0014</td>\n",
       "    </tr>\n",
       "  </tbody>\n",
       "</table>\n",
       "</div>"
      ],
      "text/plain": [
       "             datetime  season  holiday  workingday  weather   temp   atemp  \\\n",
       "0 2011-01-20 00:00:00       1        0           1        1  10.66  11.365   \n",
       "1 2011-01-20 01:00:00       1        0           1        1  10.66  13.635   \n",
       "2 2011-01-20 02:00:00       1        0           1        1  10.66  13.635   \n",
       "3 2011-01-20 03:00:00       1        0           1        1  10.66  12.880   \n",
       "4 2011-01-20 04:00:00       1        0           1        1  10.66  12.880   \n",
       "\n",
       "   humidity  windspeed  \n",
       "0        56    26.0027  \n",
       "1        56     0.0000  \n",
       "2        56     0.0000  \n",
       "3        56    11.0014  \n",
       "4        56    11.0014  "
      ]
     },
     "execution_count": 10,
     "metadata": {},
     "output_type": "execute_result"
    }
   ],
   "source": [
    "test.head()"
   ]
  },
  {
   "cell_type": "code",
   "execution_count": 11,
   "metadata": {},
   "outputs": [
    {
     "data": {
      "text/html": [
       "<div>\n",
       "<style scoped>\n",
       "    .dataframe tbody tr th:only-of-type {\n",
       "        vertical-align: middle;\n",
       "    }\n",
       "\n",
       "    .dataframe tbody tr th {\n",
       "        vertical-align: top;\n",
       "    }\n",
       "\n",
       "    .dataframe thead th {\n",
       "        text-align: right;\n",
       "    }\n",
       "</style>\n",
       "<table border=\"1\" class=\"dataframe\">\n",
       "  <thead>\n",
       "    <tr style=\"text-align: right;\">\n",
       "      <th></th>\n",
       "      <th>datetime</th>\n",
       "      <th>count</th>\n",
       "    </tr>\n",
       "  </thead>\n",
       "  <tbody>\n",
       "    <tr>\n",
       "      <th>0</th>\n",
       "      <td>2011-01-20 00:00:00</td>\n",
       "      <td>0</td>\n",
       "    </tr>\n",
       "    <tr>\n",
       "      <th>1</th>\n",
       "      <td>2011-01-20 01:00:00</td>\n",
       "      <td>0</td>\n",
       "    </tr>\n",
       "    <tr>\n",
       "      <th>2</th>\n",
       "      <td>2011-01-20 02:00:00</td>\n",
       "      <td>0</td>\n",
       "    </tr>\n",
       "    <tr>\n",
       "      <th>3</th>\n",
       "      <td>2011-01-20 03:00:00</td>\n",
       "      <td>0</td>\n",
       "    </tr>\n",
       "    <tr>\n",
       "      <th>4</th>\n",
       "      <td>2011-01-20 04:00:00</td>\n",
       "      <td>0</td>\n",
       "    </tr>\n",
       "  </tbody>\n",
       "</table>\n",
       "</div>"
      ],
      "text/plain": [
       "             datetime  count\n",
       "0 2011-01-20 00:00:00      0\n",
       "1 2011-01-20 01:00:00      0\n",
       "2 2011-01-20 02:00:00      0\n",
       "3 2011-01-20 03:00:00      0\n",
       "4 2011-01-20 04:00:00      0"
      ]
     },
     "execution_count": 11,
     "metadata": {},
     "output_type": "execute_result"
    }
   ],
   "source": [
    "submission.head()"
   ]
  },
  {
   "cell_type": "markdown",
   "metadata": {},
   "source": [
    "## Step 3: Train a model using AutoGluon’s Tabular Prediction"
   ]
  },
  {
   "cell_type": "markdown",
   "metadata": {},
   "source": [
    "Requirements:\n",
    "* We are prediting `count`, so it is the label we are setting.\n",
    "* Ignore `casual` and `registered` columns as they are also not present in the test dataset. \n",
    "* Use the `root_mean_squared_error` as the metric to use for evaluation.\n",
    "* Set a time limit of 10 minutes (600 seconds).\n",
    "* Use the preset `best_quality` to focus on creating the best model."
   ]
  },
  {
   "cell_type": "code",
   "execution_count": 7,
   "metadata": {},
   "outputs": [
    {
     "name": "stderr",
     "output_type": "stream",
     "text": [
      "Presets specified: ['best_quality']\n",
      "Beginning AutoGluon training ... Time limit = 600s\n",
      "AutoGluon will save models to \"./data/run_1/\"\n",
      "AutoGluon Version:  0.3.1\n",
      "Train Data Rows:    10886\n",
      "Train Data Columns: 9\n",
      "Preprocessing data ...\n",
      "Using Feature Generators to preprocess the data ...\n",
      "Fitting AutoMLPipelineFeatureGenerator...\n",
      "\tAvailable Memory:                    12650.63 MB\n",
      "\tTrain Data (Original)  Memory Usage: 0.78 MB (0.0% of available memory)\n",
      "\tInferring data type of each feature based on column values. Set feature_metadata_in to manually specify special dtypes of the features.\n",
      "\tStage 1 Generators:\n",
      "\t\tFitting AsTypeFeatureGenerator...\n",
      "\t\t\tNote: Converting 2 features to boolean dtype as they only contain 2 unique values.\n",
      "\tStage 2 Generators:\n",
      "\t\tFitting FillNaFeatureGenerator...\n",
      "\tStage 3 Generators:\n",
      "\t\tFitting IdentityFeatureGenerator...\n",
      "\t\tFitting DatetimeFeatureGenerator...\n",
      "\tStage 4 Generators:\n",
      "\t\tFitting DropUniqueFeatureGenerator...\n",
      "\tTypes of features in original data (raw dtype, special dtypes):\n",
      "\t\t('datetime', []) : 1 | ['datetime']\n",
      "\t\t('float', [])    : 3 | ['temp', 'atemp', 'windspeed']\n",
      "\t\t('int', [])      : 5 | ['season', 'holiday', 'workingday', 'weather', 'humidity']\n",
      "\tTypes of features in processed data (raw dtype, special dtypes):\n",
      "\t\t('float', [])                : 3 | ['temp', 'atemp', 'windspeed']\n",
      "\t\t('int', [])                  : 3 | ['season', 'weather', 'humidity']\n",
      "\t\t('int', ['bool'])            : 2 | ['holiday', 'workingday']\n",
      "\t\t('int', ['datetime_as_int']) : 1 | ['datetime']\n",
      "\t0.0s = Fit runtime\n",
      "\t9 features in original data used to generate 9 features in processed data.\n",
      "\tTrain Data (Processed) Memory Usage: 0.63 MB (0.0% of available memory)\n",
      "Data preprocessing and feature engineering runtime = 0.06s ...\n",
      "AutoGluon will gauge predictive performance using evaluation metric: 'root_mean_squared_error'\n",
      "\tTo change this, specify the eval_metric argument of fit()\n",
      "AutoGluon will fit 2 stack levels (L1 to L2) ...\n",
      "Fitting 11 L1 models ...\n",
      "Fitting model: KNeighborsUnif_BAG_L1 ... Training model for up to 399.86s of the 599.93s of remaining time.\n",
      "\t-160.4131\t = Validation score   (root_mean_squared_error)\n",
      "\t0.33s\t = Training   runtime\n",
      "\t0.11s\t = Validation runtime\n",
      "Fitting model: KNeighborsDist_BAG_L1 ... Training model for up to 397.92s of the 598.0s of remaining time.\n",
      "\t-169.5521\t = Validation score   (root_mean_squared_error)\n",
      "\t0.03s\t = Training   runtime\n",
      "\t0.11s\t = Validation runtime\n",
      "Fitting model: LightGBMXT_BAG_L1 ... Training model for up to 397.66s of the 597.73s of remaining time.\n",
      "/home/azathoth/anaconda3/lib/python3.7/site-packages/lightgbm/engine.py:239: UserWarning: 'verbose_eval' argument is deprecated and will be removed in a future release of LightGBM. Pass 'log_evaluation()' callback via 'callbacks' argument instead.\n",
      "  _log_warning(\"'verbose_eval' argument is deprecated and will be removed in a future release of LightGBM. \"\n"
     ]
    },
    {
     "name": "stdout",
     "output_type": "stream",
     "text": [
      "[1000]\ttrain_set's rmse: 123.806\tvalid_set's rmse: 134.369\n",
      "[2000]\ttrain_set's rmse: 117.412\tvalid_set's rmse: 133.705\n"
     ]
    },
    {
     "name": "stderr",
     "output_type": "stream",
     "text": [
      "/home/azathoth/anaconda3/lib/python3.7/site-packages/lightgbm/engine.py:239: UserWarning: 'verbose_eval' argument is deprecated and will be removed in a future release of LightGBM. Pass 'log_evaluation()' callback via 'callbacks' argument instead.\n",
      "  _log_warning(\"'verbose_eval' argument is deprecated and will be removed in a future release of LightGBM. \"\n"
     ]
    },
    {
     "name": "stdout",
     "output_type": "stream",
     "text": [
      "[1000]\ttrain_set's rmse: 123.42\tvalid_set's rmse: 141.5\n"
     ]
    },
    {
     "name": "stderr",
     "output_type": "stream",
     "text": [
      "/home/azathoth/anaconda3/lib/python3.7/site-packages/lightgbm/engine.py:239: UserWarning: 'verbose_eval' argument is deprecated and will be removed in a future release of LightGBM. Pass 'log_evaluation()' callback via 'callbacks' argument instead.\n",
      "  _log_warning(\"'verbose_eval' argument is deprecated and will be removed in a future release of LightGBM. \"\n"
     ]
    },
    {
     "name": "stdout",
     "output_type": "stream",
     "text": [
      "[1000]\ttrain_set's rmse: 125.097\tvalid_set's rmse: 128.797\n",
      "[2000]\ttrain_set's rmse: 119.003\tvalid_set's rmse: 127.909\n",
      "[3000]\ttrain_set's rmse: 114.63\tvalid_set's rmse: 127.431\n",
      "[4000]\ttrain_set's rmse: 111.295\tvalid_set's rmse: 126.943\n",
      "[5000]\ttrain_set's rmse: 108.576\tvalid_set's rmse: 126.844\n",
      "[6000]\ttrain_set's rmse: 106.085\tvalid_set's rmse: 126.71\n"
     ]
    },
    {
     "name": "stderr",
     "output_type": "stream",
     "text": [
      "/home/azathoth/anaconda3/lib/python3.7/site-packages/lightgbm/engine.py:239: UserWarning: 'verbose_eval' argument is deprecated and will be removed in a future release of LightGBM. Pass 'log_evaluation()' callback via 'callbacks' argument instead.\n",
      "  _log_warning(\"'verbose_eval' argument is deprecated and will be removed in a future release of LightGBM. \"\n"
     ]
    },
    {
     "name": "stdout",
     "output_type": "stream",
     "text": [
      "[1000]\ttrain_set's rmse: 124.131\tvalid_set's rmse: 138.303\n",
      "[2000]\ttrain_set's rmse: 117.833\tvalid_set's rmse: 137.535\n"
     ]
    },
    {
     "name": "stderr",
     "output_type": "stream",
     "text": [
      "/home/azathoth/anaconda3/lib/python3.7/site-packages/lightgbm/engine.py:239: UserWarning: 'verbose_eval' argument is deprecated and will be removed in a future release of LightGBM. Pass 'log_evaluation()' callback via 'callbacks' argument instead.\n",
      "  _log_warning(\"'verbose_eval' argument is deprecated and will be removed in a future release of LightGBM. \"\n"
     ]
    },
    {
     "name": "stdout",
     "output_type": "stream",
     "text": [
      "[1000]\ttrain_set's rmse: 124.871\tvalid_set's rmse: 128.052\n",
      "[2000]\ttrain_set's rmse: 118.547\tvalid_set's rmse: 127.003\n",
      "[3000]\ttrain_set's rmse: 114.124\tvalid_set's rmse: 126.834\n",
      "[4000]\ttrain_set's rmse: 110.645\tvalid_set's rmse: 126.694\n"
     ]
    },
    {
     "name": "stderr",
     "output_type": "stream",
     "text": [
      "/home/azathoth/anaconda3/lib/python3.7/site-packages/lightgbm/engine.py:239: UserWarning: 'verbose_eval' argument is deprecated and will be removed in a future release of LightGBM. Pass 'log_evaluation()' callback via 'callbacks' argument instead.\n",
      "  _log_warning(\"'verbose_eval' argument is deprecated and will be removed in a future release of LightGBM. \"\n"
     ]
    },
    {
     "name": "stdout",
     "output_type": "stream",
     "text": [
      "[1000]\ttrain_set's rmse: 124.654\tvalid_set's rmse: 135.095\n",
      "[2000]\ttrain_set's rmse: 118.764\tvalid_set's rmse: 133.849\n",
      "[3000]\ttrain_set's rmse: 114.615\tvalid_set's rmse: 133.509\n",
      "[4000]\ttrain_set's rmse: 111.249\tvalid_set's rmse: 133.472\n",
      "[5000]\ttrain_set's rmse: 108.455\tvalid_set's rmse: 133.281\n"
     ]
    },
    {
     "name": "stderr",
     "output_type": "stream",
     "text": [
      "/home/azathoth/anaconda3/lib/python3.7/site-packages/lightgbm/engine.py:239: UserWarning: 'verbose_eval' argument is deprecated and will be removed in a future release of LightGBM. Pass 'log_evaluation()' callback via 'callbacks' argument instead.\n",
      "  _log_warning(\"'verbose_eval' argument is deprecated and will be removed in a future release of LightGBM. \"\n"
     ]
    },
    {
     "name": "stdout",
     "output_type": "stream",
     "text": [
      "[1000]\ttrain_set's rmse: 124.01\tvalid_set's rmse: 139.355\n",
      "[2000]\ttrain_set's rmse: 117.819\tvalid_set's rmse: 138.312\n",
      "[3000]\ttrain_set's rmse: 113.4\tvalid_set's rmse: 137.886\n",
      "[4000]\ttrain_set's rmse: 110.032\tvalid_set's rmse: 137.758\n"
     ]
    },
    {
     "name": "stderr",
     "output_type": "stream",
     "text": [
      "/home/azathoth/anaconda3/lib/python3.7/site-packages/lightgbm/engine.py:239: UserWarning: 'verbose_eval' argument is deprecated and will be removed in a future release of LightGBM. Pass 'log_evaluation()' callback via 'callbacks' argument instead.\n",
      "  _log_warning(\"'verbose_eval' argument is deprecated and will be removed in a future release of LightGBM. \"\n"
     ]
    },
    {
     "name": "stdout",
     "output_type": "stream",
     "text": [
      "[1000]\ttrain_set's rmse: 124.47\tvalid_set's rmse: 135.412\n"
     ]
    },
    {
     "name": "stderr",
     "output_type": "stream",
     "text": [
      "/home/azathoth/anaconda3/lib/python3.7/site-packages/lightgbm/engine.py:239: UserWarning: 'verbose_eval' argument is deprecated and will be removed in a future release of LightGBM. Pass 'log_evaluation()' callback via 'callbacks' argument instead.\n",
      "  _log_warning(\"'verbose_eval' argument is deprecated and will be removed in a future release of LightGBM. \"\n"
     ]
    },
    {
     "name": "stdout",
     "output_type": "stream",
     "text": [
      "[1000]\ttrain_set's rmse: 124.18\tvalid_set's rmse: 137.579\n",
      "[2000]\ttrain_set's rmse: 117.782\tvalid_set's rmse: 136.664\n",
      "[3000]\ttrain_set's rmse: 113.447\tvalid_set's rmse: 136.246\n",
      "[4000]\ttrain_set's rmse: 109.982\tvalid_set's rmse: 136.227\n"
     ]
    },
    {
     "name": "stderr",
     "output_type": "stream",
     "text": [
      "/home/azathoth/anaconda3/lib/python3.7/site-packages/lightgbm/engine.py:239: UserWarning: 'verbose_eval' argument is deprecated and will be removed in a future release of LightGBM. Pass 'log_evaluation()' callback via 'callbacks' argument instead.\n",
      "  _log_warning(\"'verbose_eval' argument is deprecated and will be removed in a future release of LightGBM. \"\n"
     ]
    },
    {
     "name": "stdout",
     "output_type": "stream",
     "text": [
      "[1000]\ttrain_set's rmse: 124.641\tvalid_set's rmse: 132.484\n"
     ]
    },
    {
     "name": "stderr",
     "output_type": "stream",
     "text": [
      "\t-134.0883\t = Validation score   (root_mean_squared_error)\n",
      "\t41.8s\t = Training   runtime\n",
      "\t0.51s\t = Validation runtime\n",
      "Fitting model: LightGBM_BAG_L1 ... Training model for up to 353.9s of the 553.97s of remaining time.\n",
      "/home/azathoth/anaconda3/lib/python3.7/site-packages/lightgbm/engine.py:239: UserWarning: 'verbose_eval' argument is deprecated and will be removed in a future release of LightGBM. Pass 'log_evaluation()' callback via 'callbacks' argument instead.\n",
      "  _log_warning(\"'verbose_eval' argument is deprecated and will be removed in a future release of LightGBM. \"\n",
      "/home/azathoth/anaconda3/lib/python3.7/site-packages/lightgbm/engine.py:239: UserWarning: 'verbose_eval' argument is deprecated and will be removed in a future release of LightGBM. Pass 'log_evaluation()' callback via 'callbacks' argument instead.\n",
      "  _log_warning(\"'verbose_eval' argument is deprecated and will be removed in a future release of LightGBM. \"\n",
      "/home/azathoth/anaconda3/lib/python3.7/site-packages/lightgbm/engine.py:239: UserWarning: 'verbose_eval' argument is deprecated and will be removed in a future release of LightGBM. Pass 'log_evaluation()' callback via 'callbacks' argument instead.\n",
      "  _log_warning(\"'verbose_eval' argument is deprecated and will be removed in a future release of LightGBM. \"\n"
     ]
    },
    {
     "name": "stdout",
     "output_type": "stream",
     "text": [
      "[1000]\ttrain_set's rmse: 96.0217\tvalid_set's rmse: 123.249\n"
     ]
    },
    {
     "name": "stderr",
     "output_type": "stream",
     "text": [
      "/home/azathoth/anaconda3/lib/python3.7/site-packages/lightgbm/engine.py:239: UserWarning: 'verbose_eval' argument is deprecated and will be removed in a future release of LightGBM. Pass 'log_evaluation()' callback via 'callbacks' argument instead.\n",
      "  _log_warning(\"'verbose_eval' argument is deprecated and will be removed in a future release of LightGBM. \"\n"
     ]
    },
    {
     "name": "stdout",
     "output_type": "stream",
     "text": [
      "[1000]\ttrain_set's rmse: 94.7479\tvalid_set's rmse: 135.635\n"
     ]
    },
    {
     "name": "stderr",
     "output_type": "stream",
     "text": [
      "/home/azathoth/anaconda3/lib/python3.7/site-packages/lightgbm/engine.py:239: UserWarning: 'verbose_eval' argument is deprecated and will be removed in a future release of LightGBM. Pass 'log_evaluation()' callback via 'callbacks' argument instead.\n",
      "  _log_warning(\"'verbose_eval' argument is deprecated and will be removed in a future release of LightGBM. \"\n",
      "/home/azathoth/anaconda3/lib/python3.7/site-packages/lightgbm/engine.py:239: UserWarning: 'verbose_eval' argument is deprecated and will be removed in a future release of LightGBM. Pass 'log_evaluation()' callback via 'callbacks' argument instead.\n",
      "  _log_warning(\"'verbose_eval' argument is deprecated and will be removed in a future release of LightGBM. \"\n"
     ]
    },
    {
     "name": "stdout",
     "output_type": "stream",
     "text": [
      "[1000]\ttrain_set's rmse: 95.3055\tvalid_set's rmse: 132.087\n"
     ]
    },
    {
     "name": "stderr",
     "output_type": "stream",
     "text": [
      "/home/azathoth/anaconda3/lib/python3.7/site-packages/lightgbm/engine.py:239: UserWarning: 'verbose_eval' argument is deprecated and will be removed in a future release of LightGBM. Pass 'log_evaluation()' callback via 'callbacks' argument instead.\n",
      "  _log_warning(\"'verbose_eval' argument is deprecated and will be removed in a future release of LightGBM. \"\n",
      "/home/azathoth/anaconda3/lib/python3.7/site-packages/lightgbm/engine.py:239: UserWarning: 'verbose_eval' argument is deprecated and will be removed in a future release of LightGBM. Pass 'log_evaluation()' callback via 'callbacks' argument instead.\n",
      "  _log_warning(\"'verbose_eval' argument is deprecated and will be removed in a future release of LightGBM. \"\n"
     ]
    },
    {
     "name": "stdout",
     "output_type": "stream",
     "text": [
      "[1000]\ttrain_set's rmse: 95.1635\tvalid_set's rmse: 131.521\n"
     ]
    },
    {
     "name": "stderr",
     "output_type": "stream",
     "text": [
      "/home/azathoth/anaconda3/lib/python3.7/site-packages/lightgbm/engine.py:239: UserWarning: 'verbose_eval' argument is deprecated and will be removed in a future release of LightGBM. Pass 'log_evaluation()' callback via 'callbacks' argument instead.\n",
      "  _log_warning(\"'verbose_eval' argument is deprecated and will be removed in a future release of LightGBM. \"\n",
      "/home/azathoth/anaconda3/lib/python3.7/site-packages/lightgbm/engine.py:239: UserWarning: 'verbose_eval' argument is deprecated and will be removed in a future release of LightGBM. Pass 'log_evaluation()' callback via 'callbacks' argument instead.\n",
      "  _log_warning(\"'verbose_eval' argument is deprecated and will be removed in a future release of LightGBM. \"\n",
      "\t-132.2864\t = Validation score   (root_mean_squared_error)\n",
      "\t8.94s\t = Training   runtime\n",
      "\t0.1s\t = Validation runtime\n",
      "Fitting model: RandomForestMSE_BAG_L1 ... Training model for up to 344.5s of the 544.58s of remaining time.\n",
      "\t-118.4567\t = Validation score   (root_mean_squared_error)\n",
      "\t2.62s\t = Training   runtime\n",
      "\t0.36s\t = Validation runtime\n",
      "Fitting model: CatBoost_BAG_L1 ... Training model for up to 341.23s of the 541.31s of remaining time.\n",
      "\t-132.3497\t = Validation score   (root_mean_squared_error)\n",
      "\t35.39s\t = Training   runtime\n",
      "\t0.03s\t = Validation runtime\n",
      "Fitting model: ExtraTreesMSE_BAG_L1 ... Training model for up to 305.34s of the 505.41s of remaining time.\n",
      "\t-128.7334\t = Validation score   (root_mean_squared_error)\n",
      "\t1.27s\t = Training   runtime\n",
      "\t0.3s\t = Validation runtime\n",
      "Fitting model: NeuralNetFastAI_BAG_L1 ... Training model for up to 303.35s of the 503.43s of remaining time.\n",
      "\tWarning: Exception caused NeuralNetFastAI_BAG_L1 to fail during training (ImportError)... Skipping this model.\n",
      "\t\tImport fastai failed. A quick tip is to install via `pip install fastai==2.*`. If you are using Mac OSX, please use this torch version to avoid compatibility issues: `pip install torch==1.6.0`.\n",
      "Fitting model: XGBoost_BAG_L1 ... Training model for up to 303.09s of the 503.17s of remaining time.\n",
      "\t-132.3085\t = Validation score   (root_mean_squared_error)\n",
      "\t9.68s\t = Training   runtime\n",
      "\t0.06s\t = Validation runtime\n",
      "Fitting model: NeuralNetMXNet_BAG_L1 ... Training model for up to 292.52s of the 492.59s of remaining time.\n",
      "\tRan out of time, stopping training early. (Stopping on epoch 104)\n",
      "\tRan out of time, stopping training early. (Stopping on epoch 119)\n",
      "\t-141.7232\t = Validation score   (root_mean_squared_error)\n",
      "\t153.29s\t = Training   runtime\n",
      "\t1.08s\t = Validation runtime\n",
      "Fitting model: LightGBMLarge_BAG_L1 ... Training model for up to 138.11s of the 338.19s of remaining time.\n",
      "/home/azathoth/anaconda3/lib/python3.7/site-packages/lightgbm/engine.py:239: UserWarning: 'verbose_eval' argument is deprecated and will be removed in a future release of LightGBM. Pass 'log_evaluation()' callback via 'callbacks' argument instead.\n",
      "  _log_warning(\"'verbose_eval' argument is deprecated and will be removed in a future release of LightGBM. \"\n",
      "/home/azathoth/anaconda3/lib/python3.7/site-packages/lightgbm/engine.py:239: UserWarning: 'verbose_eval' argument is deprecated and will be removed in a future release of LightGBM. Pass 'log_evaluation()' callback via 'callbacks' argument instead.\n",
      "  _log_warning(\"'verbose_eval' argument is deprecated and will be removed in a future release of LightGBM. \"\n",
      "/home/azathoth/anaconda3/lib/python3.7/site-packages/lightgbm/engine.py:239: UserWarning: 'verbose_eval' argument is deprecated and will be removed in a future release of LightGBM. Pass 'log_evaluation()' callback via 'callbacks' argument instead.\n",
      "  _log_warning(\"'verbose_eval' argument is deprecated and will be removed in a future release of LightGBM. \"\n",
      "/home/azathoth/anaconda3/lib/python3.7/site-packages/lightgbm/engine.py:239: UserWarning: 'verbose_eval' argument is deprecated and will be removed in a future release of LightGBM. Pass 'log_evaluation()' callback via 'callbacks' argument instead.\n",
      "  _log_warning(\"'verbose_eval' argument is deprecated and will be removed in a future release of LightGBM. \"\n",
      "/home/azathoth/anaconda3/lib/python3.7/site-packages/lightgbm/engine.py:239: UserWarning: 'verbose_eval' argument is deprecated and will be removed in a future release of LightGBM. Pass 'log_evaluation()' callback via 'callbacks' argument instead.\n",
      "  _log_warning(\"'verbose_eval' argument is deprecated and will be removed in a future release of LightGBM. \"\n",
      "/home/azathoth/anaconda3/lib/python3.7/site-packages/lightgbm/engine.py:239: UserWarning: 'verbose_eval' argument is deprecated and will be removed in a future release of LightGBM. Pass 'log_evaluation()' callback via 'callbacks' argument instead.\n",
      "  _log_warning(\"'verbose_eval' argument is deprecated and will be removed in a future release of LightGBM. \"\n",
      "/home/azathoth/anaconda3/lib/python3.7/site-packages/lightgbm/engine.py:239: UserWarning: 'verbose_eval' argument is deprecated and will be removed in a future release of LightGBM. Pass 'log_evaluation()' callback via 'callbacks' argument instead.\n",
      "  _log_warning(\"'verbose_eval' argument is deprecated and will be removed in a future release of LightGBM. \"\n",
      "/home/azathoth/anaconda3/lib/python3.7/site-packages/lightgbm/engine.py:239: UserWarning: 'verbose_eval' argument is deprecated and will be removed in a future release of LightGBM. Pass 'log_evaluation()' callback via 'callbacks' argument instead.\n",
      "  _log_warning(\"'verbose_eval' argument is deprecated and will be removed in a future release of LightGBM. \"\n",
      "/home/azathoth/anaconda3/lib/python3.7/site-packages/lightgbm/engine.py:239: UserWarning: 'verbose_eval' argument is deprecated and will be removed in a future release of LightGBM. Pass 'log_evaluation()' callback via 'callbacks' argument instead.\n",
      "  _log_warning(\"'verbose_eval' argument is deprecated and will be removed in a future release of LightGBM. \"\n",
      "/home/azathoth/anaconda3/lib/python3.7/site-packages/lightgbm/engine.py:239: UserWarning: 'verbose_eval' argument is deprecated and will be removed in a future release of LightGBM. Pass 'log_evaluation()' callback via 'callbacks' argument instead.\n",
      "  _log_warning(\"'verbose_eval' argument is deprecated and will be removed in a future release of LightGBM. \"\n",
      "\t-130.7317\t = Validation score   (root_mean_squared_error)\n",
      "\t12.06s\t = Training   runtime\n",
      "\t0.12s\t = Validation runtime\n",
      "Completed 1/20 k-fold bagging repeats ...\n",
      "Fitting model: WeightedEnsemble_L2 ... Training model for up to 360.0s of the 325.0s of remaining time.\n",
      "\t-118.4144\t = Validation score   (root_mean_squared_error)\n",
      "\t0.28s\t = Training   runtime\n",
      "\t0.0s\t = Validation runtime\n",
      "Fitting 9 L2 models ...\n",
      "Fitting model: LightGBMXT_BAG_L2 ... Training model for up to 324.72s of the 324.71s of remaining time.\n",
      "/home/azathoth/anaconda3/lib/python3.7/site-packages/lightgbm/engine.py:239: UserWarning: 'verbose_eval' argument is deprecated and will be removed in a future release of LightGBM. Pass 'log_evaluation()' callback via 'callbacks' argument instead.\n",
      "  _log_warning(\"'verbose_eval' argument is deprecated and will be removed in a future release of LightGBM. \"\n",
      "/home/azathoth/anaconda3/lib/python3.7/site-packages/lightgbm/engine.py:239: UserWarning: 'verbose_eval' argument is deprecated and will be removed in a future release of LightGBM. Pass 'log_evaluation()' callback via 'callbacks' argument instead.\n",
      "  _log_warning(\"'verbose_eval' argument is deprecated and will be removed in a future release of LightGBM. \"\n",
      "/home/azathoth/anaconda3/lib/python3.7/site-packages/lightgbm/engine.py:239: UserWarning: 'verbose_eval' argument is deprecated and will be removed in a future release of LightGBM. Pass 'log_evaluation()' callback via 'callbacks' argument instead.\n",
      "  _log_warning(\"'verbose_eval' argument is deprecated and will be removed in a future release of LightGBM. \"\n",
      "/home/azathoth/anaconda3/lib/python3.7/site-packages/lightgbm/engine.py:239: UserWarning: 'verbose_eval' argument is deprecated and will be removed in a future release of LightGBM. Pass 'log_evaluation()' callback via 'callbacks' argument instead.\n",
      "  _log_warning(\"'verbose_eval' argument is deprecated and will be removed in a future release of LightGBM. \"\n",
      "/home/azathoth/anaconda3/lib/python3.7/site-packages/lightgbm/engine.py:239: UserWarning: 'verbose_eval' argument is deprecated and will be removed in a future release of LightGBM. Pass 'log_evaluation()' callback via 'callbacks' argument instead.\n",
      "  _log_warning(\"'verbose_eval' argument is deprecated and will be removed in a future release of LightGBM. \"\n"
     ]
    },
    {
     "name": "stderr",
     "output_type": "stream",
     "text": [
      "/home/azathoth/anaconda3/lib/python3.7/site-packages/lightgbm/engine.py:239: UserWarning: 'verbose_eval' argument is deprecated and will be removed in a future release of LightGBM. Pass 'log_evaluation()' callback via 'callbacks' argument instead.\n",
      "  _log_warning(\"'verbose_eval' argument is deprecated and will be removed in a future release of LightGBM. \"\n",
      "/home/azathoth/anaconda3/lib/python3.7/site-packages/lightgbm/engine.py:239: UserWarning: 'verbose_eval' argument is deprecated and will be removed in a future release of LightGBM. Pass 'log_evaluation()' callback via 'callbacks' argument instead.\n",
      "  _log_warning(\"'verbose_eval' argument is deprecated and will be removed in a future release of LightGBM. \"\n",
      "/home/azathoth/anaconda3/lib/python3.7/site-packages/lightgbm/engine.py:239: UserWarning: 'verbose_eval' argument is deprecated and will be removed in a future release of LightGBM. Pass 'log_evaluation()' callback via 'callbacks' argument instead.\n",
      "  _log_warning(\"'verbose_eval' argument is deprecated and will be removed in a future release of LightGBM. \"\n",
      "/home/azathoth/anaconda3/lib/python3.7/site-packages/lightgbm/engine.py:239: UserWarning: 'verbose_eval' argument is deprecated and will be removed in a future release of LightGBM. Pass 'log_evaluation()' callback via 'callbacks' argument instead.\n",
      "  _log_warning(\"'verbose_eval' argument is deprecated and will be removed in a future release of LightGBM. \"\n",
      "/home/azathoth/anaconda3/lib/python3.7/site-packages/lightgbm/engine.py:239: UserWarning: 'verbose_eval' argument is deprecated and will be removed in a future release of LightGBM. Pass 'log_evaluation()' callback via 'callbacks' argument instead.\n",
      "  _log_warning(\"'verbose_eval' argument is deprecated and will be removed in a future release of LightGBM. \"\n",
      "\t-116.1633\t = Validation score   (root_mean_squared_error)\n",
      "\t3.84s\t = Training   runtime\n",
      "\t0.07s\t = Validation runtime\n",
      "Fitting model: LightGBM_BAG_L2 ... Training model for up to 320.7s of the 320.7s of remaining time.\n",
      "/home/azathoth/anaconda3/lib/python3.7/site-packages/lightgbm/engine.py:239: UserWarning: 'verbose_eval' argument is deprecated and will be removed in a future release of LightGBM. Pass 'log_evaluation()' callback via 'callbacks' argument instead.\n",
      "  _log_warning(\"'verbose_eval' argument is deprecated and will be removed in a future release of LightGBM. \"\n",
      "/home/azathoth/anaconda3/lib/python3.7/site-packages/lightgbm/engine.py:239: UserWarning: 'verbose_eval' argument is deprecated and will be removed in a future release of LightGBM. Pass 'log_evaluation()' callback via 'callbacks' argument instead.\n",
      "  _log_warning(\"'verbose_eval' argument is deprecated and will be removed in a future release of LightGBM. \"\n",
      "/home/azathoth/anaconda3/lib/python3.7/site-packages/lightgbm/engine.py:239: UserWarning: 'verbose_eval' argument is deprecated and will be removed in a future release of LightGBM. Pass 'log_evaluation()' callback via 'callbacks' argument instead.\n",
      "  _log_warning(\"'verbose_eval' argument is deprecated and will be removed in a future release of LightGBM. \"\n",
      "/home/azathoth/anaconda3/lib/python3.7/site-packages/lightgbm/engine.py:239: UserWarning: 'verbose_eval' argument is deprecated and will be removed in a future release of LightGBM. Pass 'log_evaluation()' callback via 'callbacks' argument instead.\n",
      "  _log_warning(\"'verbose_eval' argument is deprecated and will be removed in a future release of LightGBM. \"\n",
      "/home/azathoth/anaconda3/lib/python3.7/site-packages/lightgbm/engine.py:239: UserWarning: 'verbose_eval' argument is deprecated and will be removed in a future release of LightGBM. Pass 'log_evaluation()' callback via 'callbacks' argument instead.\n",
      "  _log_warning(\"'verbose_eval' argument is deprecated and will be removed in a future release of LightGBM. \"\n",
      "/home/azathoth/anaconda3/lib/python3.7/site-packages/lightgbm/engine.py:239: UserWarning: 'verbose_eval' argument is deprecated and will be removed in a future release of LightGBM. Pass 'log_evaluation()' callback via 'callbacks' argument instead.\n",
      "  _log_warning(\"'verbose_eval' argument is deprecated and will be removed in a future release of LightGBM. \"\n",
      "/home/azathoth/anaconda3/lib/python3.7/site-packages/lightgbm/engine.py:239: UserWarning: 'verbose_eval' argument is deprecated and will be removed in a future release of LightGBM. Pass 'log_evaluation()' callback via 'callbacks' argument instead.\n",
      "  _log_warning(\"'verbose_eval' argument is deprecated and will be removed in a future release of LightGBM. \"\n",
      "/home/azathoth/anaconda3/lib/python3.7/site-packages/lightgbm/engine.py:239: UserWarning: 'verbose_eval' argument is deprecated and will be removed in a future release of LightGBM. Pass 'log_evaluation()' callback via 'callbacks' argument instead.\n",
      "  _log_warning(\"'verbose_eval' argument is deprecated and will be removed in a future release of LightGBM. \"\n",
      "/home/azathoth/anaconda3/lib/python3.7/site-packages/lightgbm/engine.py:239: UserWarning: 'verbose_eval' argument is deprecated and will be removed in a future release of LightGBM. Pass 'log_evaluation()' callback via 'callbacks' argument instead.\n",
      "  _log_warning(\"'verbose_eval' argument is deprecated and will be removed in a future release of LightGBM. \"\n",
      "/home/azathoth/anaconda3/lib/python3.7/site-packages/lightgbm/engine.py:239: UserWarning: 'verbose_eval' argument is deprecated and will be removed in a future release of LightGBM. Pass 'log_evaluation()' callback via 'callbacks' argument instead.\n",
      "  _log_warning(\"'verbose_eval' argument is deprecated and will be removed in a future release of LightGBM. \"\n",
      "\t-116.8888\t = Validation score   (root_mean_squared_error)\n",
      "\t2.73s\t = Training   runtime\n",
      "\t0.03s\t = Validation runtime\n",
      "Fitting model: RandomForestMSE_BAG_L2 ... Training model for up to 317.82s of the 317.81s of remaining time.\n",
      "\t-119.3653\t = Validation score   (root_mean_squared_error)\n",
      "\t6.54s\t = Training   runtime\n",
      "\t0.35s\t = Validation runtime\n",
      "Fitting model: CatBoost_BAG_L2 ... Training model for up to 310.49s of the 310.49s of remaining time.\n",
      "\t-116.5167\t = Validation score   (root_mean_squared_error)\n",
      "\t11.93s\t = Training   runtime\n",
      "\t0.03s\t = Validation runtime\n",
      "Fitting model: ExtraTreesMSE_BAG_L2 ... Training model for up to 298.51s of the 298.5s of remaining time.\n",
      "\t-117.7279\t = Validation score   (root_mean_squared_error)\n",
      "\t1.59s\t = Training   runtime\n",
      "\t0.38s\t = Validation runtime\n",
      "Fitting model: NeuralNetFastAI_BAG_L2 ... Training model for up to 296.13s of the 296.12s of remaining time.\n",
      "\tWarning: Exception caused NeuralNetFastAI_BAG_L2 to fail during training (ImportError)... Skipping this model.\n",
      "\t\tImport fastai failed. A quick tip is to install via `pip install fastai==2.*`. If you are using Mac OSX, please use this torch version to avoid compatibility issues: `pip install torch==1.6.0`.\n",
      "Fitting model: XGBoost_BAG_L2 ... Training model for up to 296.11s of the 296.1s of remaining time.\n",
      "\t-117.3878\t = Validation score   (root_mean_squared_error)\n",
      "\t8.03s\t = Training   runtime\n",
      "\t0.04s\t = Validation runtime\n",
      "Fitting model: NeuralNetMXNet_BAG_L2 ... Training model for up to 287.7s of the 287.69s of remaining time.\n",
      "\t-118.8083\t = Validation score   (root_mean_squared_error)\n",
      "\t131.6s\t = Training   runtime\n",
      "\t1.14s\t = Validation runtime\n",
      "Fitting model: LightGBMLarge_BAG_L2 ... Training model for up to 154.91s of the 154.9s of remaining time.\n",
      "/home/azathoth/anaconda3/lib/python3.7/site-packages/lightgbm/engine.py:239: UserWarning: 'verbose_eval' argument is deprecated and will be removed in a future release of LightGBM. Pass 'log_evaluation()' callback via 'callbacks' argument instead.\n",
      "  _log_warning(\"'verbose_eval' argument is deprecated and will be removed in a future release of LightGBM. \"\n",
      "/home/azathoth/anaconda3/lib/python3.7/site-packages/lightgbm/engine.py:239: UserWarning: 'verbose_eval' argument is deprecated and will be removed in a future release of LightGBM. Pass 'log_evaluation()' callback via 'callbacks' argument instead.\n",
      "  _log_warning(\"'verbose_eval' argument is deprecated and will be removed in a future release of LightGBM. \"\n",
      "/home/azathoth/anaconda3/lib/python3.7/site-packages/lightgbm/engine.py:239: UserWarning: 'verbose_eval' argument is deprecated and will be removed in a future release of LightGBM. Pass 'log_evaluation()' callback via 'callbacks' argument instead.\n",
      "  _log_warning(\"'verbose_eval' argument is deprecated and will be removed in a future release of LightGBM. \"\n"
     ]
    },
    {
     "name": "stderr",
     "output_type": "stream",
     "text": [
      "/home/azathoth/anaconda3/lib/python3.7/site-packages/lightgbm/engine.py:239: UserWarning: 'verbose_eval' argument is deprecated and will be removed in a future release of LightGBM. Pass 'log_evaluation()' callback via 'callbacks' argument instead.\n",
      "  _log_warning(\"'verbose_eval' argument is deprecated and will be removed in a future release of LightGBM. \"\n",
      "/home/azathoth/anaconda3/lib/python3.7/site-packages/lightgbm/engine.py:239: UserWarning: 'verbose_eval' argument is deprecated and will be removed in a future release of LightGBM. Pass 'log_evaluation()' callback via 'callbacks' argument instead.\n",
      "  _log_warning(\"'verbose_eval' argument is deprecated and will be removed in a future release of LightGBM. \"\n",
      "/home/azathoth/anaconda3/lib/python3.7/site-packages/lightgbm/engine.py:239: UserWarning: 'verbose_eval' argument is deprecated and will be removed in a future release of LightGBM. Pass 'log_evaluation()' callback via 'callbacks' argument instead.\n",
      "  _log_warning(\"'verbose_eval' argument is deprecated and will be removed in a future release of LightGBM. \"\n",
      "/home/azathoth/anaconda3/lib/python3.7/site-packages/lightgbm/engine.py:239: UserWarning: 'verbose_eval' argument is deprecated and will be removed in a future release of LightGBM. Pass 'log_evaluation()' callback via 'callbacks' argument instead.\n",
      "  _log_warning(\"'verbose_eval' argument is deprecated and will be removed in a future release of LightGBM. \"\n",
      "/home/azathoth/anaconda3/lib/python3.7/site-packages/lightgbm/engine.py:239: UserWarning: 'verbose_eval' argument is deprecated and will be removed in a future release of LightGBM. Pass 'log_evaluation()' callback via 'callbacks' argument instead.\n",
      "  _log_warning(\"'verbose_eval' argument is deprecated and will be removed in a future release of LightGBM. \"\n",
      "/home/azathoth/anaconda3/lib/python3.7/site-packages/lightgbm/engine.py:239: UserWarning: 'verbose_eval' argument is deprecated and will be removed in a future release of LightGBM. Pass 'log_evaluation()' callback via 'callbacks' argument instead.\n",
      "  _log_warning(\"'verbose_eval' argument is deprecated and will be removed in a future release of LightGBM. \"\n",
      "/home/azathoth/anaconda3/lib/python3.7/site-packages/lightgbm/engine.py:239: UserWarning: 'verbose_eval' argument is deprecated and will be removed in a future release of LightGBM. Pass 'log_evaluation()' callback via 'callbacks' argument instead.\n",
      "  _log_warning(\"'verbose_eval' argument is deprecated and will be removed in a future release of LightGBM. \"\n",
      "\t-118.1315\t = Validation score   (root_mean_squared_error)\n",
      "\t14.46s\t = Training   runtime\n",
      "\t0.05s\t = Validation runtime\n",
      "Completed 1/20 k-fold bagging repeats ...\n",
      "Fitting model: WeightedEnsemble_L3 ... Training model for up to 360.0s of the 140.19s of remaining time.\n",
      "\t-115.5538\t = Validation score   (root_mean_squared_error)\n",
      "\t0.23s\t = Training   runtime\n",
      "\t0.0s\t = Validation runtime\n",
      "AutoGluon training complete, total runtime = 460.05s ...\n",
      "TabularPredictor saved. To load, use: predictor = TabularPredictor.load(\"./data/run_1/\")\n"
     ]
    }
   ],
   "source": [
    "predictor = TabularPredictor(\n",
    "    label='count', \n",
    "    problem_type=\"regression\", \n",
    "    eval_metric=\"root_mean_squared_error\", \n",
    "    path='./data/run_1'\n",
    ").fit(\n",
    "    train_data = train.drop(\n",
    "    labels=['casual', 'registered'], axis=1),\n",
    "    time_limit=600,\n",
    "    presets=\"best_quality\",\n",
    ")"
   ]
  },
  {
   "cell_type": "markdown",
   "metadata": {},
   "source": [
    "### Create predictions from test dataset"
   ]
  },
  {
   "cell_type": "code",
   "execution_count": 8,
   "metadata": {},
   "outputs": [
    {
     "data": {
      "text/plain": [
       "0    94.882065\n",
       "1    86.488220\n",
       "2    86.488571\n",
       "3    98.488503\n",
       "4    98.516037\n",
       "Name: count, dtype: float32"
      ]
     },
     "execution_count": 8,
     "metadata": {},
     "output_type": "execute_result"
    }
   ],
   "source": [
    "predictions = predictor.predict(test)"
   ]
  },
  {
   "cell_type": "code",
   "execution_count": 9,
   "metadata": {},
   "outputs": [
    {
     "name": "stdout",
     "output_type": "stream",
     "text": [
      "Saving file...\n"
     ]
    }
   ],
   "source": [
    "save_data(predictions, \"data/predictions_org.pkl\")"
   ]
  },
  {
   "cell_type": "code",
   "execution_count": 12,
   "metadata": {},
   "outputs": [],
   "source": [
    "predictions = load_data(\"./data/predictions_org.pkl\")"
   ]
  },
  {
   "cell_type": "code",
   "execution_count": 13,
   "metadata": {},
   "outputs": [
    {
     "data": {
      "text/plain": [
       "0    94.882065\n",
       "1    86.488220\n",
       "2    86.488571\n",
       "3    98.488503\n",
       "4    98.516037\n",
       "Name: count, dtype: float32"
      ]
     },
     "execution_count": 13,
     "metadata": {},
     "output_type": "execute_result"
    }
   ],
   "source": [
    "predictions.head()"
   ]
  },
  {
   "cell_type": "markdown",
   "metadata": {},
   "source": [
    "#### NOTE: Kaggle will reject the submission if we don't set everything to be > 0."
   ]
  },
  {
   "cell_type": "code",
   "execution_count": 14,
   "metadata": {},
   "outputs": [
    {
     "data": {
      "text/plain": [
       "count    6493.000000\n",
       "mean      207.757721\n",
       "std       127.554802\n",
       "min        10.577404\n",
       "25%       102.848167\n",
       "50%       192.014648\n",
       "75%       291.180359\n",
       "max       643.280640\n",
       "Name: count, dtype: float64"
      ]
     },
     "execution_count": 14,
     "metadata": {},
     "output_type": "execute_result"
    }
   ],
   "source": [
    "# Describe the `predictions` series to see if there are any negative values\n",
    "predictions.describe()"
   ]
  },
  {
   "cell_type": "code",
   "execution_count": 15,
   "metadata": {},
   "outputs": [
    {
     "data": {
      "text/plain": [
       "Series([], Name: count, dtype: float32)"
      ]
     },
     "execution_count": 15,
     "metadata": {},
     "output_type": "execute_result"
    }
   ],
   "source": [
    "# How many negative values do we have?\n",
    "predictions[predictions<0]"
   ]
  },
  {
   "cell_type": "code",
   "execution_count": 16,
   "metadata": {},
   "outputs": [
    {
     "name": "stdout",
     "output_type": "stream",
     "text": [
      "I don't see any negative prediction values so I will not set anything to zero.\n"
     ]
    }
   ],
   "source": [
    "# Set them to zero\n",
    "print(\"I don't see any negative prediction values so I will not set anything to zero.\")"
   ]
  },
  {
   "cell_type": "markdown",
   "metadata": {},
   "source": [
    "### Set predictions to submission dataframe, save, and submit"
   ]
  },
  {
   "cell_type": "code",
   "execution_count": 37,
   "metadata": {},
   "outputs": [],
   "source": [
    "submission[\"count\"] = predictions\n",
    "submission.to_csv(\"submission.csv\", index=False)"
   ]
  },
  {
   "cell_type": "code",
   "execution_count": 40,
   "metadata": {},
   "outputs": [
    {
     "name": "stdout",
     "output_type": "stream",
     "text": [
      "Warning: Your Kaggle API key is readable by other users on this system! To fix this, you can run 'chmod 600 /home/deimos/.kaggle/kaggle.json'\n",
      "100%|█████████████████████████████████████████| 188k/188k [00:01<00:00, 135kB/s]\n",
      "Successfully submitted to Bike Sharing Demand"
     ]
    }
   ],
   "source": [
    "!kaggle competitions submit -c bike-sharing-demand -f submission.csv -m \"first raw submission\""
   ]
  },
  {
   "cell_type": "markdown",
   "metadata": {},
   "source": [
    "#### View submission via the command line or in the web browser under the competition's page - `My Submissions`"
   ]
  },
  {
   "cell_type": "code",
   "execution_count": 41,
   "metadata": {},
   "outputs": [
    {
     "name": "stdout",
     "output_type": "stream",
     "text": [
      "Warning: Your Kaggle API key is readable by other users on this system! To fix this, you can run 'chmod 600 /home/deimos/.kaggle/kaggle.json'\r\n",
      "fileName        date                 description           status    publicScore  privateScore  \r\n",
      "--------------  -------------------  --------------------  --------  -----------  ------------  \r\n",
      "submission.csv  2022-01-01 06:18:09  first raw submission  complete  1.37882      1.37882       \r\n"
     ]
    }
   ],
   "source": [
    "!kaggle competitions submissions -c bike-sharing-demand | tail -n +1 | head -n 6"
   ]
  },
  {
   "cell_type": "markdown",
   "metadata": {},
   "source": [
    "#### Initial score of `1.37882`"
   ]
  },
  {
   "cell_type": "markdown",
   "metadata": {},
   "source": [
    "## Step 4: Exploratory Data Analysis and Creating an additional feature\n",
    "* Any additional feature will do, but a great suggestion would be to separate out the datetime into hour, day, or month parts."
   ]
  },
  {
   "cell_type": "markdown",
   "metadata": {},
   "source": [
    "|field|description|\n",
    "|:--- |:--- |\n",
    "|datetime|hourly date + timestamp  \n",
    "|season| 1 = spring, 2 = summer, 3 = fall, 4 = winter \n",
    "|holiday|whether the day is considered a holiday\n",
    "|workingday|whether the day is neither a weekend nor holiday\n",
    "|weather||\n",
    "|1|Clear, Few clouds, Partly cloudy, Partly cloudy \n",
    "|2|Mist + Cloudy, Mist + Broken clouds, Mist + Few clouds, Mist\n",
    "|3|Light Snow, Light Rain + Thunderstorm + Scattered clouds, Light Rain + Scattered clouds\n",
    "|4|Heavy Rain + Ice Pallets + Thunderstorm + Mist, Snow + Fog \n",
    "|temp|temperature in Celsius\n",
    "|atemp|\"feels like\" temperature in Celsius\n",
    "|humidity|relative humidity\n",
    "|windspeed|wind speed\n",
    "|casual|number of non-registered user rentals initiated\n",
    "|registered|number of registered user rentals initiated\n",
    "|count|number of total rentals"
   ]
  },
  {
   "cell_type": "code",
   "execution_count": 15,
   "metadata": {},
   "outputs": [
    {
     "data": {
      "image/png": "[encoded data removed]",
      "text/plain": [
       "<Figure size 864x648 with 12 Axes>"
      ]
     },
     "metadata": {
      "needs_background": "light"
     },
     "output_type": "display_data"
    }
   ],
   "source": [
    "# Create a histogram of all features to show the distribution of each one relative to the data.\n",
    "# This is part of the exploritory data analysis\n",
    "train.hist(figsize=(12,9));"
   ]
  },
  {
   "cell_type": "code",
   "execution_count": 17,
   "metadata": {},
   "outputs": [],
   "source": [
    "# create a new feature\n",
    "train['month'] = train.datetime.dt.month\n",
    "train['day'] = train.datetime.dt.day\n",
    "train['hour'] = train.datetime.dt.hour\n",
    "\n",
    "test['month'] = test.datetime.dt.month\n",
    "test['day'] = test.datetime.dt.day\n",
    "test['hour'] = test.datetime.dt.hour"
   ]
  },
  {
   "cell_type": "markdown",
   "metadata": {},
   "source": [
    "## Make category types for these so models know they are not just numbers\n",
    "* AutoGluon originally sees these as ints, but in reality they are int representations of a category.\n",
    "* Setting the dtype to category will classify these as categories in AutoGluon."
   ]
  },
  {
   "cell_type": "code",
   "execution_count": 18,
   "metadata": {},
   "outputs": [
    {
     "name": "stdout",
     "output_type": "stream",
     "text": [
      "<class 'pandas.core.frame.DataFrame'>\n",
      "RangeIndex: 10886 entries, 0 to 10885\n",
      "Data columns (total 15 columns):\n",
      " #   Column      Non-Null Count  Dtype         \n",
      "---  ------      --------------  -----         \n",
      " 0   datetime    10886 non-null  datetime64[ns]\n",
      " 1   season      10886 non-null  int64         \n",
      " 2   holiday     10886 non-null  int64         \n",
      " 3   workingday  10886 non-null  int64         \n",
      " 4   weather     10886 non-null  int64         \n",
      " 5   temp        10886 non-null  float64       \n",
      " 6   atemp       10886 non-null  float64       \n",
      " 7   humidity    10886 non-null  int64         \n",
      " 8   windspeed   10886 non-null  float64       \n",
      " 9   casual      10886 non-null  int64         \n",
      " 10  registered  10886 non-null  int64         \n",
      " 11  count       10886 non-null  int64         \n",
      " 12  month       10886 non-null  int64         \n",
      " 13  day         10886 non-null  int64         \n",
      " 14  hour        10886 non-null  int64         \n",
      "dtypes: datetime64[ns](1), float64(3), int64(11)\n",
      "memory usage: 1.2 MB\n"
     ]
    }
   ],
   "source": [
    "train.info()"
   ]
  },
  {
   "cell_type": "code",
   "execution_count": 19,
   "metadata": {},
   "outputs": [],
   "source": [
    "train[\"season\"] = train[\"season\"].astype('category')\n",
    "train[\"weather\"] = train[\"weather\"].astype('category')\n",
    "test[\"season\"] = test[\"season\"].astype('category')\n",
    "test[\"weather\"] = test[\"weather\"].astype('category')"
   ]
  },
  {
   "cell_type": "code",
   "execution_count": 20,
   "metadata": {},
   "outputs": [
    {
     "data": {
      "text/html": [
       "<div>\n",
       "<style scoped>\n",
       "    .dataframe tbody tr th:only-of-type {\n",
       "        vertical-align: middle;\n",
       "    }\n",
       "\n",
       "    .dataframe tbody tr th {\n",
       "        vertical-align: top;\n",
       "    }\n",
       "\n",
       "    .dataframe thead th {\n",
       "        text-align: right;\n",
       "    }\n",
       "</style>\n",
       "<table border=\"1\" class=\"dataframe\">\n",
       "  <thead>\n",
       "    <tr style=\"text-align: right;\">\n",
       "      <th></th>\n",
       "      <th>datetime</th>\n",
       "      <th>season</th>\n",
       "      <th>holiday</th>\n",
       "      <th>workingday</th>\n",
       "      <th>weather</th>\n",
       "      <th>temp</th>\n",
       "      <th>atemp</th>\n",
       "      <th>humidity</th>\n",
       "      <th>windspeed</th>\n",
       "      <th>casual</th>\n",
       "      <th>registered</th>\n",
       "      <th>count</th>\n",
       "      <th>month</th>\n",
       "      <th>day</th>\n",
       "      <th>hour</th>\n",
       "    </tr>\n",
       "  </thead>\n",
       "  <tbody>\n",
       "    <tr>\n",
       "      <th>0</th>\n",
       "      <td>2011-01-01 00:00:00</td>\n",
       "      <td>1</td>\n",
       "      <td>0</td>\n",
       "      <td>0</td>\n",
       "      <td>1</td>\n",
       "      <td>9.84</td>\n",
       "      <td>14.395</td>\n",
       "      <td>81</td>\n",
       "      <td>0.0</td>\n",
       "      <td>3</td>\n",
       "      <td>13</td>\n",
       "      <td>16</td>\n",
       "      <td>1</td>\n",
       "      <td>1</td>\n",
       "      <td>0</td>\n",
       "    </tr>\n",
       "    <tr>\n",
       "      <th>1</th>\n",
       "      <td>2011-01-01 01:00:00</td>\n",
       "      <td>1</td>\n",
       "      <td>0</td>\n",
       "      <td>0</td>\n",
       "      <td>1</td>\n",
       "      <td>9.02</td>\n",
       "      <td>13.635</td>\n",
       "      <td>80</td>\n",
       "      <td>0.0</td>\n",
       "      <td>8</td>\n",
       "      <td>32</td>\n",
       "      <td>40</td>\n",
       "      <td>1</td>\n",
       "      <td>1</td>\n",
       "      <td>1</td>\n",
       "    </tr>\n",
       "    <tr>\n",
       "      <th>2</th>\n",
       "      <td>2011-01-01 02:00:00</td>\n",
       "      <td>1</td>\n",
       "      <td>0</td>\n",
       "      <td>0</td>\n",
       "      <td>1</td>\n",
       "      <td>9.02</td>\n",
       "      <td>13.635</td>\n",
       "      <td>80</td>\n",
       "      <td>0.0</td>\n",
       "      <td>5</td>\n",
       "      <td>27</td>\n",
       "      <td>32</td>\n",
       "      <td>1</td>\n",
       "      <td>1</td>\n",
       "      <td>2</td>\n",
       "    </tr>\n",
       "    <tr>\n",
       "      <th>3</th>\n",
       "      <td>2011-01-01 03:00:00</td>\n",
       "      <td>1</td>\n",
       "      <td>0</td>\n",
       "      <td>0</td>\n",
       "      <td>1</td>\n",
       "      <td>9.84</td>\n",
       "      <td>14.395</td>\n",
       "      <td>75</td>\n",
       "      <td>0.0</td>\n",
       "      <td>3</td>\n",
       "      <td>10</td>\n",
       "      <td>13</td>\n",
       "      <td>1</td>\n",
       "      <td>1</td>\n",
       "      <td>3</td>\n",
       "    </tr>\n",
       "    <tr>\n",
       "      <th>4</th>\n",
       "      <td>2011-01-01 04:00:00</td>\n",
       "      <td>1</td>\n",
       "      <td>0</td>\n",
       "      <td>0</td>\n",
       "      <td>1</td>\n",
       "      <td>9.84</td>\n",
       "      <td>14.395</td>\n",
       "      <td>75</td>\n",
       "      <td>0.0</td>\n",
       "      <td>0</td>\n",
       "      <td>1</td>\n",
       "      <td>1</td>\n",
       "      <td>1</td>\n",
       "      <td>1</td>\n",
       "      <td>4</td>\n",
       "    </tr>\n",
       "  </tbody>\n",
       "</table>\n",
       "</div>"
      ],
      "text/plain": [
       "             datetime season  holiday  workingday weather  temp   atemp  \\\n",
       "0 2011-01-01 00:00:00      1        0           0       1  9.84  14.395   \n",
       "1 2011-01-01 01:00:00      1        0           0       1  9.02  13.635   \n",
       "2 2011-01-01 02:00:00      1        0           0       1  9.02  13.635   \n",
       "3 2011-01-01 03:00:00      1        0           0       1  9.84  14.395   \n",
       "4 2011-01-01 04:00:00      1        0           0       1  9.84  14.395   \n",
       "\n",
       "   humidity  windspeed  casual  registered  count  month  day  hour  \n",
       "0        81        0.0       3          13     16      1    1     0  \n",
       "1        80        0.0       8          32     40      1    1     1  \n",
       "2        80        0.0       5          27     32      1    1     2  \n",
       "3        75        0.0       3          10     13      1    1     3  \n",
       "4        75        0.0       0           1      1      1    1     4  "
      ]
     },
     "execution_count": 20,
     "metadata": {},
     "output_type": "execute_result"
    }
   ],
   "source": [
    "# View are new feature\n",
    "train.head()"
   ]
  },
  {
   "cell_type": "code",
   "execution_count": 21,
   "metadata": {},
   "outputs": [
    {
     "name": "stdout",
     "output_type": "stream",
     "text": [
      "<class 'pandas.core.frame.DataFrame'>\n",
      "RangeIndex: 10886 entries, 0 to 10885\n",
      "Data columns (total 15 columns):\n",
      " #   Column      Non-Null Count  Dtype         \n",
      "---  ------      --------------  -----         \n",
      " 0   datetime    10886 non-null  datetime64[ns]\n",
      " 1   season      10886 non-null  category      \n",
      " 2   holiday     10886 non-null  int64         \n",
      " 3   workingday  10886 non-null  int64         \n",
      " 4   weather     10886 non-null  category      \n",
      " 5   temp        10886 non-null  float64       \n",
      " 6   atemp       10886 non-null  float64       \n",
      " 7   humidity    10886 non-null  int64         \n",
      " 8   windspeed   10886 non-null  float64       \n",
      " 9   casual      10886 non-null  int64         \n",
      " 10  registered  10886 non-null  int64         \n",
      " 11  count       10886 non-null  int64         \n",
      " 12  month       10886 non-null  int64         \n",
      " 13  day         10886 non-null  int64         \n",
      " 14  hour        10886 non-null  int64         \n",
      "dtypes: category(2), datetime64[ns](1), float64(3), int64(9)\n",
      "memory usage: 1.1 MB\n"
     ]
    }
   ],
   "source": [
    "train.info()"
   ]
  },
  {
   "cell_type": "code",
   "execution_count": 34,
   "metadata": {},
   "outputs": [
    {
     "data": {
      "image/png": "[encoded data removed]",
      "text/plain": [
       "<Figure size 864x648 with 16 Axes>"
      ]
     },
     "metadata": {
      "needs_background": "light"
     },
     "output_type": "display_data"
    }
   ],
   "source": [
    "# View histogram of all features again now with the hour feature\n",
    "train.hist(figsize=(12,9));"
   ]
  },
  {
   "cell_type": "markdown",
   "metadata": {},
   "source": [
    "## Step 5: Rerun the model with the same settings as before, just with more features"
   ]
  },
  {
   "cell_type": "code",
   "execution_count": 15,
   "metadata": {},
   "outputs": [
    {
     "name": "stderr",
     "output_type": "stream",
     "text": [
      "Presets specified: ['best_quality']\n",
      "Beginning AutoGluon training ... Time limit = 600s\n",
      "AutoGluon will save models to \"./data/run_2/\"\n",
      "AutoGluon Version:  0.3.1\n",
      "Train Data Rows:    10886\n",
      "Train Data Columns: 12\n",
      "Preprocessing data ...\n",
      "Using Feature Generators to preprocess the data ...\n",
      "Fitting AutoMLPipelineFeatureGenerator...\n",
      "\tAvailable Memory:                    11917.48 MB\n",
      "\tTrain Data (Original)  Memory Usage: 0.89 MB (0.0% of available memory)\n",
      "\tInferring data type of each feature based on column values. Set feature_metadata_in to manually specify special dtypes of the features.\n",
      "\tStage 1 Generators:\n",
      "\t\tFitting AsTypeFeatureGenerator...\n",
      "\t\t\tNote: Converting 2 features to boolean dtype as they only contain 2 unique values.\n",
      "\tStage 2 Generators:\n",
      "\t\tFitting FillNaFeatureGenerator...\n",
      "\tStage 3 Generators:\n",
      "\t\tFitting IdentityFeatureGenerator...\n",
      "\t\tFitting CategoryFeatureGenerator...\n",
      "\t\t\tFitting CategoryMemoryMinimizeFeatureGenerator...\n",
      "\t\tFitting DatetimeFeatureGenerator...\n",
      "\tStage 4 Generators:\n",
      "\t\tFitting DropUniqueFeatureGenerator...\n",
      "\tTypes of features in original data (raw dtype, special dtypes):\n",
      "\t\t('category', []) : 2 | ['season', 'weather']\n",
      "\t\t('datetime', []) : 1 | ['datetime']\n",
      "\t\t('float', [])    : 3 | ['temp', 'atemp', 'windspeed']\n",
      "\t\t('int', [])      : 6 | ['holiday', 'workingday', 'humidity', 'month', 'day', ...]\n",
      "\tTypes of features in processed data (raw dtype, special dtypes):\n",
      "\t\t('category', [])             : 2 | ['season', 'weather']\n",
      "\t\t('float', [])                : 3 | ['temp', 'atemp', 'windspeed']\n",
      "\t\t('int', [])                  : 4 | ['humidity', 'month', 'day', 'hour']\n",
      "\t\t('int', ['bool'])            : 2 | ['holiday', 'workingday']\n",
      "\t\t('int', ['datetime_as_int']) : 1 | ['datetime']\n",
      "\t0.1s = Fit runtime\n",
      "\t12 features in original data used to generate 12 features in processed data.\n",
      "\tTrain Data (Processed) Memory Usage: 0.74 MB (0.0% of available memory)\n",
      "Data preprocessing and feature engineering runtime = 0.08s ...\n",
      "AutoGluon will gauge predictive performance using evaluation metric: 'root_mean_squared_error'\n",
      "\tTo change this, specify the eval_metric argument of fit()\n",
      "AutoGluon will fit 2 stack levels (L1 to L2) ...\n",
      "Fitting 11 L1 models ...\n",
      "Fitting model: KNeighborsUnif_BAG_L1 ... Training model for up to 399.85s of the 599.92s of remaining time.\n",
      "\t-123.9216\t = Validation score   (root_mean_squared_error)\n",
      "\t0.02s\t = Training   runtime\n",
      "\t0.21s\t = Validation runtime\n",
      "Fitting model: KNeighborsDist_BAG_L1 ... Training model for up to 399.51s of the 599.58s of remaining time.\n",
      "\t-119.3726\t = Validation score   (root_mean_squared_error)\n",
      "\t0.03s\t = Training   runtime\n",
      "\t0.21s\t = Validation runtime\n",
      "Fitting model: LightGBMXT_BAG_L1 ... Training model for up to 399.16s of the 599.23s of remaining time.\n",
      "/home/azathoth/anaconda3/lib/python3.7/site-packages/lightgbm/engine.py:239: UserWarning: 'verbose_eval' argument is deprecated and will be removed in a future release of LightGBM. Pass 'log_evaluation()' callback via 'callbacks' argument instead.\n",
      "  _log_warning(\"'verbose_eval' argument is deprecated and will be removed in a future release of LightGBM. \"\n"
     ]
    },
    {
     "name": "stdout",
     "output_type": "stream",
     "text": [
      "[1000]\ttrain_set's rmse: 30.5878\tvalid_set's rmse: 37.5945\n",
      "[2000]\ttrain_set's rmse: 25.793\tvalid_set's rmse: 36.0817\n",
      "[3000]\ttrain_set's rmse: 23.0687\tvalid_set's rmse: 35.6592\n",
      "[4000]\ttrain_set's rmse: 21.0911\tvalid_set's rmse: 35.6075\n",
      "[5000]\ttrain_set's rmse: 19.5585\tvalid_set's rmse: 35.5693\n"
     ]
    },
    {
     "name": "stderr",
     "output_type": "stream",
     "text": [
      "/home/azathoth/anaconda3/lib/python3.7/site-packages/lightgbm/engine.py:239: UserWarning: 'verbose_eval' argument is deprecated and will be removed in a future release of LightGBM. Pass 'log_evaluation()' callback via 'callbacks' argument instead.\n",
      "  _log_warning(\"'verbose_eval' argument is deprecated and will be removed in a future release of LightGBM. \"\n"
     ]
    },
    {
     "name": "stdout",
     "output_type": "stream",
     "text": [
      "[1000]\ttrain_set's rmse: 30.8203\tvalid_set's rmse: 41.4695\n",
      "[2000]\ttrain_set's rmse: 25.879\tvalid_set's rmse: 39.2637\n",
      "[3000]\ttrain_set's rmse: 23.1935\tvalid_set's rmse: 38.4962\n",
      "[4000]\ttrain_set's rmse: 21.2613\tvalid_set's rmse: 38.1806\n",
      "[5000]\ttrain_set's rmse: 19.746\tvalid_set's rmse: 37.8942\n",
      "[6000]\ttrain_set's rmse: 18.4848\tvalid_set's rmse: 37.6916\n",
      "[7000]\ttrain_set's rmse: 17.4389\tvalid_set's rmse: 37.5691\n",
      "[8000]\ttrain_set's rmse: 16.521\tvalid_set's rmse: 37.545\n",
      "[9000]\ttrain_set's rmse: 15.6977\tvalid_set's rmse: 37.525\n",
      "[10000]\ttrain_set's rmse: 14.9389\tvalid_set's rmse: 37.4721\n"
     ]
    },
    {
     "name": "stderr",
     "output_type": "stream",
     "text": [
      "/home/azathoth/anaconda3/lib/python3.7/site-packages/lightgbm/engine.py:239: UserWarning: 'verbose_eval' argument is deprecated and will be removed in a future release of LightGBM. Pass 'log_evaluation()' callback via 'callbacks' argument instead.\n",
      "  _log_warning(\"'verbose_eval' argument is deprecated and will be removed in a future release of LightGBM. \"\n"
     ]
    },
    {
     "name": "stdout",
     "output_type": "stream",
     "text": [
      "[1000]\ttrain_set's rmse: 31.3224\tvalid_set's rmse: 35.7764\n",
      "[2000]\ttrain_set's rmse: 26.1498\tvalid_set's rmse: 34.4519\n",
      "[3000]\ttrain_set's rmse: 23.3589\tvalid_set's rmse: 34.3154\n"
     ]
    },
    {
     "name": "stderr",
     "output_type": "stream",
     "text": [
      "/home/azathoth/anaconda3/lib/python3.7/site-packages/lightgbm/engine.py:239: UserWarning: 'verbose_eval' argument is deprecated and will be removed in a future release of LightGBM. Pass 'log_evaluation()' callback via 'callbacks' argument instead.\n",
      "  _log_warning(\"'verbose_eval' argument is deprecated and will be removed in a future release of LightGBM. \"\n"
     ]
    },
    {
     "name": "stdout",
     "output_type": "stream",
     "text": [
      "[1000]\ttrain_set's rmse: 30.9221\tvalid_set's rmse: 41.3108\n",
      "[2000]\ttrain_set's rmse: 25.6944\tvalid_set's rmse: 39.3914\n",
      "[3000]\ttrain_set's rmse: 23.0534\tvalid_set's rmse: 38.7312\n",
      "[4000]\ttrain_set's rmse: 21.1476\tvalid_set's rmse: 38.3661\n",
      "[5000]\ttrain_set's rmse: 19.649\tvalid_set's rmse: 38.199\n",
      "[6000]\ttrain_set's rmse: 18.4044\tvalid_set's rmse: 38\n",
      "[7000]\ttrain_set's rmse: 17.3808\tvalid_set's rmse: 37.8712\n",
      "[8000]\ttrain_set's rmse: 16.4885\tvalid_set's rmse: 37.8522\n",
      "[9000]\ttrain_set's rmse: 15.6941\tvalid_set's rmse: 37.7423\n",
      "[10000]\ttrain_set's rmse: 14.9852\tvalid_set's rmse: 37.7145\n"
     ]
    },
    {
     "name": "stderr",
     "output_type": "stream",
     "text": [
      "/home/azathoth/anaconda3/lib/python3.7/site-packages/lightgbm/engine.py:239: UserWarning: 'verbose_eval' argument is deprecated and will be removed in a future release of LightGBM. Pass 'log_evaluation()' callback via 'callbacks' argument instead.\n",
      "  _log_warning(\"'verbose_eval' argument is deprecated and will be removed in a future release of LightGBM. \"\n"
     ]
    },
    {
     "name": "stdout",
     "output_type": "stream",
     "text": [
      "[1000]\ttrain_set's rmse: 30.8176\tvalid_set's rmse: 38.7373\n",
      "[2000]\ttrain_set's rmse: 25.7379\tvalid_set's rmse: 37.1131\n",
      "[3000]\ttrain_set's rmse: 23.0594\tvalid_set's rmse: 36.8133\n",
      "[4000]\ttrain_set's rmse: 21.2012\tvalid_set's rmse: 36.7912\n",
      "[5000]\ttrain_set's rmse: 19.7067\tvalid_set's rmse: 36.7527\n"
     ]
    },
    {
     "name": "stderr",
     "output_type": "stream",
     "text": [
      "/home/azathoth/anaconda3/lib/python3.7/site-packages/lightgbm/engine.py:239: UserWarning: 'verbose_eval' argument is deprecated and will be removed in a future release of LightGBM. Pass 'log_evaluation()' callback via 'callbacks' argument instead.\n",
      "  _log_warning(\"'verbose_eval' argument is deprecated and will be removed in a future release of LightGBM. \"\n"
     ]
    },
    {
     "name": "stdout",
     "output_type": "stream",
     "text": [
      "[1000]\ttrain_set's rmse: 30.5275\tvalid_set's rmse: 41.6176\n",
      "[2000]\ttrain_set's rmse: 25.6587\tvalid_set's rmse: 40.7136\n",
      "[3000]\ttrain_set's rmse: 22.9809\tvalid_set's rmse: 40.4715\n",
      "[4000]\ttrain_set's rmse: 21.0804\tvalid_set's rmse: 40.4018\n"
     ]
    },
    {
     "name": "stderr",
     "output_type": "stream",
     "text": [
      "/home/azathoth/anaconda3/lib/python3.7/site-packages/lightgbm/engine.py:239: UserWarning: 'verbose_eval' argument is deprecated and will be removed in a future release of LightGBM. Pass 'log_evaluation()' callback via 'callbacks' argument instead.\n",
      "  _log_warning(\"'verbose_eval' argument is deprecated and will be removed in a future release of LightGBM. \"\n"
     ]
    },
    {
     "name": "stdout",
     "output_type": "stream",
     "text": [
      "[1000]\ttrain_set's rmse: 31.2445\tvalid_set's rmse: 38.1974\n",
      "[2000]\ttrain_set's rmse: 26.1596\tvalid_set's rmse: 35.3081\n",
      "[3000]\ttrain_set's rmse: 23.4646\tvalid_set's rmse: 34.5886\n",
      "[4000]\ttrain_set's rmse: 21.5012\tvalid_set's rmse: 34.2072\n",
      "[5000]\ttrain_set's rmse: 19.9575\tvalid_set's rmse: 34.0771\n",
      "[6000]\ttrain_set's rmse: 18.6741\tvalid_set's rmse: 34.0497\n",
      "[7000]\ttrain_set's rmse: 17.5938\tvalid_set's rmse: 34.0622\n"
     ]
    },
    {
     "name": "stderr",
     "output_type": "stream",
     "text": [
      "/home/azathoth/anaconda3/lib/python3.7/site-packages/lightgbm/engine.py:239: UserWarning: 'verbose_eval' argument is deprecated and will be removed in a future release of LightGBM. Pass 'log_evaluation()' callback via 'callbacks' argument instead.\n",
      "  _log_warning(\"'verbose_eval' argument is deprecated and will be removed in a future release of LightGBM. \"\n"
     ]
    },
    {
     "name": "stdout",
     "output_type": "stream",
     "text": [
      "[1000]\ttrain_set's rmse: 30.9465\tvalid_set's rmse: 39.2936\n",
      "[2000]\ttrain_set's rmse: 25.9673\tvalid_set's rmse: 37.9164\n",
      "[3000]\ttrain_set's rmse: 23.2424\tvalid_set's rmse: 37.554\n",
      "[4000]\ttrain_set's rmse: 21.2951\tvalid_set's rmse: 37.3552\n",
      "[5000]\ttrain_set's rmse: 19.7329\tvalid_set's rmse: 37.2682\n",
      "[6000]\ttrain_set's rmse: 18.4805\tvalid_set's rmse: 37.2057\n",
      "[7000]\ttrain_set's rmse: 17.4446\tvalid_set's rmse: 37.246\n"
     ]
    },
    {
     "name": "stderr",
     "output_type": "stream",
     "text": [
      "/home/azathoth/anaconda3/lib/python3.7/site-packages/lightgbm/engine.py:239: UserWarning: 'verbose_eval' argument is deprecated and will be removed in a future release of LightGBM. Pass 'log_evaluation()' callback via 'callbacks' argument instead.\n",
      "  _log_warning(\"'verbose_eval' argument is deprecated and will be removed in a future release of LightGBM. \"\n"
     ]
    },
    {
     "name": "stdout",
     "output_type": "stream",
     "text": [
      "[1000]\ttrain_set's rmse: 30.5914\tvalid_set's rmse: 41.1349\n",
      "[2000]\ttrain_set's rmse: 25.7442\tvalid_set's rmse: 40.1602\n",
      "[3000]\ttrain_set's rmse: 23.0758\tvalid_set's rmse: 39.928\n",
      "[4000]\ttrain_set's rmse: 21.1858\tvalid_set's rmse: 39.8469\n",
      "[5000]\ttrain_set's rmse: 19.6919\tvalid_set's rmse: 39.8308\n"
     ]
    },
    {
     "name": "stderr",
     "output_type": "stream",
     "text": [
      "/home/azathoth/anaconda3/lib/python3.7/site-packages/lightgbm/engine.py:239: UserWarning: 'verbose_eval' argument is deprecated and will be removed in a future release of LightGBM. Pass 'log_evaluation()' callback via 'callbacks' argument instead.\n",
      "  _log_warning(\"'verbose_eval' argument is deprecated and will be removed in a future release of LightGBM. \"\n"
     ]
    },
    {
     "name": "stdout",
     "output_type": "stream",
     "text": [
      "[1000]\ttrain_set's rmse: 31.2019\tvalid_set's rmse: 37.3663\n",
      "[2000]\ttrain_set's rmse: 26.1664\tvalid_set's rmse: 35.4792\n",
      "[3000]\ttrain_set's rmse: 23.4247\tvalid_set's rmse: 34.9177\n",
      "[4000]\ttrain_set's rmse: 21.516\tvalid_set's rmse: 34.6833\n",
      "[5000]\ttrain_set's rmse: 20.0336\tvalid_set's rmse: 34.5276\n",
      "[6000]\ttrain_set's rmse: 18.783\tvalid_set's rmse: 34.4199\n",
      "[7000]\ttrain_set's rmse: 17.7029\tvalid_set's rmse: 34.336\n",
      "[8000]\ttrain_set's rmse: 16.7846\tvalid_set's rmse: 34.364\n",
      "[9000]\ttrain_set's rmse: 15.9423\tvalid_set's rmse: 34.3475\n",
      "[10000]\ttrain_set's rmse: 15.2156\tvalid_set's rmse: 34.3716\n"
     ]
    },
    {
     "name": "stderr",
     "output_type": "stream",
     "text": [
      "\t-36.7983\t = Validation score   (root_mean_squared_error)\n",
      "\t107.97s\t = Training   runtime\n",
      "\t1.62s\t = Validation runtime\n",
      "Fitting model: LightGBM_BAG_L1 ... Training model for up to 285.83s of the 485.91s of remaining time.\n",
      "/home/azathoth/anaconda3/lib/python3.7/site-packages/lightgbm/engine.py:239: UserWarning: 'verbose_eval' argument is deprecated and will be removed in a future release of LightGBM. Pass 'log_evaluation()' callback via 'callbacks' argument instead.\n",
      "  _log_warning(\"'verbose_eval' argument is deprecated and will be removed in a future release of LightGBM. \"\n"
     ]
    },
    {
     "name": "stdout",
     "output_type": "stream",
     "text": [
      "[1000]\ttrain_set's rmse: 21.1363\tvalid_set's rmse: 35.5572\n",
      "[2000]\ttrain_set's rmse: 15.5114\tvalid_set's rmse: 35.4473\n"
     ]
    },
    {
     "name": "stderr",
     "output_type": "stream",
     "text": [
      "/home/azathoth/anaconda3/lib/python3.7/site-packages/lightgbm/engine.py:239: UserWarning: 'verbose_eval' argument is deprecated and will be removed in a future release of LightGBM. Pass 'log_evaluation()' callback via 'callbacks' argument instead.\n",
      "  _log_warning(\"'verbose_eval' argument is deprecated and will be removed in a future release of LightGBM. \"\n"
     ]
    },
    {
     "name": "stdout",
     "output_type": "stream",
     "text": [
      "[1000]\ttrain_set's rmse: 21.0431\tvalid_set's rmse: 36.9373\n",
      "[2000]\ttrain_set's rmse: 15.5393\tvalid_set's rmse: 36.1173\n",
      "[3000]\ttrain_set's rmse: 12.204\tvalid_set's rmse: 35.918\n",
      "[4000]\ttrain_set's rmse: 9.99922\tvalid_set's rmse: 35.8485\n"
     ]
    },
    {
     "name": "stderr",
     "output_type": "stream",
     "text": [
      "/home/azathoth/anaconda3/lib/python3.7/site-packages/lightgbm/engine.py:239: UserWarning: 'verbose_eval' argument is deprecated and will be removed in a future release of LightGBM. Pass 'log_evaluation()' callback via 'callbacks' argument instead.\n",
      "  _log_warning(\"'verbose_eval' argument is deprecated and will be removed in a future release of LightGBM. \"\n"
     ]
    },
    {
     "name": "stdout",
     "output_type": "stream",
     "text": [
      "[1000]\ttrain_set's rmse: 21.4766\tvalid_set's rmse: 32.789\n"
     ]
    },
    {
     "name": "stderr",
     "output_type": "stream",
     "text": [
      "/home/azathoth/anaconda3/lib/python3.7/site-packages/lightgbm/engine.py:239: UserWarning: 'verbose_eval' argument is deprecated and will be removed in a future release of LightGBM. Pass 'log_evaluation()' callback via 'callbacks' argument instead.\n",
      "  _log_warning(\"'verbose_eval' argument is deprecated and will be removed in a future release of LightGBM. \"\n"
     ]
    },
    {
     "name": "stdout",
     "output_type": "stream",
     "text": [
      "[1000]\ttrain_set's rmse: 21.4591\tvalid_set's rmse: 38.1004\n",
      "[2000]\ttrain_set's rmse: 15.6967\tvalid_set's rmse: 37.1149\n",
      "[3000]\ttrain_set's rmse: 12.2044\tvalid_set's rmse: 36.7233\n",
      "[4000]\ttrain_set's rmse: 9.95476\tvalid_set's rmse: 36.6799\n"
     ]
    },
    {
     "name": "stderr",
     "output_type": "stream",
     "text": [
      "/home/azathoth/anaconda3/lib/python3.7/site-packages/lightgbm/engine.py:239: UserWarning: 'verbose_eval' argument is deprecated and will be removed in a future release of LightGBM. Pass 'log_evaluation()' callback via 'callbacks' argument instead.\n",
      "  _log_warning(\"'verbose_eval' argument is deprecated and will be removed in a future release of LightGBM. \"\n"
     ]
    },
    {
     "name": "stdout",
     "output_type": "stream",
     "text": [
      "[1000]\ttrain_set's rmse: 21.3995\tvalid_set's rmse: 37.384\n"
     ]
    },
    {
     "name": "stderr",
     "output_type": "stream",
     "text": [
      "/home/azathoth/anaconda3/lib/python3.7/site-packages/lightgbm/engine.py:239: UserWarning: 'verbose_eval' argument is deprecated and will be removed in a future release of LightGBM. Pass 'log_evaluation()' callback via 'callbacks' argument instead.\n",
      "  _log_warning(\"'verbose_eval' argument is deprecated and will be removed in a future release of LightGBM. \"\n",
      "/home/azathoth/anaconda3/lib/python3.7/site-packages/lightgbm/engine.py:239: UserWarning: 'verbose_eval' argument is deprecated and will be removed in a future release of LightGBM. Pass 'log_evaluation()' callback via 'callbacks' argument instead.\n",
      "  _log_warning(\"'verbose_eval' argument is deprecated and will be removed in a future release of LightGBM. \"\n"
     ]
    },
    {
     "name": "stdout",
     "output_type": "stream",
     "text": [
      "[1000]\ttrain_set's rmse: 21.6619\tvalid_set's rmse: 35.9544\n"
     ]
    },
    {
     "name": "stderr",
     "output_type": "stream",
     "text": [
      "/home/azathoth/anaconda3/lib/python3.7/site-packages/lightgbm/engine.py:239: UserWarning: 'verbose_eval' argument is deprecated and will be removed in a future release of LightGBM. Pass 'log_evaluation()' callback via 'callbacks' argument instead.\n",
      "  _log_warning(\"'verbose_eval' argument is deprecated and will be removed in a future release of LightGBM. \"\n"
     ]
    },
    {
     "name": "stdout",
     "output_type": "stream",
     "text": [
      "[1000]\ttrain_set's rmse: 20.9449\tvalid_set's rmse: 35.7483\n",
      "[2000]\ttrain_set's rmse: 15.4023\tvalid_set's rmse: 35.1407\n"
     ]
    },
    {
     "name": "stderr",
     "output_type": "stream",
     "text": [
      "/home/azathoth/anaconda3/lib/python3.7/site-packages/lightgbm/engine.py:239: UserWarning: 'verbose_eval' argument is deprecated and will be removed in a future release of LightGBM. Pass 'log_evaluation()' callback via 'callbacks' argument instead.\n",
      "  _log_warning(\"'verbose_eval' argument is deprecated and will be removed in a future release of LightGBM. \"\n",
      "/home/azathoth/anaconda3/lib/python3.7/site-packages/lightgbm/engine.py:239: UserWarning: 'verbose_eval' argument is deprecated and will be removed in a future release of LightGBM. Pass 'log_evaluation()' callback via 'callbacks' argument instead.\n",
      "  _log_warning(\"'verbose_eval' argument is deprecated and will be removed in a future release of LightGBM. \"\n"
     ]
    },
    {
     "name": "stdout",
     "output_type": "stream",
     "text": [
      "[1000]\ttrain_set's rmse: 21.3287\tvalid_set's rmse: 36.3231\n",
      "[2000]\ttrain_set's rmse: 15.6319\tvalid_set's rmse: 35.6071\n"
     ]
    },
    {
     "name": "stderr",
     "output_type": "stream",
     "text": [
      "\t-36.5792\t = Validation score   (root_mean_squared_error)\n",
      "\t33.36s\t = Training   runtime\n",
      "\t0.22s\t = Validation runtime\n",
      "Fitting model: RandomForestMSE_BAG_L1 ... Training model for up to 251.44s of the 451.51s of remaining time.\n",
      "\t-41.3164\t = Validation score   (root_mean_squared_error)\n",
      "\t3.69s\t = Training   runtime\n",
      "\t0.36s\t = Validation runtime\n",
      "Fitting model: CatBoost_BAG_L1 ... Training model for up to 247.13s of the 447.21s of remaining time.\n",
      "\t-36.3888\t = Validation score   (root_mean_squared_error)\n",
      "\t171.88s\t = Training   runtime\n",
      "\t0.07s\t = Validation runtime\n",
      "Fitting model: ExtraTreesMSE_BAG_L1 ... Training model for up to 75.06s of the 275.13s of remaining time.\n",
      "\t-40.9062\t = Validation score   (root_mean_squared_error)\n",
      "\t1.19s\t = Training   runtime\n",
      "\t0.31s\t = Validation runtime\n",
      "Fitting model: NeuralNetFastAI_BAG_L1 ... Training model for up to 73.2s of the 273.27s of remaining time.\n",
      "\tWarning: Exception caused NeuralNetFastAI_BAG_L1 to fail during training (ImportError)... Skipping this model.\n",
      "\t\tImport fastai failed. A quick tip is to install via `pip install fastai==2.*`. If you are using Mac OSX, please use this torch version to avoid compatibility issues: `pip install torch==1.6.0`.\n",
      "Fitting model: XGBoost_BAG_L1 ... Training model for up to 73.18s of the 273.25s of remaining time.\n",
      "\t-37.394\t = Validation score   (root_mean_squared_error)\n",
      "\t21.56s\t = Training   runtime\n",
      "\t0.12s\t = Validation runtime\n",
      "Fitting model: NeuralNetMXNet_BAG_L1 ... Training model for up to 48.85s of the 248.92s of remaining time.\n",
      "\tRan out of time, stopping training early. (Stopping on epoch 7)\n",
      "\tRan out of time, stopping training early. (Stopping on epoch 8)\n",
      "\tRan out of time, stopping training early. (Stopping on epoch 7)\n",
      "\tRan out of time, stopping training early. (Stopping on epoch 8)\n",
      "\tRan out of time, stopping training early. (Stopping on epoch 6)\n",
      "\tRan out of time, stopping training early. (Stopping on epoch 11)\n",
      "\tRan out of time, stopping training early. (Stopping on epoch 9)\n",
      "\tRan out of time, stopping training early. (Stopping on epoch 10)\n",
      "\tRan out of time, stopping training early. (Stopping on epoch 11)\n",
      "\tRan out of time, stopping training early. (Stopping on epoch 13)\n",
      "\t-136.1067\t = Validation score   (root_mean_squared_error)\n",
      "\t45.89s\t = Training   runtime\n",
      "\t1.23s\t = Validation runtime\n",
      "Fitting model: LightGBMLarge_BAG_L1 ... Training model for up to 1.67s of the 201.74s of remaining time.\n",
      "/home/azathoth/anaconda3/lib/python3.7/site-packages/lightgbm/engine.py:239: UserWarning: 'verbose_eval' argument is deprecated and will be removed in a future release of LightGBM. Pass 'log_evaluation()' callback via 'callbacks' argument instead.\n",
      "  _log_warning(\"'verbose_eval' argument is deprecated and will be removed in a future release of LightGBM. \"\n",
      "\tRan out of time, early stopping on iteration 4. Best iteration is:\n",
      "\t[4]\ttrain_set's rmse: 162.576\tvalid_set's rmse: 161.436\n",
      "\tTime limit exceeded... Skipping LightGBMLarge_BAG_L1.\n",
      "Completed 1/20 k-fold bagging repeats ...\n",
      "Fitting model: WeightedEnsemble_L2 ... Training model for up to 360.0s of the 201.52s of remaining time.\n",
      "\t-35.0313\t = Validation score   (root_mean_squared_error)\n",
      "\t0.37s\t = Training   runtime\n",
      "\t0.0s\t = Validation runtime\n",
      "Fitting 9 L2 models ...\n",
      "Fitting model: LightGBMXT_BAG_L2 ... Training model for up to 201.15s of the 201.14s of remaining time.\n",
      "/home/azathoth/anaconda3/lib/python3.7/site-packages/lightgbm/engine.py:239: UserWarning: 'verbose_eval' argument is deprecated and will be removed in a future release of LightGBM. Pass 'log_evaluation()' callback via 'callbacks' argument instead.\n",
      "  _log_warning(\"'verbose_eval' argument is deprecated and will be removed in a future release of LightGBM. \"\n",
      "/home/azathoth/anaconda3/lib/python3.7/site-packages/lightgbm/engine.py:239: UserWarning: 'verbose_eval' argument is deprecated and will be removed in a future release of LightGBM. Pass 'log_evaluation()' callback via 'callbacks' argument instead.\n",
      "  _log_warning(\"'verbose_eval' argument is deprecated and will be removed in a future release of LightGBM. \"\n",
      "/home/azathoth/anaconda3/lib/python3.7/site-packages/lightgbm/engine.py:239: UserWarning: 'verbose_eval' argument is deprecated and will be removed in a future release of LightGBM. Pass 'log_evaluation()' callback via 'callbacks' argument instead.\n",
      "  _log_warning(\"'verbose_eval' argument is deprecated and will be removed in a future release of LightGBM. \"\n",
      "/home/azathoth/anaconda3/lib/python3.7/site-packages/lightgbm/engine.py:239: UserWarning: 'verbose_eval' argument is deprecated and will be removed in a future release of LightGBM. Pass 'log_evaluation()' callback via 'callbacks' argument instead.\n",
      "  _log_warning(\"'verbose_eval' argument is deprecated and will be removed in a future release of LightGBM. \"\n",
      "/home/azathoth/anaconda3/lib/python3.7/site-packages/lightgbm/engine.py:239: UserWarning: 'verbose_eval' argument is deprecated and will be removed in a future release of LightGBM. Pass 'log_evaluation()' callback via 'callbacks' argument instead.\n",
      "  _log_warning(\"'verbose_eval' argument is deprecated and will be removed in a future release of LightGBM. \"\n",
      "/home/azathoth/anaconda3/lib/python3.7/site-packages/lightgbm/engine.py:239: UserWarning: 'verbose_eval' argument is deprecated and will be removed in a future release of LightGBM. Pass 'log_evaluation()' callback via 'callbacks' argument instead.\n",
      "  _log_warning(\"'verbose_eval' argument is deprecated and will be removed in a future release of LightGBM. \"\n",
      "/home/azathoth/anaconda3/lib/python3.7/site-packages/lightgbm/engine.py:239: UserWarning: 'verbose_eval' argument is deprecated and will be removed in a future release of LightGBM. Pass 'log_evaluation()' callback via 'callbacks' argument instead.\n",
      "  _log_warning(\"'verbose_eval' argument is deprecated and will be removed in a future release of LightGBM. \"\n",
      "/home/azathoth/anaconda3/lib/python3.7/site-packages/lightgbm/engine.py:239: UserWarning: 'verbose_eval' argument is deprecated and will be removed in a future release of LightGBM. Pass 'log_evaluation()' callback via 'callbacks' argument instead.\n",
      "  _log_warning(\"'verbose_eval' argument is deprecated and will be removed in a future release of LightGBM. \"\n",
      "/home/azathoth/anaconda3/lib/python3.7/site-packages/lightgbm/engine.py:239: UserWarning: 'verbose_eval' argument is deprecated and will be removed in a future release of LightGBM. Pass 'log_evaluation()' callback via 'callbacks' argument instead.\n",
      "  _log_warning(\"'verbose_eval' argument is deprecated and will be removed in a future release of LightGBM. \"\n",
      "/home/azathoth/anaconda3/lib/python3.7/site-packages/lightgbm/engine.py:239: UserWarning: 'verbose_eval' argument is deprecated and will be removed in a future release of LightGBM. Pass 'log_evaluation()' callback via 'callbacks' argument instead.\n",
      "  _log_warning(\"'verbose_eval' argument is deprecated and will be removed in a future release of LightGBM. \"\n",
      "\t-36.0654\t = Validation score   (root_mean_squared_error)\n",
      "\t6.63s\t = Training   runtime\n",
      "\t0.13s\t = Validation runtime\n",
      "Fitting model: LightGBM_BAG_L2 ... Training model for up to 194.28s of the 194.27s of remaining time.\n",
      "/home/azathoth/anaconda3/lib/python3.7/site-packages/lightgbm/engine.py:239: UserWarning: 'verbose_eval' argument is deprecated and will be removed in a future release of LightGBM. Pass 'log_evaluation()' callback via 'callbacks' argument instead.\n",
      "  _log_warning(\"'verbose_eval' argument is deprecated and will be removed in a future release of LightGBM. \"\n",
      "/home/azathoth/anaconda3/lib/python3.7/site-packages/lightgbm/engine.py:239: UserWarning: 'verbose_eval' argument is deprecated and will be removed in a future release of LightGBM. Pass 'log_evaluation()' callback via 'callbacks' argument instead.\n",
      "  _log_warning(\"'verbose_eval' argument is deprecated and will be removed in a future release of LightGBM. \"\n",
      "/home/azathoth/anaconda3/lib/python3.7/site-packages/lightgbm/engine.py:239: UserWarning: 'verbose_eval' argument is deprecated and will be removed in a future release of LightGBM. Pass 'log_evaluation()' callback via 'callbacks' argument instead.\n",
      "  _log_warning(\"'verbose_eval' argument is deprecated and will be removed in a future release of LightGBM. \"\n",
      "/home/azathoth/anaconda3/lib/python3.7/site-packages/lightgbm/engine.py:239: UserWarning: 'verbose_eval' argument is deprecated and will be removed in a future release of LightGBM. Pass 'log_evaluation()' callback via 'callbacks' argument instead.\n",
      "  _log_warning(\"'verbose_eval' argument is deprecated and will be removed in a future release of LightGBM. \"\n"
     ]
    },
    {
     "name": "stderr",
     "output_type": "stream",
     "text": [
      "/home/azathoth/anaconda3/lib/python3.7/site-packages/lightgbm/engine.py:239: UserWarning: 'verbose_eval' argument is deprecated and will be removed in a future release of LightGBM. Pass 'log_evaluation()' callback via 'callbacks' argument instead.\n",
      "  _log_warning(\"'verbose_eval' argument is deprecated and will be removed in a future release of LightGBM. \"\n",
      "/home/azathoth/anaconda3/lib/python3.7/site-packages/lightgbm/engine.py:239: UserWarning: 'verbose_eval' argument is deprecated and will be removed in a future release of LightGBM. Pass 'log_evaluation()' callback via 'callbacks' argument instead.\n",
      "  _log_warning(\"'verbose_eval' argument is deprecated and will be removed in a future release of LightGBM. \"\n",
      "/home/azathoth/anaconda3/lib/python3.7/site-packages/lightgbm/engine.py:239: UserWarning: 'verbose_eval' argument is deprecated and will be removed in a future release of LightGBM. Pass 'log_evaluation()' callback via 'callbacks' argument instead.\n",
      "  _log_warning(\"'verbose_eval' argument is deprecated and will be removed in a future release of LightGBM. \"\n",
      "/home/azathoth/anaconda3/lib/python3.7/site-packages/lightgbm/engine.py:239: UserWarning: 'verbose_eval' argument is deprecated and will be removed in a future release of LightGBM. Pass 'log_evaluation()' callback via 'callbacks' argument instead.\n",
      "  _log_warning(\"'verbose_eval' argument is deprecated and will be removed in a future release of LightGBM. \"\n",
      "/home/azathoth/anaconda3/lib/python3.7/site-packages/lightgbm/engine.py:239: UserWarning: 'verbose_eval' argument is deprecated and will be removed in a future release of LightGBM. Pass 'log_evaluation()' callback via 'callbacks' argument instead.\n",
      "  _log_warning(\"'verbose_eval' argument is deprecated and will be removed in a future release of LightGBM. \"\n",
      "/home/azathoth/anaconda3/lib/python3.7/site-packages/lightgbm/engine.py:239: UserWarning: 'verbose_eval' argument is deprecated and will be removed in a future release of LightGBM. Pass 'log_evaluation()' callback via 'callbacks' argument instead.\n",
      "  _log_warning(\"'verbose_eval' argument is deprecated and will be removed in a future release of LightGBM. \"\n",
      "\t-35.7573\t = Validation score   (root_mean_squared_error)\n",
      "\t4.93s\t = Training   runtime\n",
      "\t0.09s\t = Validation runtime\n",
      "Fitting model: RandomForestMSE_BAG_L2 ... Training model for up to 189.19s of the 189.18s of remaining time.\n",
      "\t-35.832\t = Validation score   (root_mean_squared_error)\n",
      "\t6.31s\t = Training   runtime\n",
      "\t0.34s\t = Validation runtime\n",
      "Fitting model: CatBoost_BAG_L2 ... Training model for up to 182.12s of the 182.12s of remaining time.\n",
      "\t-35.4432\t = Validation score   (root_mean_squared_error)\n",
      "\t12.63s\t = Training   runtime\n",
      "\t0.05s\t = Validation runtime\n",
      "Fitting model: ExtraTreesMSE_BAG_L2 ... Training model for up to 169.42s of the 169.41s of remaining time.\n",
      "\t-35.478\t = Validation score   (root_mean_squared_error)\n",
      "\t1.69s\t = Training   runtime\n",
      "\t0.41s\t = Validation runtime\n",
      "Fitting model: NeuralNetFastAI_BAG_L2 ... Training model for up to 167.05s of the 167.05s of remaining time.\n",
      "\tWarning: Exception caused NeuralNetFastAI_BAG_L2 to fail during training (ImportError)... Skipping this model.\n",
      "\t\tImport fastai failed. A quick tip is to install via `pip install fastai==2.*`. If you are using Mac OSX, please use this torch version to avoid compatibility issues: `pip install torch==1.6.0`.\n",
      "Fitting model: XGBoost_BAG_L2 ... Training model for up to 167.03s of the 167.03s of remaining time.\n",
      "\t-35.7164\t = Validation score   (root_mean_squared_error)\n",
      "\t9.32s\t = Training   runtime\n",
      "\t0.15s\t = Validation runtime\n",
      "Fitting model: NeuralNetMXNet_BAG_L2 ... Training model for up to 156.67s of the 156.66s of remaining time.\n",
      "\tRan out of time, stopping training early. (Stopping on epoch 27)\n",
      "\tRan out of time, stopping training early. (Stopping on epoch 29)\n",
      "\tRan out of time, stopping training early. (Stopping on epoch 31)\n",
      "\tRan out of time, stopping training early. (Stopping on epoch 30)\n",
      "\tRan out of time, stopping training early. (Stopping on epoch 32)\n",
      "\tRan out of time, stopping training early. (Stopping on epoch 33)\n",
      "\tRan out of time, stopping training early. (Stopping on epoch 35)\n",
      "\tRan out of time, stopping training early. (Stopping on epoch 37)\n",
      "\tRan out of time, stopping training early. (Stopping on epoch 48)\n",
      "\t-35.8978\t = Validation score   (root_mean_squared_error)\n",
      "\t149.52s\t = Training   runtime\n",
      "\t1.28s\t = Validation runtime\n",
      "Fitting model: LightGBMLarge_BAG_L2 ... Training model for up to 5.8s of the 5.8s of remaining time.\n",
      "/home/azathoth/anaconda3/lib/python3.7/site-packages/lightgbm/engine.py:239: UserWarning: 'verbose_eval' argument is deprecated and will be removed in a future release of LightGBM. Pass 'log_evaluation()' callback via 'callbacks' argument instead.\n",
      "  _log_warning(\"'verbose_eval' argument is deprecated and will be removed in a future release of LightGBM. \"\n",
      "\tRan out of time, early stopping on iteration 63. Best iteration is:\n",
      "\t[63]\ttrain_set's rmse: 36.8806\tvalid_set's rmse: 44.812\n",
      "/home/azathoth/anaconda3/lib/python3.7/site-packages/lightgbm/engine.py:239: UserWarning: 'verbose_eval' argument is deprecated and will be removed in a future release of LightGBM. Pass 'log_evaluation()' callback via 'callbacks' argument instead.\n",
      "  _log_warning(\"'verbose_eval' argument is deprecated and will be removed in a future release of LightGBM. \"\n",
      "\tRan out of time, early stopping on iteration 70. Best iteration is:\n",
      "\t[70]\ttrain_set's rmse: 32.8564\tvalid_set's rmse: 45.6637\n",
      "/home/azathoth/anaconda3/lib/python3.7/site-packages/lightgbm/engine.py:239: UserWarning: 'verbose_eval' argument is deprecated and will be removed in a future release of LightGBM. Pass 'log_evaluation()' callback via 'callbacks' argument instead.\n",
      "  _log_warning(\"'verbose_eval' argument is deprecated and will be removed in a future release of LightGBM. \"\n",
      "\tRan out of time, early stopping on iteration 70. Best iteration is:\n",
      "\t[70]\ttrain_set's rmse: 33.0048\tvalid_set's rmse: 42.8333\n",
      "/home/azathoth/anaconda3/lib/python3.7/site-packages/lightgbm/engine.py:239: UserWarning: 'verbose_eval' argument is deprecated and will be removed in a future release of LightGBM. Pass 'log_evaluation()' callback via 'callbacks' argument instead.\n",
      "  _log_warning(\"'verbose_eval' argument is deprecated and will be removed in a future release of LightGBM. \"\n",
      "\tRan out of time, early stopping on iteration 70. Best iteration is:\n",
      "\t[70]\ttrain_set's rmse: 33.0516\tvalid_set's rmse: 40.6404\n",
      "/home/azathoth/anaconda3/lib/python3.7/site-packages/lightgbm/engine.py:239: UserWarning: 'verbose_eval' argument is deprecated and will be removed in a future release of LightGBM. Pass 'log_evaluation()' callback via 'callbacks' argument instead.\n",
      "  _log_warning(\"'verbose_eval' argument is deprecated and will be removed in a future release of LightGBM. \"\n",
      "\tRan out of time, early stopping on iteration 72. Best iteration is:\n",
      "\t[72]\ttrain_set's rmse: 32.1064\tvalid_set's rmse: 42.3776\n",
      "/home/azathoth/anaconda3/lib/python3.7/site-packages/lightgbm/engine.py:239: UserWarning: 'verbose_eval' argument is deprecated and will be removed in a future release of LightGBM. Pass 'log_evaluation()' callback via 'callbacks' argument instead.\n",
      "  _log_warning(\"'verbose_eval' argument is deprecated and will be removed in a future release of LightGBM. \"\n",
      "\tRan out of time, early stopping on iteration 80. Best iteration is:\n",
      "\t[80]\ttrain_set's rmse: 29.2979\tvalid_set's rmse: 35.2159\n",
      "/home/azathoth/anaconda3/lib/python3.7/site-packages/lightgbm/engine.py:239: UserWarning: 'verbose_eval' argument is deprecated and will be removed in a future release of LightGBM. Pass 'log_evaluation()' callback via 'callbacks' argument instead.\n",
      "  _log_warning(\"'verbose_eval' argument is deprecated and will be removed in a future release of LightGBM. \"\n",
      "\tRan out of time, early stopping on iteration 80. Best iteration is:\n",
      "\t[80]\ttrain_set's rmse: 29.1641\tvalid_set's rmse: 37.1129\n",
      "/home/azathoth/anaconda3/lib/python3.7/site-packages/lightgbm/engine.py:239: UserWarning: 'verbose_eval' argument is deprecated and will be removed in a future release of LightGBM. Pass 'log_evaluation()' callback via 'callbacks' argument instead.\n",
      "  _log_warning(\"'verbose_eval' argument is deprecated and will be removed in a future release of LightGBM. \"\n"
     ]
    },
    {
     "name": "stderr",
     "output_type": "stream",
     "text": [
      "\tRan out of time, early stopping on iteration 83. Best iteration is:\n",
      "\t[83]\ttrain_set's rmse: 27.9746\tvalid_set's rmse: 39.5728\n",
      "/home/azathoth/anaconda3/lib/python3.7/site-packages/lightgbm/engine.py:239: UserWarning: 'verbose_eval' argument is deprecated and will be removed in a future release of LightGBM. Pass 'log_evaluation()' callback via 'callbacks' argument instead.\n",
      "  _log_warning(\"'verbose_eval' argument is deprecated and will be removed in a future release of LightGBM. \"\n",
      "\tRan out of time, early stopping on iteration 95. Best iteration is:\n",
      "\t[95]\ttrain_set's rmse: 25.3173\tvalid_set's rmse: 36.7334\n",
      "/home/azathoth/anaconda3/lib/python3.7/site-packages/lightgbm/engine.py:239: UserWarning: 'verbose_eval' argument is deprecated and will be removed in a future release of LightGBM. Pass 'log_evaluation()' callback via 'callbacks' argument instead.\n",
      "  _log_warning(\"'verbose_eval' argument is deprecated and will be removed in a future release of LightGBM. \"\n",
      "\tRan out of time, early stopping on iteration 97. Best iteration is:\n",
      "\t[97]\ttrain_set's rmse: 24.7869\tvalid_set's rmse: 37.3986\n",
      "\t-40.3829\t = Validation score   (root_mean_squared_error)\n",
      "\t5.52s\t = Training   runtime\n",
      "\t0.09s\t = Validation runtime\n",
      "Completed 1/20 k-fold bagging repeats ...\n",
      "Fitting model: WeightedEnsemble_L3 ... Training model for up to 360.0s of the 0.04s of remaining time.\n",
      "\t-35.0792\t = Validation score   (root_mean_squared_error)\n",
      "\t0.33s\t = Training   runtime\n",
      "\t0.0s\t = Validation runtime\n",
      "AutoGluon training complete, total runtime = 600.3s ...\n",
      "TabularPredictor saved. To load, use: predictor = TabularPredictor.load(\"./data/run_2/\")\n"
     ]
    }
   ],
   "source": [
    "predictor_new_features = TabularPredictor(\n",
    "    label='count', \n",
    "    problem_type=\"regression\", \n",
    "    eval_metric=\"root_mean_squared_error\", \n",
    "    path='./data/run_2'\n",
    ").fit(\n",
    "    train_data = train.drop(labels=['casual', 'registered'], axis=1),\n",
    "    time_limit=600,\n",
    "    presets=\"best_quality\",\n",
    ")"
   ]
  },
  {
   "cell_type": "code",
   "execution_count": 36,
   "metadata": {},
   "outputs": [
    {
     "name": "stdout",
     "output_type": "stream",
     "text": [
      "*** Summary of fit() ***\n",
      "Estimated performance of each model:\n",
      "                     model   score_val  pred_time_val    fit_time  pred_time_val_marginal  fit_time_marginal  stack_level  can_infer  fit_order\n",
      "0      WeightedEnsemble_L2  -34.546557       2.478926  372.633913                0.000289           0.224187            2       True         11\n",
      "1      WeightedEnsemble_L3  -34.659072       5.293322  485.478093                0.000294           0.225147            3       True         20\n",
      "2     ExtraTreesMSE_BAG_L2  -35.090333       3.301686  374.450908                0.238319           0.647531            2       True         16\n",
      "3          LightGBM_BAG_L2  -35.105219       3.101505  376.187793                0.038138           2.384415            2       True         13\n",
      "4          CatBoost_BAG_L2  -35.165703       3.095154  379.183632                0.031787           5.380255            2       True         15\n",
      "5           XGBoost_BAG_L2  -35.194725       3.124798  376.858511                0.061431           3.055133            2       True         17\n",
      "6    NeuralNetMXNet_BAG_L2  -35.387851       4.671684  471.502943                1.608316          97.699565            2       True         18\n",
      "7   RandomForestMSE_BAG_L2  -35.421260       3.315037  376.086048                0.251670           2.282670            2       True         14\n",
      "8        LightGBMXT_BAG_L2  -35.595575       3.112221  376.530576                0.048853           2.727198            2       True         12\n",
      "9     LightGBMLarge_BAG_L2  -35.670731       3.117210  380.940796                0.053843           7.137418            2       True         19\n",
      "10         CatBoost_BAG_L1  -36.388821       0.045998   74.782101                0.045998          74.782101            1       True          6\n",
      "11    LightGBMLarge_BAG_L1  -36.423196       0.215556   19.036162                0.215556          19.036162            1       True         10\n",
      "12         LightGBM_BAG_L1  -36.579153       0.143662   12.734166                0.143662          12.734166            1       True          4\n",
      "13       LightGBMXT_BAG_L1  -36.798255       0.507107   40.349277                0.507107          40.349277            1       True          3\n",
      "14          XGBoost_BAG_L1  -37.394005       0.066630    9.648983                0.066630           9.648983            1       True          8\n",
      "15   NeuralNetMXNet_BAG_L1  -39.560008       1.499683  215.859036                1.499683         215.859036            1       True          9\n",
      "16    ExtraTreesMSE_BAG_L1  -40.906219       0.199974    0.441775                0.199974           0.441775            1       True          7\n",
      "17  RandomForestMSE_BAG_L1  -41.316444       0.207006    0.926537                0.207006           0.926537            1       True          5\n",
      "18   KNeighborsDist_BAG_L1 -119.372460       0.089168    0.012373                0.089168           0.012373            1       True          2\n",
      "19   KNeighborsUnif_BAG_L1 -123.921401       0.088583    0.012965                0.088583           0.012965            1       True          1\n",
      "Number of models trained: 20\n",
      "Types of models trained:\n",
      "{'StackerEnsembleModel_CatBoost', 'StackerEnsembleModel_XGBoost', 'StackerEnsembleModel_LGB', 'StackerEnsembleModel_XT', 'StackerEnsembleModel_TabularNeuralNet', 'StackerEnsembleModel_RF', 'WeightedEnsembleModel', 'StackerEnsembleModel_KNN'}\n",
      "Bagging used: True  (with 10 folds)\n",
      "Multi-layer stack-ensembling used: True  (with 3 levels)\n",
      "Feature Metadata (Processed):\n",
      "(raw dtype, special dtypes):\n",
      "('category', [])             : 2 | ['season', 'weather']\n",
      "('float', [])                : 3 | ['temp', 'atemp', 'windspeed']\n",
      "('int', [])                  : 4 | ['humidity', 'month', 'day', 'hour']\n",
      "('int', ['bool'])            : 2 | ['holiday', 'workingday']\n",
      "('int', ['datetime_as_int']) : 1 | ['datetime']\n",
      "Plot summary of models saved to file: ./data/SummaryOfModels.html\n",
      "*** End of fit() summary ***\n"
     ]
    },
    {
     "data": {
      "text/plain": [
       "{'model_types': {'KNeighborsUnif_BAG_L1': 'StackerEnsembleModel_KNN',\n",
       "  'KNeighborsDist_BAG_L1': 'StackerEnsembleModel_KNN',\n",
       "  'LightGBMXT_BAG_L1': 'StackerEnsembleModel_LGB',\n",
       "  'LightGBM_BAG_L1': 'StackerEnsembleModel_LGB',\n",
       "  'RandomForestMSE_BAG_L1': 'StackerEnsembleModel_RF',\n",
       "  'CatBoost_BAG_L1': 'StackerEnsembleModel_CatBoost',\n",
       "  'ExtraTreesMSE_BAG_L1': 'StackerEnsembleModel_XT',\n",
       "  'XGBoost_BAG_L1': 'StackerEnsembleModel_XGBoost',\n",
       "  'NeuralNetMXNet_BAG_L1': 'StackerEnsembleModel_TabularNeuralNet',\n",
       "  'LightGBMLarge_BAG_L1': 'StackerEnsembleModel_LGB',\n",
       "  'WeightedEnsemble_L2': 'WeightedEnsembleModel',\n",
       "  'LightGBMXT_BAG_L2': 'StackerEnsembleModel_LGB',\n",
       "  'LightGBM_BAG_L2': 'StackerEnsembleModel_LGB',\n",
       "  'RandomForestMSE_BAG_L2': 'StackerEnsembleModel_RF',\n",
       "  'CatBoost_BAG_L2': 'StackerEnsembleModel_CatBoost',\n",
       "  'ExtraTreesMSE_BAG_L2': 'StackerEnsembleModel_XT',\n",
       "  'XGBoost_BAG_L2': 'StackerEnsembleModel_XGBoost',\n",
       "  'NeuralNetMXNet_BAG_L2': 'StackerEnsembleModel_TabularNeuralNet',\n",
       "  'LightGBMLarge_BAG_L2': 'StackerEnsembleModel_LGB',\n",
       "  'WeightedEnsemble_L3': 'WeightedEnsembleModel'},\n",
       " 'model_performance': {'KNeighborsUnif_BAG_L1': -123.92140118589283,\n",
       "  'KNeighborsDist_BAG_L1': -119.37245988789667,\n",
       "  'LightGBMXT_BAG_L1': -36.798254739152114,\n",
       "  'LightGBM_BAG_L1': -36.57915349216499,\n",
       "  'RandomForestMSE_BAG_L1': -41.316444128423996,\n",
       "  'CatBoost_BAG_L1': -36.38882050661707,\n",
       "  'ExtraTreesMSE_BAG_L1': -40.906219406251694,\n",
       "  'XGBoost_BAG_L1': -37.39400529336776,\n",
       "  'NeuralNetMXNet_BAG_L1': -39.56000789920418,\n",
       "  'LightGBMLarge_BAG_L1': -36.42319647429028,\n",
       "  'WeightedEnsemble_L2': -34.54655693778827,\n",
       "  'LightGBMXT_BAG_L2': -35.59557524837721,\n",
       "  'LightGBM_BAG_L2': -35.10521897973274,\n",
       "  'RandomForestMSE_BAG_L2': -35.42125976943377,\n",
       "  'CatBoost_BAG_L2': -35.16570325258962,\n",
       "  'ExtraTreesMSE_BAG_L2': -35.090333245109086,\n",
       "  'XGBoost_BAG_L2': -35.19472526061876,\n",
       "  'NeuralNetMXNet_BAG_L2': -35.3878511270768,\n",
       "  'LightGBMLarge_BAG_L2': -35.67073115112425,\n",
       "  'WeightedEnsemble_L3': -34.6590724219118},\n",
       " 'model_best': 'WeightedEnsemble_L2',\n",
       " 'model_paths': {'KNeighborsUnif_BAG_L1': './data/models/KNeighborsUnif_BAG_L1/',\n",
       "  'KNeighborsDist_BAG_L1': './data/models/KNeighborsDist_BAG_L1/',\n",
       "  'LightGBMXT_BAG_L1': './data/models/LightGBMXT_BAG_L1/',\n",
       "  'LightGBM_BAG_L1': './data/models/LightGBM_BAG_L1/',\n",
       "  'RandomForestMSE_BAG_L1': './data/models/RandomForestMSE_BAG_L1/',\n",
       "  'CatBoost_BAG_L1': './data/models/CatBoost_BAG_L1/',\n",
       "  'ExtraTreesMSE_BAG_L1': './data/models/ExtraTreesMSE_BAG_L1/',\n",
       "  'XGBoost_BAG_L1': './data/models/XGBoost_BAG_L1/',\n",
       "  'NeuralNetMXNet_BAG_L1': './data/models/NeuralNetMXNet_BAG_L1/',\n",
       "  'LightGBMLarge_BAG_L1': './data/models/LightGBMLarge_BAG_L1/',\n",
       "  'WeightedEnsemble_L2': './data/models/WeightedEnsemble_L2/',\n",
       "  'LightGBMXT_BAG_L2': './data/models/LightGBMXT_BAG_L2/',\n",
       "  'LightGBM_BAG_L2': './data/models/LightGBM_BAG_L2/',\n",
       "  'RandomForestMSE_BAG_L2': './data/models/RandomForestMSE_BAG_L2/',\n",
       "  'CatBoost_BAG_L2': './data/models/CatBoost_BAG_L2/',\n",
       "  'ExtraTreesMSE_BAG_L2': './data/models/ExtraTreesMSE_BAG_L2/',\n",
       "  'XGBoost_BAG_L2': './data/models/XGBoost_BAG_L2/',\n",
       "  'NeuralNetMXNet_BAG_L2': './data/models/NeuralNetMXNet_BAG_L2/',\n",
       "  'LightGBMLarge_BAG_L2': './data/models/LightGBMLarge_BAG_L2/',\n",
       "  'WeightedEnsemble_L3': './data/models/WeightedEnsemble_L3/'},\n",
       " 'model_fit_times': {'KNeighborsUnif_BAG_L1': 0.01296544075012207,\n",
       "  'KNeighborsDist_BAG_L1': 0.01237344741821289,\n",
       "  'LightGBMXT_BAG_L1': 40.34927749633789,\n",
       "  'LightGBM_BAG_L1': 12.734165668487549,\n",
       "  'RandomForestMSE_BAG_L1': 0.926537275314331,\n",
       "  'CatBoost_BAG_L1': 74.78210091590881,\n",
       "  'ExtraTreesMSE_BAG_L1': 0.4417753219604492,\n",
       "  'XGBoost_BAG_L1': 9.648983478546143,\n",
       "  'NeuralNetMXNet_BAG_L1': 215.85903644561768,\n",
       "  'LightGBMLarge_BAG_L1': 19.03616237640381,\n",
       "  'WeightedEnsemble_L2': 0.22418665885925293,\n",
       "  'LightGBMXT_BAG_L2': 2.727198362350464,\n",
       "  'LightGBM_BAG_L2': 2.3844151496887207,\n",
       "  'RandomForestMSE_BAG_L2': 2.282670259475708,\n",
       "  'CatBoost_BAG_L2': 5.380254507064819,\n",
       "  'ExtraTreesMSE_BAG_L2': 0.6475305557250977,\n",
       "  'XGBoost_BAG_L2': 3.05513334274292,\n",
       "  'NeuralNetMXNet_BAG_L2': 97.69956469535828,\n",
       "  'LightGBMLarge_BAG_L2': 7.137418270111084,\n",
       "  'WeightedEnsemble_L3': 0.22514653205871582},\n",
       " 'model_pred_times': {'KNeighborsUnif_BAG_L1': 0.08858299255371094,\n",
       "  'KNeighborsDist_BAG_L1': 0.08916759490966797,\n",
       "  'LightGBMXT_BAG_L1': 0.5071074962615967,\n",
       "  'LightGBM_BAG_L1': 0.1436622142791748,\n",
       "  'RandomForestMSE_BAG_L1': 0.20700550079345703,\n",
       "  'CatBoost_BAG_L1': 0.04599809646606445,\n",
       "  'ExtraTreesMSE_BAG_L1': 0.19997406005859375,\n",
       "  'XGBoost_BAG_L1': 0.06662988662719727,\n",
       "  'NeuralNetMXNet_BAG_L1': 1.4996833801269531,\n",
       "  'LightGBMLarge_BAG_L1': 0.21555614471435547,\n",
       "  'WeightedEnsemble_L2': 0.00028896331787109375,\n",
       "  'LightGBMXT_BAG_L2': 0.048853158950805664,\n",
       "  'LightGBM_BAG_L2': 0.03813791275024414,\n",
       "  'RandomForestMSE_BAG_L2': 0.25167012214660645,\n",
       "  'CatBoost_BAG_L2': 0.03178691864013672,\n",
       "  'ExtraTreesMSE_BAG_L2': 0.23831892013549805,\n",
       "  'XGBoost_BAG_L2': 0.06143069267272949,\n",
       "  'NeuralNetMXNet_BAG_L2': 1.608316421508789,\n",
       "  'LightGBMLarge_BAG_L2': 0.05384254455566406,\n",
       "  'WeightedEnsemble_L3': 0.000293731689453125},\n",
       " 'num_bag_folds': 10,\n",
       " 'max_stack_level': 3,\n",
       " 'model_hyperparams': {'KNeighborsUnif_BAG_L1': {'use_orig_features': True,\n",
       "   'max_base_models': 25,\n",
       "   'max_base_models_per_type': 5,\n",
       "   'save_bag_folds': True,\n",
       "   'use_child_oof': True},\n",
       "  'KNeighborsDist_BAG_L1': {'use_orig_features': True,\n",
       "   'max_base_models': 25,\n",
       "   'max_base_models_per_type': 5,\n",
       "   'save_bag_folds': True,\n",
       "   'use_child_oof': True},\n",
       "  'LightGBMXT_BAG_L1': {'use_orig_features': True,\n",
       "   'max_base_models': 25,\n",
       "   'max_base_models_per_type': 5,\n",
       "   'save_bag_folds': True},\n",
       "  'LightGBM_BAG_L1': {'use_orig_features': True,\n",
       "   'max_base_models': 25,\n",
       "   'max_base_models_per_type': 5,\n",
       "   'save_bag_folds': True},\n",
       "  'RandomForestMSE_BAG_L1': {'use_orig_features': True,\n",
       "   'max_base_models': 25,\n",
       "   'max_base_models_per_type': 5,\n",
       "   'save_bag_folds': True,\n",
       "   'use_child_oof': True},\n",
       "  'CatBoost_BAG_L1': {'use_orig_features': True,\n",
       "   'max_base_models': 25,\n",
       "   'max_base_models_per_type': 5,\n",
       "   'save_bag_folds': True},\n",
       "  'ExtraTreesMSE_BAG_L1': {'use_orig_features': True,\n",
       "   'max_base_models': 25,\n",
       "   'max_base_models_per_type': 5,\n",
       "   'save_bag_folds': True,\n",
       "   'use_child_oof': True},\n",
       "  'XGBoost_BAG_L1': {'use_orig_features': True,\n",
       "   'max_base_models': 25,\n",
       "   'max_base_models_per_type': 5,\n",
       "   'save_bag_folds': True},\n",
       "  'NeuralNetMXNet_BAG_L1': {'use_orig_features': True,\n",
       "   'max_base_models': 25,\n",
       "   'max_base_models_per_type': 5,\n",
       "   'save_bag_folds': True},\n",
       "  'LightGBMLarge_BAG_L1': {'use_orig_features': True,\n",
       "   'max_base_models': 25,\n",
       "   'max_base_models_per_type': 5,\n",
       "   'save_bag_folds': True},\n",
       "  'WeightedEnsemble_L2': {'use_orig_features': False,\n",
       "   'max_base_models': 25,\n",
       "   'max_base_models_per_type': 5,\n",
       "   'save_bag_folds': True},\n",
       "  'LightGBMXT_BAG_L2': {'use_orig_features': True,\n",
       "   'max_base_models': 25,\n",
       "   'max_base_models_per_type': 5,\n",
       "   'save_bag_folds': True},\n",
       "  'LightGBM_BAG_L2': {'use_orig_features': True,\n",
       "   'max_base_models': 25,\n",
       "   'max_base_models_per_type': 5,\n",
       "   'save_bag_folds': True},\n",
       "  'RandomForestMSE_BAG_L2': {'use_orig_features': True,\n",
       "   'max_base_models': 25,\n",
       "   'max_base_models_per_type': 5,\n",
       "   'save_bag_folds': True,\n",
       "   'use_child_oof': True},\n",
       "  'CatBoost_BAG_L2': {'use_orig_features': True,\n",
       "   'max_base_models': 25,\n",
       "   'max_base_models_per_type': 5,\n",
       "   'save_bag_folds': True},\n",
       "  'ExtraTreesMSE_BAG_L2': {'use_orig_features': True,\n",
       "   'max_base_models': 25,\n",
       "   'max_base_models_per_type': 5,\n",
       "   'save_bag_folds': True,\n",
       "   'use_child_oof': True},\n",
       "  'XGBoost_BAG_L2': {'use_orig_features': True,\n",
       "   'max_base_models': 25,\n",
       "   'max_base_models_per_type': 5,\n",
       "   'save_bag_folds': True},\n",
       "  'NeuralNetMXNet_BAG_L2': {'use_orig_features': True,\n",
       "   'max_base_models': 25,\n",
       "   'max_base_models_per_type': 5,\n",
       "   'save_bag_folds': True},\n",
       "  'LightGBMLarge_BAG_L2': {'use_orig_features': True,\n",
       "   'max_base_models': 25,\n",
       "   'max_base_models_per_type': 5,\n",
       "   'save_bag_folds': True},\n",
       "  'WeightedEnsemble_L3': {'use_orig_features': False,\n",
       "   'max_base_models': 25,\n",
       "   'max_base_models_per_type': 5,\n",
       "   'save_bag_folds': True}},\n",
       " 'leaderboard':                      model   score_val  pred_time_val    fit_time  \\\n",
       " 0      WeightedEnsemble_L2  -34.546557       2.478926  372.633913   \n",
       " 1      WeightedEnsemble_L3  -34.659072       5.293322  485.478093   \n",
       " 2     ExtraTreesMSE_BAG_L2  -35.090333       3.301686  374.450908   \n",
       " 3          LightGBM_BAG_L2  -35.105219       3.101505  376.187793   \n",
       " 4          CatBoost_BAG_L2  -35.165703       3.095154  379.183632   \n",
       " 5           XGBoost_BAG_L2  -35.194725       3.124798  376.858511   \n",
       " 6    NeuralNetMXNet_BAG_L2  -35.387851       4.671684  471.502943   \n",
       " 7   RandomForestMSE_BAG_L2  -35.421260       3.315037  376.086048   \n",
       " 8        LightGBMXT_BAG_L2  -35.595575       3.112221  376.530576   \n",
       " 9     LightGBMLarge_BAG_L2  -35.670731       3.117210  380.940796   \n",
       " 10         CatBoost_BAG_L1  -36.388821       0.045998   74.782101   \n",
       " 11    LightGBMLarge_BAG_L1  -36.423196       0.215556   19.036162   \n",
       " 12         LightGBM_BAG_L1  -36.579153       0.143662   12.734166   \n",
       " 13       LightGBMXT_BAG_L1  -36.798255       0.507107   40.349277   \n",
       " 14          XGBoost_BAG_L1  -37.394005       0.066630    9.648983   \n",
       " 15   NeuralNetMXNet_BAG_L1  -39.560008       1.499683  215.859036   \n",
       " 16    ExtraTreesMSE_BAG_L1  -40.906219       0.199974    0.441775   \n",
       " 17  RandomForestMSE_BAG_L1  -41.316444       0.207006    0.926537   \n",
       " 18   KNeighborsDist_BAG_L1 -119.372460       0.089168    0.012373   \n",
       " 19   KNeighborsUnif_BAG_L1 -123.921401       0.088583    0.012965   \n",
       " \n",
       "     pred_time_val_marginal  fit_time_marginal  stack_level  can_infer  \\\n",
       " 0                 0.000289           0.224187            2       True   \n",
       " 1                 0.000294           0.225147            3       True   \n",
       " 2                 0.238319           0.647531            2       True   \n",
       " 3                 0.038138           2.384415            2       True   \n",
       " 4                 0.031787           5.380255            2       True   \n",
       " 5                 0.061431           3.055133            2       True   \n",
       " 6                 1.608316          97.699565            2       True   \n",
       " 7                 0.251670           2.282670            2       True   \n",
       " 8                 0.048853           2.727198            2       True   \n",
       " 9                 0.053843           7.137418            2       True   \n",
       " 10                0.045998          74.782101            1       True   \n",
       " 11                0.215556          19.036162            1       True   \n",
       " 12                0.143662          12.734166            1       True   \n",
       " 13                0.507107          40.349277            1       True   \n",
       " 14                0.066630           9.648983            1       True   \n",
       " 15                1.499683         215.859036            1       True   \n",
       " 16                0.199974           0.441775            1       True   \n",
       " 17                0.207006           0.926537            1       True   \n",
       " 18                0.089168           0.012373            1       True   \n",
       " 19                0.088583           0.012965            1       True   \n",
       " \n",
       "     fit_order  \n",
       " 0          11  \n",
       " 1          20  \n",
       " 2          16  \n",
       " 3          13  \n",
       " 4          15  \n",
       " 5          17  \n",
       " 6          18  \n",
       " 7          14  \n",
       " 8          12  \n",
       " 9          19  \n",
       " 10          6  \n",
       " 11         10  \n",
       " 12          4  \n",
       " 13          3  \n",
       " 14          8  \n",
       " 15          9  \n",
       " 16          7  \n",
       " 17          5  \n",
       " 18          2  \n",
       " 19          1  }"
      ]
     },
     "execution_count": 36,
     "metadata": {},
     "output_type": "execute_result"
    }
   ],
   "source": [
    "predictor_new_features.fit_summary()"
   ]
  },
  {
   "cell_type": "code",
   "execution_count": 16,
   "metadata": {},
   "outputs": [
    {
     "data": {
      "text/plain": [
       "0    13.327668\n",
       "1     0.027438\n",
       "2    -1.727285\n",
       "3     0.442032\n",
       "4     0.528605\n",
       "Name: count, dtype: float32"
      ]
     },
     "execution_count": 16,
     "metadata": {},
     "output_type": "execute_result"
    }
   ],
   "source": [
    "predictions = predictor_new_features.predict(test)\n",
    "predictions.head()"
   ]
  },
  {
   "cell_type": "code",
   "execution_count": 17,
   "metadata": {},
   "outputs": [
    {
     "data": {
      "text/plain": [
       "2       -1.727285\n",
       "25      -1.397056\n",
       "27     -14.203905\n",
       "52      -4.413974\n",
       "53     -14.950122\n",
       "          ...    \n",
       "6235    -7.403056\n",
       "6260    -4.098753\n",
       "6283    -3.240298\n",
       "6450    -3.381070\n",
       "6451    -8.066739\n",
       "Name: count, Length: 133, dtype: float32"
      ]
     },
     "execution_count": 17,
     "metadata": {},
     "output_type": "execute_result"
    }
   ],
   "source": [
    "predictions[predictions<0]"
   ]
  },
  {
   "cell_type": "code",
   "execution_count": 18,
   "metadata": {},
   "outputs": [],
   "source": [
    "# Remember to set all negative values to zero\n",
    "predictions.loc[predictions<0] = 0"
   ]
  },
  {
   "cell_type": "code",
   "execution_count": 19,
   "metadata": {},
   "outputs": [
    {
     "name": "stdout",
     "output_type": "stream",
     "text": [
      "Saving file...\n"
     ]
    }
   ],
   "source": [
    "save_data(predictions, \"./data/predictions_new.pkl\")"
   ]
  },
  {
   "cell_type": "code",
   "execution_count": 53,
   "metadata": {},
   "outputs": [],
   "source": [
    "submission_new_features = pd.read_csv(\"./data/sampleSubmission.csv\", parse_dates=['datetime'])"
   ]
  },
  {
   "cell_type": "code",
   "execution_count": 54,
   "metadata": {},
   "outputs": [],
   "source": [
    "# Same submitting predictions\n",
    "submission_new_features[\"count\"] = predictions\n",
    "submission_new_features.to_csv(\"./data/submission_new_features.csv\", index=False)"
   ]
  },
  {
   "cell_type": "code",
   "execution_count": 60,
   "metadata": {},
   "outputs": [
    {
     "name": "stdout",
     "output_type": "stream",
     "text": [
      "Warning: Your Kaggle API key is readable by other users on this system! To fix this, you can run 'chmod 600 /home/deimos/.kaggle/kaggle.json'\n",
      "100%|████████████████████████████████████████| 188k/188k [00:03<00:00, 58.1kB/s]\n",
      "Successfully submitted to Bike Sharing Demand"
     ]
    }
   ],
   "source": [
    "!kaggle competitions submit -c bike-sharing-demand -f submission_new_features.csv -m \"new features\""
   ]
  },
  {
   "cell_type": "code",
   "execution_count": 61,
   "metadata": {},
   "outputs": [
    {
     "name": "stdout",
     "output_type": "stream",
     "text": [
      "Warning: Your Kaggle API key is readable by other users on this system! To fix this, you can run 'chmod 600 /home/deimos/.kaggle/kaggle.json'\r\n",
      "fileName                     date                 description           status    publicScore  privateScore  \r\n",
      "---------------------------  -------------------  --------------------  --------  -----------  ------------  \r\n",
      "submission_new_features.csv  2022-01-02 06:27:59  new features          complete  0.51509      0.51509       \r\n",
      "submission.csv               2022-01-01 06:18:09  first raw submission  complete  1.37882      1.37882       \r\n"
     ]
    }
   ],
   "source": [
    "!kaggle competitions submissions -c bike-sharing-demand | tail -n +1 | head -n 6"
   ]
  },
  {
   "cell_type": "markdown",
   "metadata": {},
   "source": [
    "#### New Score of `0.51509`"
   ]
  },
  {
   "cell_type": "code",
   "execution_count": 15,
   "metadata": {},
   "outputs": [
    {
     "data": {
      "text/html": [
       "<div>\n",
       "<style scoped>\n",
       "    .dataframe tbody tr th:only-of-type {\n",
       "        vertical-align: middle;\n",
       "    }\n",
       "\n",
       "    .dataframe tbody tr th {\n",
       "        vertical-align: top;\n",
       "    }\n",
       "\n",
       "    .dataframe thead th {\n",
       "        text-align: right;\n",
       "    }\n",
       "</style>\n",
       "<table border=\"1\" class=\"dataframe\">\n",
       "  <thead>\n",
       "    <tr style=\"text-align: right;\">\n",
       "      <th></th>\n",
       "      <th>importance</th>\n",
       "      <th>stddev</th>\n",
       "      <th>p_value</th>\n",
       "      <th>n</th>\n",
       "      <th>p99_high</th>\n",
       "      <th>p99_low</th>\n",
       "    </tr>\n",
       "  </thead>\n",
       "  <tbody>\n",
       "    <tr>\n",
       "      <th>hour</th>\n",
       "      <td>178.409528</td>\n",
       "      <td>4.545527</td>\n",
       "      <td>0.000108</td>\n",
       "      <td>3</td>\n",
       "      <td>204.455901</td>\n",
       "      <td>152.363154</td>\n",
       "    </tr>\n",
       "    <tr>\n",
       "      <th>workingday</th>\n",
       "      <td>73.299919</td>\n",
       "      <td>2.980422</td>\n",
       "      <td>0.000275</td>\n",
       "      <td>3</td>\n",
       "      <td>90.378067</td>\n",
       "      <td>56.221771</td>\n",
       "    </tr>\n",
       "    <tr>\n",
       "      <th>datetime</th>\n",
       "      <td>69.861382</td>\n",
       "      <td>5.124521</td>\n",
       "      <td>0.000894</td>\n",
       "      <td>3</td>\n",
       "      <td>99.225456</td>\n",
       "      <td>40.497308</td>\n",
       "    </tr>\n",
       "    <tr>\n",
       "      <th>temp</th>\n",
       "      <td>18.255489</td>\n",
       "      <td>2.178263</td>\n",
       "      <td>0.002356</td>\n",
       "      <td>3</td>\n",
       "      <td>30.737179</td>\n",
       "      <td>5.773800</td>\n",
       "    </tr>\n",
       "    <tr>\n",
       "      <th>humidity</th>\n",
       "      <td>15.105299</td>\n",
       "      <td>1.351629</td>\n",
       "      <td>0.001329</td>\n",
       "      <td>3</td>\n",
       "      <td>22.850286</td>\n",
       "      <td>7.360312</td>\n",
       "    </tr>\n",
       "    <tr>\n",
       "      <th>weather</th>\n",
       "      <td>10.473149</td>\n",
       "      <td>1.316812</td>\n",
       "      <td>0.002614</td>\n",
       "      <td>3</td>\n",
       "      <td>18.018626</td>\n",
       "      <td>2.927672</td>\n",
       "    </tr>\n",
       "    <tr>\n",
       "      <th>atemp</th>\n",
       "      <td>8.403531</td>\n",
       "      <td>1.710810</td>\n",
       "      <td>0.006768</td>\n",
       "      <td>3</td>\n",
       "      <td>18.206660</td>\n",
       "      <td>-1.399598</td>\n",
       "    </tr>\n",
       "    <tr>\n",
       "      <th>day</th>\n",
       "      <td>1.840270</td>\n",
       "      <td>0.259345</td>\n",
       "      <td>0.003278</td>\n",
       "      <td>3</td>\n",
       "      <td>3.326343</td>\n",
       "      <td>0.354197</td>\n",
       "    </tr>\n",
       "    <tr>\n",
       "      <th>holiday</th>\n",
       "      <td>1.503480</td>\n",
       "      <td>0.233579</td>\n",
       "      <td>0.003975</td>\n",
       "      <td>3</td>\n",
       "      <td>2.841915</td>\n",
       "      <td>0.165045</td>\n",
       "    </tr>\n",
       "    <tr>\n",
       "      <th>windspeed</th>\n",
       "      <td>1.037308</td>\n",
       "      <td>0.389860</td>\n",
       "      <td>0.022000</td>\n",
       "      <td>3</td>\n",
       "      <td>3.271248</td>\n",
       "      <td>-1.196631</td>\n",
       "    </tr>\n",
       "    <tr>\n",
       "      <th>month</th>\n",
       "      <td>0.982952</td>\n",
       "      <td>0.127510</td>\n",
       "      <td>0.002781</td>\n",
       "      <td>3</td>\n",
       "      <td>1.713599</td>\n",
       "      <td>0.252305</td>\n",
       "    </tr>\n",
       "    <tr>\n",
       "      <th>season</th>\n",
       "      <td>0.112837</td>\n",
       "      <td>0.092553</td>\n",
       "      <td>0.084560</td>\n",
       "      <td>3</td>\n",
       "      <td>0.643174</td>\n",
       "      <td>-0.417499</td>\n",
       "    </tr>\n",
       "    <tr>\n",
       "      <th>casual</th>\n",
       "      <td>0.000000</td>\n",
       "      <td>0.000000</td>\n",
       "      <td>0.500000</td>\n",
       "      <td>3</td>\n",
       "      <td>0.000000</td>\n",
       "      <td>0.000000</td>\n",
       "    </tr>\n",
       "    <tr>\n",
       "      <th>registered</th>\n",
       "      <td>0.000000</td>\n",
       "      <td>0.000000</td>\n",
       "      <td>0.500000</td>\n",
       "      <td>3</td>\n",
       "      <td>0.000000</td>\n",
       "      <td>0.000000</td>\n",
       "    </tr>\n",
       "  </tbody>\n",
       "</table>\n",
       "</div>"
      ],
      "text/plain": [
       "            importance    stddev   p_value  n    p99_high     p99_low\n",
       "hour        178.409528  4.545527  0.000108  3  204.455901  152.363154\n",
       "workingday   73.299919  2.980422  0.000275  3   90.378067   56.221771\n",
       "datetime     69.861382  5.124521  0.000894  3   99.225456   40.497308\n",
       "temp         18.255489  2.178263  0.002356  3   30.737179    5.773800\n",
       "humidity     15.105299  1.351629  0.001329  3   22.850286    7.360312\n",
       "weather      10.473149  1.316812  0.002614  3   18.018626    2.927672\n",
       "atemp         8.403531  1.710810  0.006768  3   18.206660   -1.399598\n",
       "day           1.840270  0.259345  0.003278  3    3.326343    0.354197\n",
       "holiday       1.503480  0.233579  0.003975  3    2.841915    0.165045\n",
       "windspeed     1.037308  0.389860  0.022000  3    3.271248   -1.196631\n",
       "month         0.982952  0.127510  0.002781  3    1.713599    0.252305\n",
       "season        0.112837  0.092553  0.084560  3    0.643174   -0.417499\n",
       "casual        0.000000  0.000000  0.500000  3    0.000000    0.000000\n",
       "registered    0.000000  0.000000  0.500000  3    0.000000    0.000000"
      ]
     },
     "execution_count": 15,
     "metadata": {},
     "output_type": "execute_result"
    }
   ],
   "source": [
    "predictor.feature_importance(train)"
   ]
  },
  {
   "cell_type": "code",
   "execution_count": 18,
   "metadata": {},
   "outputs": [],
   "source": [
    "y_pred = predictor.predict(test)\n",
    "y_pred = pd.DataFrame(y_pred,columns=['count'])"
   ]
  },
  {
   "cell_type": "markdown",
   "metadata": {},
   "source": [
    "## Step 6: Hyper parameter optimization\n",
    "* There are many options for hyper parameter optimization.\n",
    "* Options are to change the AutoGluon higher level parameters or the individual model hyperparameters.\n",
    "* The hyperparameters of the models themselves that are in AutoGluon. Those need the `hyperparameter` and `hyperparameter_tune_kwargs` arguments."
   ]
  },
  {
   "cell_type": "code",
   "execution_count": 158,
   "metadata": {},
   "outputs": [],
   "source": [
    "# These were found in the autogluon docs and provide a base for hyperparameter tuning.\n",
    "# I used these values due to not having much luck finding better ones.\n",
    "import autogluon.core as ag\n",
    "\n",
    "nn_options = {  # specifies non-default hyperparameter values for neural network models\n",
    "    'num_epochs': 10,  # number of training epochs (controls training time of NN models)\n",
    "    'learning_rate': ag.space.Real(1e-4, 1e-2, default=5e-4, log=True),  # learning rate used in training (real-valued hyperparameter searched on log-scale)\n",
    "    'activation': ag.space.Categorical('relu', 'softrelu', 'tanh'),  # activation function used in NN (categorical hyperparameter, default = first entry)\n",
    "    'layers': ag.space.Categorical([100], [1000], [200, 100], [300, 200, 100]),  # each choice for categorical hyperparameter 'layers' corresponds to list of sizes for each NN layer to use\n",
    "    'dropout_prob': ag.space.Real(0.0, 0.5, default=0.1),  # dropout probability (real-valued hyperparameter)\n",
    "}\n",
    "\n",
    "gbm_options = {  # specifies non-default hyperparameter values for lightGBM gradient boosted trees\n",
    "    'num_boost_round': 100,  # number of boosting rounds (controls training time of GBM models)\n",
    "    'num_leaves': ag.space.Int(lower=26, upper=66, default=36),  # number of leaves in trees (integer hyperparameter)\n",
    "}\n",
    "\n",
    "hyperparameters = {  # hyperparameters of each model type\n",
    "                   'GBM': gbm_options,\n",
    "                   'NN': nn_options,  # NOTE: comment this line out if you get errors on Mac OSX\n",
    "}  # When these keys are missing from hyperparameters dict, no models of that type are trained\n",
    "\n",
    "num_trials = 5  # try at most 5 different hyperparameter configurations for each type of model\n",
    "search_strategy = 'auto'  # to tune hyperparameters using Bayesian optimization routine with a local scheduler\n",
    "\n",
    "hyperparameter_tune_kwargs = {  # HPO is not performed unless hyperparameter_tune_kwargs is specified\n",
    "    'num_trials': num_trials,\n",
    "    'scheduler' : 'local',\n",
    "    'searcher': search_strategy,\n",
    "}"
   ]
  },
  {
   "cell_type": "code",
   "execution_count": null,
   "metadata": {},
   "outputs": [],
   "source": [
    "predictor_new_hpo = TabularPredictor(\n",
    "    label=\"count\", \n",
    "    eval_metric=\"root_mean_squared_error\", \n",
    "    learner_kwargs={'ignored_columns': ['casual', 'registered']}\n",
    ").fit(\n",
    "    train, \n",
    "    presets='best_quality', \n",
    "    time_limit=time_limit,\n",
    "    hyperparameters=hyperparameters, \n",
    "    hyperparameter_tune_kwargs=hyperparameter_tune_kwargs,\n",
    ")"
   ]
  },
  {
   "cell_type": "code",
   "execution_count": 19,
   "metadata": {},
   "outputs": [
    {
     "name": "stdout",
     "output_type": "stream",
     "text": [
      "*** Summary of fit() ***\n",
      "Estimated performance of each model:\n",
      "                       model   score_val  pred_time_val    fit_time  pred_time_val_marginal  fit_time_marginal  stack_level  can_infer  fit_order\n",
      "0        WeightedEnsemble_L3  -41.042591      18.993819  428.102552                0.000297           0.251812            3       True         22\n",
      "1         LightGBM_BAG_L2/T2  -41.139724      13.541334  304.143487                0.095257           3.314752            2       True         14\n",
      "2         LightGBM_BAG_L2/T0  -41.140622      13.547064  304.185985                0.100987           3.357250            2       True         12\n",
      "3         LightGBM_BAG_L2/T3  -41.177679      13.541198  304.101974                0.095121           3.273238            2       True         15\n",
      "4         LightGBM_BAG_L2/T1  -41.216469      13.541422  304.194988                0.095345           3.366252            2       True         13\n",
      "5         LightGBM_BAG_L1/T3  -42.293120       0.124615    3.619736                0.124615           3.619736            1       True          4\n",
      "6        WeightedEnsemble_L2  -42.293120       0.124905    3.843451                0.000290           0.223715            2       True         11\n",
      "7         LightGBM_BAG_L1/T0  -42.462917       0.120754    3.714764                0.120754           3.714764            1       True          1\n",
      "8         LightGBM_BAG_L1/T4  -43.132808       0.117946    3.542160                0.117946           3.542160            1       True          5\n",
      "9         LightGBM_BAG_L1/T2  -43.343286       0.115444    3.495612                0.115444           3.495612            1       True          3\n",
      "10        LightGBM_BAG_L2/T4  -44.191859      13.541010  304.133278                0.094933           3.304542            2       True         16\n",
      "11        LightGBM_BAG_L1/T1  -44.287834       0.116091    3.486139                0.116091           3.486139            1       True          2\n",
      "12  NeuralNetMXNet_BAG_L2/T1  -44.521986      15.085958  340.038553                1.639881          39.209818            2       True         18\n",
      "13  NeuralNetMXNet_BAG_L2/T0  -45.181194      15.253255  340.421745                1.807178          39.593009            2       True         17\n",
      "14  NeuralNetMXNet_BAG_L2/T3  -45.424615      15.264508  339.973538                1.818431          39.144802            2       True         20\n",
      "15  NeuralNetMXNet_BAG_L2/T2  -45.784207      15.244033  339.519577                1.797956          38.690841            2       True         19\n",
      "16  NeuralNetMXNet_BAG_L2/T4  -60.242623      15.247630  339.869728                1.801553          39.040993            2       True         21\n",
      "17  NeuralNetMXNet_BAG_L1/T3 -114.471988       2.512209   56.287080                2.512209          56.287080            1       True          9\n",
      "18  NeuralNetMXNet_BAG_L1/T2 -115.123214       2.534971   56.733938                2.534971          56.733938            1       True          8\n",
      "19  NeuralNetMXNet_BAG_L1/T4 -115.285473       2.598042   57.090187                2.598042          57.090187            1       True         10\n",
      "20  NeuralNetMXNet_BAG_L1/T0 -115.431526       2.641651   56.466898                2.641651          56.466898            1       True          6\n",
      "21  NeuralNetMXNet_BAG_L1/T1 -117.944172       2.564354   56.392222                2.564354          56.392222            1       True          7\n",
      "Number of models trained: 22\n",
      "Types of models trained:\n",
      "{'StackerEnsembleModel_TabularNeuralNet', 'WeightedEnsembleModel', 'StackerEnsembleModel_LGB'}\n",
      "Bagging used: True  (with 10 folds)\n",
      "Multi-layer stack-ensembling used: True  (with 3 levels)\n",
      "Feature Metadata (Processed):\n",
      "(raw dtype, special dtypes):\n",
      "('category', [])             : 2 | ['season', 'weather']\n",
      "('float', [])                : 3 | ['temp', 'atemp', 'windspeed']\n",
      "('int', [])                  : 4 | ['humidity', 'month', 'day', 'hour']\n",
      "('int', ['bool'])            : 2 | ['holiday', 'workingday']\n",
      "('int', ['datetime_as_int']) : 1 | ['datetime']\n",
      "Plot summary of models saved to file: ./data/SummaryOfModels.html\n",
      "*** End of fit() summary ***\n"
     ]
    },
    {
     "data": {
      "text/plain": [
       "{'model_types': {'LightGBM_BAG_L1/T0': 'StackerEnsembleModel_LGB',\n",
       "  'LightGBM_BAG_L1/T1': 'StackerEnsembleModel_LGB',\n",
       "  'LightGBM_BAG_L1/T2': 'StackerEnsembleModel_LGB',\n",
       "  'LightGBM_BAG_L1/T3': 'StackerEnsembleModel_LGB',\n",
       "  'LightGBM_BAG_L1/T4': 'StackerEnsembleModel_LGB',\n",
       "  'NeuralNetMXNet_BAG_L1/T0': 'StackerEnsembleModel_TabularNeuralNet',\n",
       "  'NeuralNetMXNet_BAG_L1/T1': 'StackerEnsembleModel_TabularNeuralNet',\n",
       "  'NeuralNetMXNet_BAG_L1/T2': 'StackerEnsembleModel_TabularNeuralNet',\n",
       "  'NeuralNetMXNet_BAG_L1/T3': 'StackerEnsembleModel_TabularNeuralNet',\n",
       "  'NeuralNetMXNet_BAG_L1/T4': 'StackerEnsembleModel_TabularNeuralNet',\n",
       "  'WeightedEnsemble_L2': 'WeightedEnsembleModel',\n",
       "  'LightGBM_BAG_L2/T0': 'StackerEnsembleModel_LGB',\n",
       "  'LightGBM_BAG_L2/T1': 'StackerEnsembleModel_LGB',\n",
       "  'LightGBM_BAG_L2/T2': 'StackerEnsembleModel_LGB',\n",
       "  'LightGBM_BAG_L2/T3': 'StackerEnsembleModel_LGB',\n",
       "  'LightGBM_BAG_L2/T4': 'StackerEnsembleModel_LGB',\n",
       "  'NeuralNetMXNet_BAG_L2/T0': 'StackerEnsembleModel_TabularNeuralNet',\n",
       "  'NeuralNetMXNet_BAG_L2/T1': 'StackerEnsembleModel_TabularNeuralNet',\n",
       "  'NeuralNetMXNet_BAG_L2/T2': 'StackerEnsembleModel_TabularNeuralNet',\n",
       "  'NeuralNetMXNet_BAG_L2/T3': 'StackerEnsembleModel_TabularNeuralNet',\n",
       "  'NeuralNetMXNet_BAG_L2/T4': 'StackerEnsembleModel_TabularNeuralNet',\n",
       "  'WeightedEnsemble_L3': 'WeightedEnsembleModel'},\n",
       " 'model_performance': {'LightGBM_BAG_L1/T0': -42.462916973599576,\n",
       "  'LightGBM_BAG_L1/T1': -44.28783408447727,\n",
       "  'LightGBM_BAG_L1/T2': -43.34328556776718,\n",
       "  'LightGBM_BAG_L1/T3': -42.29312010464895,\n",
       "  'LightGBM_BAG_L1/T4': -43.132808422435666,\n",
       "  'NeuralNetMXNet_BAG_L1/T0': -115.43152597630142,\n",
       "  'NeuralNetMXNet_BAG_L1/T1': -117.94417207056742,\n",
       "  'NeuralNetMXNet_BAG_L1/T2': -115.12321352859115,\n",
       "  'NeuralNetMXNet_BAG_L1/T3': -114.47198784813467,\n",
       "  'NeuralNetMXNet_BAG_L1/T4': -115.28547342205665,\n",
       "  'WeightedEnsemble_L2': -42.29312010464895,\n",
       "  'LightGBM_BAG_L2/T0': -41.1406222391751,\n",
       "  'LightGBM_BAG_L2/T1': -41.21646891486368,\n",
       "  'LightGBM_BAG_L2/T2': -41.139723920159994,\n",
       "  'LightGBM_BAG_L2/T3': -41.17767884189721,\n",
       "  'LightGBM_BAG_L2/T4': -44.19185890710462,\n",
       "  'NeuralNetMXNet_BAG_L2/T0': -45.181194044317856,\n",
       "  'NeuralNetMXNet_BAG_L2/T1': -44.52198614252916,\n",
       "  'NeuralNetMXNet_BAG_L2/T2': -45.78420661559777,\n",
       "  'NeuralNetMXNet_BAG_L2/T3': -45.424615415510644,\n",
       "  'NeuralNetMXNet_BAG_L2/T4': -60.24262329996119,\n",
       "  'WeightedEnsemble_L3': -41.042590612022465},\n",
       " 'model_best': 'WeightedEnsemble_L3',\n",
       " 'model_paths': {'LightGBM_BAG_L1/T0': './data/models/LightGBM_BAG_L1/T0/',\n",
       "  'LightGBM_BAG_L1/T1': './data/models/LightGBM_BAG_L1/T1/',\n",
       "  'LightGBM_BAG_L1/T2': './data/models/LightGBM_BAG_L1/T2/',\n",
       "  'LightGBM_BAG_L1/T3': './data/models/LightGBM_BAG_L1/T3/',\n",
       "  'LightGBM_BAG_L1/T4': './data/models/LightGBM_BAG_L1/T4/',\n",
       "  'NeuralNetMXNet_BAG_L1/T0': './data/models/NeuralNetMXNet_BAG_L1/T0/',\n",
       "  'NeuralNetMXNet_BAG_L1/T1': './data/models/NeuralNetMXNet_BAG_L1/T1/',\n",
       "  'NeuralNetMXNet_BAG_L1/T2': './data/models/NeuralNetMXNet_BAG_L1/T2/',\n",
       "  'NeuralNetMXNet_BAG_L1/T3': './data/models/NeuralNetMXNet_BAG_L1/T3/',\n",
       "  'NeuralNetMXNet_BAG_L1/T4': './data/models/NeuralNetMXNet_BAG_L1/T4/',\n",
       "  'WeightedEnsemble_L2': './data/models/WeightedEnsemble_L2/',\n",
       "  'LightGBM_BAG_L2/T0': './data/models/LightGBM_BAG_L2/T0/',\n",
       "  'LightGBM_BAG_L2/T1': './data/models/LightGBM_BAG_L2/T1/',\n",
       "  'LightGBM_BAG_L2/T2': './data/models/LightGBM_BAG_L2/T2/',\n",
       "  'LightGBM_BAG_L2/T3': './data/models/LightGBM_BAG_L2/T3/',\n",
       "  'LightGBM_BAG_L2/T4': './data/models/LightGBM_BAG_L2/T4/',\n",
       "  'NeuralNetMXNet_BAG_L2/T0': './data/models/NeuralNetMXNet_BAG_L2/T0/',\n",
       "  'NeuralNetMXNet_BAG_L2/T1': './data/models/NeuralNetMXNet_BAG_L2/T1/',\n",
       "  'NeuralNetMXNet_BAG_L2/T2': './data/models/NeuralNetMXNet_BAG_L2/T2/',\n",
       "  'NeuralNetMXNet_BAG_L2/T3': './data/models/NeuralNetMXNet_BAG_L2/T3/',\n",
       "  'NeuralNetMXNet_BAG_L2/T4': './data/models/NeuralNetMXNet_BAG_L2/T4/',\n",
       "  'WeightedEnsemble_L3': './data/models/WeightedEnsemble_L3/'},\n",
       " 'model_fit_times': {'LightGBM_BAG_L1/T0': 3.714764356613159,\n",
       "  'LightGBM_BAG_L1/T1': 3.4861388206481934,\n",
       "  'LightGBM_BAG_L1/T2': 3.4956119060516357,\n",
       "  'LightGBM_BAG_L1/T3': 3.6197361946105957,\n",
       "  'LightGBM_BAG_L1/T4': 3.5421595573425293,\n",
       "  'NeuralNetMXNet_BAG_L1/T0': 56.46689820289612,\n",
       "  'NeuralNetMXNet_BAG_L1/T1': 56.39222192764282,\n",
       "  'NeuralNetMXNet_BAG_L1/T2': 56.73393774032593,\n",
       "  'NeuralNetMXNet_BAG_L1/T3': 56.28707981109619,\n",
       "  'NeuralNetMXNet_BAG_L1/T4': 57.090187072753906,\n",
       "  'WeightedEnsemble_L2': 0.22371506690979004,\n",
       "  'LightGBM_BAG_L2/T0': 3.3572497367858887,\n",
       "  'LightGBM_BAG_L2/T1': 3.3662519454956055,\n",
       "  'LightGBM_BAG_L2/T2': 3.3147518634796143,\n",
       "  'LightGBM_BAG_L2/T3': 3.273238182067871,\n",
       "  'LightGBM_BAG_L2/T4': 3.304542303085327,\n",
       "  'NeuralNetMXNet_BAG_L2/T0': 39.59300923347473,\n",
       "  'NeuralNetMXNet_BAG_L2/T1': 39.20981764793396,\n",
       "  'NeuralNetMXNet_BAG_L2/T2': 38.69084095954895,\n",
       "  'NeuralNetMXNet_BAG_L2/T3': 39.14480209350586,\n",
       "  'NeuralNetMXNet_BAG_L2/T4': 39.040992736816406,\n",
       "  'WeightedEnsemble_L3': 0.2518117427825928},\n",
       " 'model_pred_times': {'LightGBM_BAG_L1/T0': 0.12075424194335938,\n",
       "  'LightGBM_BAG_L1/T1': 0.11609148979187012,\n",
       "  'LightGBM_BAG_L1/T2': 0.11544394493103027,\n",
       "  'LightGBM_BAG_L1/T3': 0.12461495399475098,\n",
       "  'LightGBM_BAG_L1/T4': 0.11794614791870117,\n",
       "  'NeuralNetMXNet_BAG_L1/T0': 2.641650676727295,\n",
       "  'NeuralNetMXNet_BAG_L1/T1': 2.5643537044525146,\n",
       "  'NeuralNetMXNet_BAG_L1/T2': 2.534970998764038,\n",
       "  'NeuralNetMXNet_BAG_L1/T3': 2.512209177017212,\n",
       "  'NeuralNetMXNet_BAG_L1/T4': 2.598041534423828,\n",
       "  'WeightedEnsemble_L2': 0.0002903938293457031,\n",
       "  'LightGBM_BAG_L2/T0': 0.10098743438720703,\n",
       "  'LightGBM_BAG_L2/T1': 0.09534478187561035,\n",
       "  'LightGBM_BAG_L2/T2': 0.09525680541992188,\n",
       "  'LightGBM_BAG_L2/T3': 0.09512090682983398,\n",
       "  'LightGBM_BAG_L2/T4': 0.09493279457092285,\n",
       "  'NeuralNetMXNet_BAG_L2/T0': 1.8071777820587158,\n",
       "  'NeuralNetMXNet_BAG_L2/T1': 1.6398811340332031,\n",
       "  'NeuralNetMXNet_BAG_L2/T2': 1.7979557514190674,\n",
       "  'NeuralNetMXNet_BAG_L2/T3': 1.8184313774108887,\n",
       "  'NeuralNetMXNet_BAG_L2/T4': 1.8015527725219727,\n",
       "  'WeightedEnsemble_L3': 0.0002970695495605469},\n",
       " 'num_bag_folds': 10,\n",
       " 'max_stack_level': 3,\n",
       " 'model_hyperparams': {'LightGBM_BAG_L1/T0': {'use_orig_features': True,\n",
       "   'max_base_models': 25,\n",
       "   'max_base_models_per_type': 5,\n",
       "   'save_bag_folds': True},\n",
       "  'LightGBM_BAG_L1/T1': {'use_orig_features': True,\n",
       "   'max_base_models': 25,\n",
       "   'max_base_models_per_type': 5,\n",
       "   'save_bag_folds': True},\n",
       "  'LightGBM_BAG_L1/T2': {'use_orig_features': True,\n",
       "   'max_base_models': 25,\n",
       "   'max_base_models_per_type': 5,\n",
       "   'save_bag_folds': True},\n",
       "  'LightGBM_BAG_L1/T3': {'use_orig_features': True,\n",
       "   'max_base_models': 25,\n",
       "   'max_base_models_per_type': 5,\n",
       "   'save_bag_folds': True},\n",
       "  'LightGBM_BAG_L1/T4': {'use_orig_features': True,\n",
       "   'max_base_models': 25,\n",
       "   'max_base_models_per_type': 5,\n",
       "   'save_bag_folds': True},\n",
       "  'NeuralNetMXNet_BAG_L1/T0': {'use_orig_features': True,\n",
       "   'max_base_models': 25,\n",
       "   'max_base_models_per_type': 5,\n",
       "   'save_bag_folds': True},\n",
       "  'NeuralNetMXNet_BAG_L1/T1': {'use_orig_features': True,\n",
       "   'max_base_models': 25,\n",
       "   'max_base_models_per_type': 5,\n",
       "   'save_bag_folds': True},\n",
       "  'NeuralNetMXNet_BAG_L1/T2': {'use_orig_features': True,\n",
       "   'max_base_models': 25,\n",
       "   'max_base_models_per_type': 5,\n",
       "   'save_bag_folds': True},\n",
       "  'NeuralNetMXNet_BAG_L1/T3': {'use_orig_features': True,\n",
       "   'max_base_models': 25,\n",
       "   'max_base_models_per_type': 5,\n",
       "   'save_bag_folds': True},\n",
       "  'NeuralNetMXNet_BAG_L1/T4': {'use_orig_features': True,\n",
       "   'max_base_models': 25,\n",
       "   'max_base_models_per_type': 5,\n",
       "   'save_bag_folds': True},\n",
       "  'WeightedEnsemble_L2': {'use_orig_features': False,\n",
       "   'max_base_models': 25,\n",
       "   'max_base_models_per_type': 5,\n",
       "   'save_bag_folds': True},\n",
       "  'LightGBM_BAG_L2/T0': {'use_orig_features': True,\n",
       "   'max_base_models': 25,\n",
       "   'max_base_models_per_type': 5,\n",
       "   'save_bag_folds': True},\n",
       "  'LightGBM_BAG_L2/T1': {'use_orig_features': True,\n",
       "   'max_base_models': 25,\n",
       "   'max_base_models_per_type': 5,\n",
       "   'save_bag_folds': True},\n",
       "  'LightGBM_BAG_L2/T2': {'use_orig_features': True,\n",
       "   'max_base_models': 25,\n",
       "   'max_base_models_per_type': 5,\n",
       "   'save_bag_folds': True},\n",
       "  'LightGBM_BAG_L2/T3': {'use_orig_features': True,\n",
       "   'max_base_models': 25,\n",
       "   'max_base_models_per_type': 5,\n",
       "   'save_bag_folds': True},\n",
       "  'LightGBM_BAG_L2/T4': {'use_orig_features': True,\n",
       "   'max_base_models': 25,\n",
       "   'max_base_models_per_type': 5,\n",
       "   'save_bag_folds': True},\n",
       "  'NeuralNetMXNet_BAG_L2/T0': {'use_orig_features': True,\n",
       "   'max_base_models': 25,\n",
       "   'max_base_models_per_type': 5,\n",
       "   'save_bag_folds': True},\n",
       "  'NeuralNetMXNet_BAG_L2/T1': {'use_orig_features': True,\n",
       "   'max_base_models': 25,\n",
       "   'max_base_models_per_type': 5,\n",
       "   'save_bag_folds': True},\n",
       "  'NeuralNetMXNet_BAG_L2/T2': {'use_orig_features': True,\n",
       "   'max_base_models': 25,\n",
       "   'max_base_models_per_type': 5,\n",
       "   'save_bag_folds': True},\n",
       "  'NeuralNetMXNet_BAG_L2/T3': {'use_orig_features': True,\n",
       "   'max_base_models': 25,\n",
       "   'max_base_models_per_type': 5,\n",
       "   'save_bag_folds': True},\n",
       "  'NeuralNetMXNet_BAG_L2/T4': {'use_orig_features': True,\n",
       "   'max_base_models': 25,\n",
       "   'max_base_models_per_type': 5,\n",
       "   'save_bag_folds': True},\n",
       "  'WeightedEnsemble_L3': {'use_orig_features': False,\n",
       "   'max_base_models': 25,\n",
       "   'max_base_models_per_type': 5,\n",
       "   'save_bag_folds': True}},\n",
       " 'leaderboard':                        model   score_val  pred_time_val    fit_time  \\\n",
       " 0        WeightedEnsemble_L3  -41.042591      18.993819  428.102552   \n",
       " 1         LightGBM_BAG_L2/T2  -41.139724      13.541334  304.143487   \n",
       " 2         LightGBM_BAG_L2/T0  -41.140622      13.547064  304.185985   \n",
       " 3         LightGBM_BAG_L2/T3  -41.177679      13.541198  304.101974   \n",
       " 4         LightGBM_BAG_L2/T1  -41.216469      13.541422  304.194988   \n",
       " 5         LightGBM_BAG_L1/T3  -42.293120       0.124615    3.619736   \n",
       " 6        WeightedEnsemble_L2  -42.293120       0.124905    3.843451   \n",
       " 7         LightGBM_BAG_L1/T0  -42.462917       0.120754    3.714764   \n",
       " 8         LightGBM_BAG_L1/T4  -43.132808       0.117946    3.542160   \n",
       " 9         LightGBM_BAG_L1/T2  -43.343286       0.115444    3.495612   \n",
       " 10        LightGBM_BAG_L2/T4  -44.191859      13.541010  304.133278   \n",
       " 11        LightGBM_BAG_L1/T1  -44.287834       0.116091    3.486139   \n",
       " 12  NeuralNetMXNet_BAG_L2/T1  -44.521986      15.085958  340.038553   \n",
       " 13  NeuralNetMXNet_BAG_L2/T0  -45.181194      15.253255  340.421745   \n",
       " 14  NeuralNetMXNet_BAG_L2/T3  -45.424615      15.264508  339.973538   \n",
       " 15  NeuralNetMXNet_BAG_L2/T2  -45.784207      15.244033  339.519577   \n",
       " 16  NeuralNetMXNet_BAG_L2/T4  -60.242623      15.247630  339.869728   \n",
       " 17  NeuralNetMXNet_BAG_L1/T3 -114.471988       2.512209   56.287080   \n",
       " 18  NeuralNetMXNet_BAG_L1/T2 -115.123214       2.534971   56.733938   \n",
       " 19  NeuralNetMXNet_BAG_L1/T4 -115.285473       2.598042   57.090187   \n",
       " 20  NeuralNetMXNet_BAG_L1/T0 -115.431526       2.641651   56.466898   \n",
       " 21  NeuralNetMXNet_BAG_L1/T1 -117.944172       2.564354   56.392222   \n",
       " \n",
       "     pred_time_val_marginal  fit_time_marginal  stack_level  can_infer  \\\n",
       " 0                 0.000297           0.251812            3       True   \n",
       " 1                 0.095257           3.314752            2       True   \n",
       " 2                 0.100987           3.357250            2       True   \n",
       " 3                 0.095121           3.273238            2       True   \n",
       " 4                 0.095345           3.366252            2       True   \n",
       " 5                 0.124615           3.619736            1       True   \n",
       " 6                 0.000290           0.223715            2       True   \n",
       " 7                 0.120754           3.714764            1       True   \n",
       " 8                 0.117946           3.542160            1       True   \n",
       " 9                 0.115444           3.495612            1       True   \n",
       " 10                0.094933           3.304542            2       True   \n",
       " 11                0.116091           3.486139            1       True   \n",
       " 12                1.639881          39.209818            2       True   \n",
       " 13                1.807178          39.593009            2       True   \n",
       " 14                1.818431          39.144802            2       True   \n",
       " 15                1.797956          38.690841            2       True   \n",
       " 16                1.801553          39.040993            2       True   \n",
       " 17                2.512209          56.287080            1       True   \n",
       " 18                2.534971          56.733938            1       True   \n",
       " 19                2.598042          57.090187            1       True   \n",
       " 20                2.641651          56.466898            1       True   \n",
       " 21                2.564354          56.392222            1       True   \n",
       " \n",
       "     fit_order  \n",
       " 0          22  \n",
       " 1          14  \n",
       " 2          12  \n",
       " 3          15  \n",
       " 4          13  \n",
       " 5           4  \n",
       " 6          11  \n",
       " 7           1  \n",
       " 8           5  \n",
       " 9           3  \n",
       " 10         16  \n",
       " 11          2  \n",
       " 12         18  \n",
       " 13         17  \n",
       " 14         20  \n",
       " 15         19  \n",
       " 16         21  \n",
       " 17          9  \n",
       " 18          8  \n",
       " 19         10  \n",
       " 20          6  \n",
       " 21          7  }"
      ]
     },
     "execution_count": 19,
     "metadata": {},
     "output_type": "execute_result"
    }
   ],
   "source": [
    "predictor_new_hpo.fit_summary()"
   ]
  },
  {
   "cell_type": "code",
   "execution_count": 192,
   "metadata": {},
   "outputs": [
    {
     "data": {
      "text/plain": [
       "0    13.255105\n",
       "1     4.656514\n",
       "2     2.026344\n",
       "3     2.899639\n",
       "4     2.899639\n",
       "Name: count, dtype: float32"
      ]
     },
     "execution_count": 192,
     "metadata": {},
     "output_type": "execute_result"
    }
   ],
   "source": [
    "predictions = predictor_new_hpo.predict(test)\n",
    "predictions.head()"
   ]
  },
  {
   "cell_type": "code",
   "execution_count": 193,
   "metadata": {},
   "outputs": [],
   "source": [
    "save_data(predictions, 'data/predictions_newhp.pkl')"
   ]
  },
  {
   "cell_type": "code",
   "execution_count": 87,
   "metadata": {},
   "outputs": [
    {
     "name": "stdout",
     "output_type": "stream",
     "text": [
      "Saving file...\n"
     ]
    }
   ],
   "source": [
    "save_data(leaderboard_pred, \"./data/leaderboard_pred.pkl\")"
   ]
  },
  {
   "cell_type": "code",
   "execution_count": 29,
   "metadata": {},
   "outputs": [],
   "source": [
    "predictions[predictions<0] = 0"
   ]
  },
  {
   "cell_type": "code",
   "execution_count": 204,
   "metadata": {},
   "outputs": [],
   "source": [
    "submission = pd.read_csv(\"./data/sampleSubmission.csv\", parse_dates=['datetime'])"
   ]
  },
  {
   "cell_type": "code",
   "execution_count": 33,
   "metadata": {},
   "outputs": [],
   "source": [
    "submission_new_hpo = pd.read_csv(\"./data/sampleSubmission.csv\", parse_dates=['datetime'])"
   ]
  },
  {
   "cell_type": "code",
   "execution_count": 34,
   "metadata": {},
   "outputs": [],
   "source": [
    "# Same submitting predictions\n",
    "submission_new_hpo[\"count\"] = predictions\n",
    "submission_new_hpo.to_csv(\"submission_new_hpo.csv\", index=False)"
   ]
  },
  {
   "cell_type": "code",
   "execution_count": 35,
   "metadata": {},
   "outputs": [
    {
     "name": "stdout",
     "output_type": "stream",
     "text": [
      "Warning: Your Kaggle API key is readable by other users on this system! To fix this, you can run 'chmod 600 /home/deimos/.kaggle/kaggle.json'\n",
      "100%|█████████████████████████████████████████| 188k/188k [00:01<00:00, 102kB/s]\n",
      "Successfully submitted to Bike Sharing Demand"
     ]
    }
   ],
   "source": [
    "!kaggle competitions submit -c bike-sharing-demand -f submission_new_hpo.csv -m \"new features with hyperparameters\""
   ]
  },
  {
   "cell_type": "code",
   "execution_count": 36,
   "metadata": {},
   "outputs": [
    {
     "name": "stdout",
     "output_type": "stream",
     "text": [
      "Warning: Your Kaggle API key is readable by other users on this system! To fix this, you can run 'chmod 600 /home/deimos/.kaggle/kaggle.json'\r\n",
      "fileName                     date                 description                        status    publicScore  privateScore  \r\n",
      "---------------------------  -------------------  ---------------------------------  --------  -----------  ------------  \r\n",
      "submission_new_hpo.csv       2022-01-04 03:20:46  new features with hyperparameters  complete  0.50827      0.50827       \r\n",
      "submission_new_features.csv  2022-01-02 06:27:59  new features                       complete  0.51509      0.51509       \r\n",
      "submission.csv               2022-01-01 06:18:09  first raw submission               complete  1.37882      1.37882       \r\n"
     ]
    }
   ],
   "source": [
    "!kaggle competitions submissions -c bike-sharing-demand | tail -n +1 | head -n 6"
   ]
  },
  {
   "cell_type": "markdown",
   "metadata": {},
   "source": [
    "#### New Score of `0.50827`"
   ]
  },
  {
   "cell_type": "markdown",
   "metadata": {},
   "source": [
    "# Analyze Data"
   ]
  },
  {
   "cell_type": "code",
   "execution_count": 22,
   "metadata": {},
   "outputs": [],
   "source": [
    "predictor = TabularPredictor.load('./data/run_1')\n",
    "predictor_new = TabularPredictor.load('./data/run_2')\n",
    "predictor_newhp = TabularPredictor.load('./data/run_3')\n",
    "\n",
    "leaderboard_pred = load_data(\"./data/leaderboard_pred.pkl\")\n",
    "leaderboard_pred_new = load_data(\"./data/leaderboard_pred_new.pkl\")\n",
    "leaderboard_pred_newhp = load_data(\"./data/leaderboard_pred_newhp.pkl\")\n",
    "\n",
    "preds = load_data('./data/predictions_org.pkl')\n",
    "preds_new = load_data('./data/predictions_new.pkl')\n",
    "preds_newhp = load_data('./data/predictions_newhp.pkl')"
   ]
  },
  {
   "cell_type": "code",
   "execution_count": 23,
   "metadata": {},
   "outputs": [],
   "source": [
    "train = pd.read_csv(\"./data/train.csv\", parse_dates=['datetime'])\n",
    "test = pd.read_csv(\"./data/test.csv\", parse_dates=['datetime'])"
   ]
  },
  {
   "cell_type": "code",
   "execution_count": null,
   "metadata": {},
   "outputs": [],
   "source": [
    "# predictor.evaluate(train)"
   ]
  },
  {
   "cell_type": "code",
   "execution_count": 24,
   "metadata": {},
   "outputs": [],
   "source": [
    "train['month'] = train.datetime.dt.month\n",
    "train['day'] = train.datetime.dt.day\n",
    "train['hour'] = train.datetime.dt.hour\n",
    "\n",
    "test['month'] = test.datetime.dt.month\n",
    "test['day'] = test.datetime.dt.day\n",
    "test['hour'] = test.datetime.dt.hour\n",
    "\n",
    "train[\"season\"] = train[\"season\"].astype('category')\n",
    "train[\"weather\"] = train[\"weather\"].astype('category')\n",
    "test[\"season\"] = test[\"season\"].astype('category')\n",
    "test[\"weather\"] = test[\"weather\"].astype('category')"
   ]
  },
  {
   "cell_type": "code",
   "execution_count": null,
   "metadata": {},
   "outputs": [],
   "source": [
    "leaderboard_pred"
   ]
  },
  {
   "cell_type": "code",
   "execution_count": null,
   "metadata": {},
   "outputs": [],
   "source": [
    "leaderboard_pred_new"
   ]
  },
  {
   "cell_type": "code",
   "execution_count": null,
   "metadata": {},
   "outputs": [],
   "source": [
    "leaderboard_pred_newhp"
   ]
  },
  {
   "cell_type": "code",
   "execution_count": 28,
   "metadata": {},
   "outputs": [
    {
     "name": "stdout",
     "output_type": "stream",
     "text": [
      "Top Model, original run: RandomForestMSE_BAG_L1\n",
      "Top Model, new run:      KNeighborsDist_BAG_L1\n",
      "Top Model, newhp run:    LightGBM_BAG_L2/T2\n",
      "------------------------- Train Score -------------------------\n",
      "Top Model, original score: -43.6340108824743\n",
      "Top Model, new score:      -1.7149685218828519\n",
      "Top Model, newhp score:    -33.44115290332426\n",
      "-------------------------- Val Score --------------------------\n",
      "Top Model, original score: -118.45666016795751\n",
      "Top Model, new score:      -119.37260178212154\n",
      "Top Model, newhp score:    -41.331075782404724\n"
     ]
    }
   ],
   "source": [
    "print(f\"Top Model, original run: {leaderboard_pred.iloc[0]['model']}\")\n",
    "print(f\"Top Model, new run:      {leaderboard_pred_new.iloc[0]['model']}\")\n",
    "print(f\"Top Model, newhp run:    {leaderboard_pred_newhp.iloc[0]['model']}\")\n",
    "print(\"-\"*25, \"Train Score\", \"-\"*25)\n",
    "print(f\"Top Model, original score: {leaderboard_pred.iloc[0]['score_test']}\")\n",
    "print(f\"Top Model, new score:      {leaderboard_pred_new.iloc[0]['score_test']}\")\n",
    "print(f\"Top Model, newhp score:    {leaderboard_pred_newhp.iloc[0]['score_test']}\")\n",
    "print(\"-\"*26, \"Val Score\", \"-\"*26)\n",
    "print(f\"Top Model, original score: {leaderboard_pred.iloc[0]['score_val']}\")\n",
    "print(f\"Top Model, new score:      {leaderboard_pred_new.iloc[0]['score_val']}\")\n",
    "print(f\"Top Model, newhp score:    {leaderboard_pred_newhp.iloc[0]['score_val']}\")"
   ]
  },
  {
   "cell_type": "code",
   "execution_count": null,
   "metadata": {},
   "outputs": [],
   "source": [
    "# predictor_new.evaluate(train)\n",
    "\n",
    "# predictor_newhp.evaluate(train)"
   ]
  },
  {
   "cell_type": "markdown",
   "metadata": {},
   "source": [
    "## Step 7: Write a Report\n",
    "### Refer to the markdown file for the full report\n",
    "### Creating plots and table for report"
   ]
  },
  {
   "cell_type": "code",
   "execution_count": 34,
   "metadata": {
    "jupyter": {
     "source_hidden": true
    }
   },
   "outputs": [
    {
     "data": {
      "image/png": "[encoded data removed]",
      "text/plain": [
       "<Figure size 576x432 with 1 Axes>"
      ]
     },
     "metadata": {
      "needs_background": "light"
     },
     "output_type": "display_data"
    }
   ],
   "source": [
    "# Taking the top model score from each training run and creating a line plot to show improvement\n",
    "# You can create these in the notebook and save them to PNG or use some other tool (e.g. google sheets, excel)\n",
    "df = pd.DataFrame(\n",
    "    {\n",
    "        \"model\": [\n",
    "            \"initial\", \n",
    "            \"add_features\", \n",
    "            \"hpo\"\n",
    "        ],\n",
    "        \"score\": [\n",
    "            leaderboard_pred.iloc[0]['score_test'], \n",
    "            leaderboard_pred_new.iloc[0]['score_test'], \n",
    "            leaderboard_pred_newhp.iloc[0]['score_test']\n",
    "        ]\n",
    "    }\n",
    ")\n",
    "\n",
    "fig = df.plot(\n",
    "    x=\"model\",\n",
    "    y=\"score\",\n",
    "    figsize=(8, 6),\n",
    "    title=\"Model Score (Train) vs Autogluon Run\"\n",
    ").get_figure()\n",
    "\n",
    "fig.savefig('./img/model_train_score.png')"
   ]
  },
  {
   "cell_type": "code",
   "execution_count": 31,
   "metadata": {},
   "outputs": [
    {
     "data": {
      "image/png": "[encoded data removed]",
      "text/plain": [
       "<Figure size 576x432 with 1 Axes>"
      ]
     },
     "metadata": {
      "needs_background": "light"
     },
     "output_type": "display_data"
    }
   ],
   "source": [
    "# Taking the top model score from each training run and creating a line plot to show improvement\n",
    "# You can create these in the notebook and save them to PNG or use some other tool (e.g. google sheets, excel)\n",
    "df = pd.DataFrame(\n",
    "    {\n",
    "        \"model\": [\n",
    "            \"initial\", \n",
    "            \"add_features\", \n",
    "            \"hpo\"\n",
    "        ],\n",
    "        \"score\": [\n",
    "            leaderboard_pred.iloc[0]['score_val'], \n",
    "            leaderboard_pred_new.iloc[0]['score_val'], \n",
    "            leaderboard_pred_newhp.iloc[0]['score_val']\n",
    "        ]\n",
    "    }\n",
    ")\n",
    "\n",
    "fig = df.plot(\n",
    "    x=\"model\",\n",
    "    y=\"score\",\n",
    "    figsize=(8, 6),\n",
    "    title=\"Model Score (Val) vs Autogluon Run\"\n",
    ").get_figure()\n",
    "\n",
    "fig.savefig('./img/model_val_score.png')"
   ]
  },
  {
   "cell_type": "code",
   "execution_count": 33,
   "metadata": {},
   "outputs": [
    {
     "data": {
      "image/png": "[encoded data removed]",
      "text/plain": [
       "<Figure size 576x432 with 1 Axes>"
      ]
     },
     "metadata": {
      "needs_background": "light"
     },
     "output_type": "display_data"
    }
   ],
   "source": [
    "# Take the 3 kaggle scores and creating a line plot to show improvement\n",
    "df = pd.DataFrame(\n",
    "    {\n",
    "        \"test_eval\": [\n",
    "            \"initial\", \n",
    "            \"add_features\", \n",
    "            \"hpo\"\n",
    "        ],\n",
    "        \"score\": [\n",
    "            1.37882, \n",
    "            0.51509, \n",
    "            0.50827\n",
    "        ]\n",
    "    }\n",
    ")\n",
    "\n",
    "fig = df.plot(\n",
    "    x=\"test_eval\", \n",
    "    y=\"score\", \n",
    "    figsize=(8, 6),\n",
    "    title=\"Kaggle Score vs Autogluon Run\"\n",
    ").get_figure()\n",
    "\n",
    "fig.savefig('./img/model_test_score.png')"
   ]
  },
  {
   "cell_type": "markdown",
   "metadata": {},
   "source": [
    "### Hyperparameter table"
   ]
  },
  {
   "cell_type": "markdown",
   "metadata": {},
   "source": [
    "|model|hpo1|hpo2|hpo3|score|\n",
    "|--|--|--|--|--|\n",
    "|initial|default values|default values|default values|1.37882|\n",
    "|add_features|default values|default values|default values|0.51509|\n",
    "|hpo|NN 'num_epochs': 10, 'learning_rate': ag.space.Real(1e-4, 1e-2, default=5e-4, log=True), 'activation': ag.space.Categorical('relu', 'softrelu', 'tanh'), 'layers': ag.space.Categorical([100], [1000], [200, 100], [300, 200, 100]), 'dropout_prob': ag.space.Real(0.0, 0.5, default=0.1)|GBM 'num_boost_round': 100, 'num_leaves': ag.space.Int(lower=26, upper=66, default=36)|default vals|0.50827|"
   ]
  }
 ],
 "metadata": {
  "kernelspec": {
   "display_name": "Python 3",
   "language": "python",
   "name": "python3"
  },
  "language_info": {
   "codemirror_mode": {
    "name": "ipython",
    "version": 3
   },
   "file_extension": ".py",
   "mimetype": "text/x-python",
   "name": "python",
   "nbconvert_exporter": "python",
   "pygments_lexer": "ipython3",
   "version": "3.7.6"
  }
 },
 "nbformat": 4,
 "nbformat_minor": 4
}
